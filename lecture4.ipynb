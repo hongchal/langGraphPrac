{
 "cells": [
  {
   "cell_type": "code",
   "execution_count": 1,
   "id": "ce206eb7-6b43-42c2-8cc5-b3b48e80efdd",
   "metadata": {},
   "outputs": [
    {
     "data": {
      "text/plain": [
       "True"
      ]
     },
     "execution_count": 1,
     "metadata": {},
     "output_type": "execute_result"
    }
   ],
   "source": [
    "from dotenv import load_dotenv\n",
    "\n",
    "load_dotenv()"
   ]
  },
  {
   "cell_type": "code",
   "execution_count": 2,
   "id": "e460af68-21f2-426b-9ecb-2ea409a71498",
   "metadata": {},
   "outputs": [],
   "source": [
    "from langchain_chroma import Chroma \n",
    "from langchain_openai import OpenAIEmbeddings \n",
    "\n",
    "embedding_function = OpenAIEmbeddings(model = 'text-embedding-3-large')\n",
    "\n",
    "vector_store = Chroma(\n",
    "    embedding_function=embedding_function,\n",
    "    collection_name='income_tax_collection',\n",
    "    persist_directory='./income_tax_collection'\n",
    ")\n",
    "\n",
    "retriver = vector_store.as_retriever(search_kwargs={'k': 3})"
   ]
  },
  {
   "cell_type": "code",
   "execution_count": 3,
   "id": "1d01c80d-4113-40c5-b71c-90d0eae3235d",
   "metadata": {},
   "outputs": [],
   "source": [
    "from typing_extensions import List, TypedDict\n",
    "from langchain_core.documents import Document \n",
    "from langgraph.graph import StateGraph \n",
    "\n",
    "class AgentState(TypedDict): \n",
    "    query : str \n",
    "    context : List[Document]\n",
    "    answer : str \n",
    "\n",
    "graph_builder = StateGraph(AgentState)"
   ]
  },
  {
   "cell_type": "code",
   "execution_count": 4,
   "id": "0659c994-ca5a-4879-9b31-7d33f85b7d58",
   "metadata": {},
   "outputs": [],
   "source": [
    "def retrive(state: AgentState) -> AgentState:\n",
    "    query = state['query']\n",
    "    docs = retriver.invoke(query)\n",
    "    return {'context': docs}"
   ]
  },
  {
   "cell_type": "code",
   "execution_count": 5,
   "id": "3e0bf229-1309-45be-bb84-b883c4713681",
   "metadata": {},
   "outputs": [],
   "source": [
    "from langchain_openai import ChatOpenAI \n",
    "llm = ChatOpenAI(model='gpt-4o')"
   ]
  },
  {
   "cell_type": "code",
   "execution_count": 6,
   "id": "1364d4e8-964b-4aee-910d-9d8c050fb8b2",
   "metadata": {},
   "outputs": [
    {
     "name": "stderr",
     "output_type": "stream",
     "text": [
      "/Users/robert/Desktop/langGrahpPrac/.venv/lib/python3.13/site-packages/langsmith/client.py:256: LangSmithMissingAPIKeyWarning: API key must be provided when using hosted LangSmith API\n",
      "  warnings.warn(\n"
     ]
    }
   ],
   "source": [
    "from langchain import hub \n",
    "\n",
    "generate_prompt = hub.pull(\"rlm/rag-prompt\")\n",
    "\n",
    "generate_llm = ChatOpenAI(model='gpt-4o', max_completion_tokens=100) \n",
    "\n",
    "def generate(state: AgentState) -> AgentState: \n",
    "    context = state['context']\n",
    "    query = state['query']\n",
    "\n",
    "    rag_chain = generate_prompt | generate_llm\n",
    "\n",
    "    response = rag_chain.invoke({\"question\": query, 'context': context}) \n",
    "\n",
    "    return {'answer': response.content}"
   ]
  },
  {
   "cell_type": "code",
   "execution_count": 7,
   "id": "c6532348-4301-4838-8aca-9f665241ea95",
   "metadata": {},
   "outputs": [
    {
     "name": "stderr",
     "output_type": "stream",
     "text": [
      "/Users/robert/Desktop/langGrahpPrac/.venv/lib/python3.13/site-packages/langsmith/client.py:256: LangSmithMissingAPIKeyWarning: API key must be provided when using hosted LangSmith API\n",
      "  warnings.warn(\n"
     ]
    }
   ],
   "source": [
    "from langchain import hub\n",
    "from typing import Literal\n",
    "\n",
    "doc_relevance_prompt = hub.pull(\"langchain-ai/rag-document-relevance\")\n",
    "\n",
    "def check_doc_relevance(state: AgentState) -> Literal['relevant', 'irrelevant']:\n",
    "    \"\"\"\n",
    "    주어진 state를 기반으로 문서의 관련성을 판단합니다.\n",
    "\n",
    "    Args:\n",
    "        state (AgentState): 사용자의 질문과 문맥을 포함한 에이전트의 현재 state.\n",
    "\n",
    "    Returns:\n",
    "        Literal['relevant', 'irrelevant']: 문서가 관련성이 높으면 'relevant', 그렇지 않으면 'irrelevant'를 반환합니다.\n",
    "    \"\"\"\n",
    "    query = state['query']\n",
    "    context = state['context']\n",
    "\n",
    "    doc_relevance_chain = doc_relevance_prompt | llm\n",
    "    response = doc_relevance_chain.invoke({'question': query, 'documents': context})\n",
    "\n",
    "    if response['Score'] == 1:\n",
    "        # 2.3장과 다르게 `relevant`와 `irrelevant`를 반환합니다\n",
    "        # node를 직접 지정하는 것보다 실제 판단 결과를 리턴하면서 해당 node의 재사용성을 높일 수 있습니다.\n",
    "        return 'relevant'\n",
    "    \n",
    "    return 'irrelevant'"
   ]
  },
  {
   "cell_type": "code",
   "execution_count": 8,
   "id": "57d98541-af54-4bd1-856f-8d7c4d77966a",
   "metadata": {},
   "outputs": [],
   "source": [
    "from langchain_core.prompts import PromptTemplate\n",
    "from langchain_core.output_parsers import StrOutputParser\n",
    "\n",
    "dictionary = ['사람과 관련된 표현 -> 거주자']\n",
    "\n",
    "rewrite_prompt = PromptTemplate.from_template(f\"\"\"\n",
    "사용자의 질문을 보고, 우리의 사전을 참고해서 사용자의 질문을 변경해주세요 \n",
    "사전: {dictionary}                                           \n",
    "질문: {{query}}\n",
    "\"\"\")\n",
    "\n",
    "def rewrite(state: AgentState) -> AgentState:\n",
    "    \"\"\"\n",
    "    사용자의 질문을 사전을 참고하여 변경합니다.\n",
    "\n",
    "    Args:\n",
    "        state (AgentState): 사용자의 질문을 포함한 에이전트의 현재 state.\n",
    "\n",
    "    Returns:\n",
    "        AgentState: 변경된 질문을 포함하는 state를 반환합니다.\n",
    "    \"\"\"\n",
    "    query = state['query']\n",
    "    rewrite_chain = rewrite_prompt | llm | StrOutputParser()\n",
    "\n",
    "    response = rewrite_chain.invoke({'query': query})\n",
    "    return {'query': response}\n"
   ]
  },
  {
   "cell_type": "code",
   "execution_count": 9,
   "id": "353636f7-7ada-40ab-9215-290cebdaba55",
   "metadata": {},
   "outputs": [],
   "source": [
    "from langchain import hub \n",
    "\n",
    "# hallucination_prompt = hub.pull(\"langchain-ai/rag-answer-hallucination\")\n",
    "\n",
    "hallucination_prompt = PromptTemplate.from_template(\"\"\"\n",
    "You are a teacher tasked with evaluating whether a student's answer is based on documents or not,\n",
    "Given documents, which are excerpts from income tax law, and a student's answer;\n",
    "If the student's answer is based on documents, respond with \"not hallucinated\",\n",
    "If the student's answer is not based on documents, respond with \"hallucinated\".\n",
    "\n",
    "documents: {documents}\n",
    "student_answer: {student_answer}\n",
    "\"\"\")\n",
    "\n",
    "hallucination_llm = ChatOpenAI(model='gpt-4o', temperature=0)\n",
    "\n",
    "def check_halluciantion(state: AgentState) -> Literal['hallucinated', 'not hallucinated'] : \n",
    "# def check_halluciantion(state: AgentState) : \n",
    "    answer = state['answer']\n",
    "    context = state['context'] \n",
    "\n",
    "    context = [doc.page_content for doc in context]\n",
    "\n",
    "    hallucination_chain = hallucination_prompt | hallucination_llm | StrOutputParser()\n",
    "    # hallucination_chain = hallucination_prompt | hallucination_llm \n",
    "    \n",
    "    response = hallucination_chain.invoke({\n",
    "        'student_answer': answer, \n",
    "        'documents': context\n",
    "    })\n",
    "\n",
    "    return response \n",
    "    "
   ]
  },
  {
   "cell_type": "code",
   "execution_count": 10,
   "id": "4105ace3-c81b-4ab1-881a-58219ab8f086",
   "metadata": {},
   "outputs": [
    {
     "name": "stdout",
     "output_type": "stream",
     "text": [
      "{'answer': '연봉 6천만 원인 거주자의 소득세는 624만 원 + (6천만 원을 초과하는 금액의 24퍼센트)입니다. 따라서, 초과 금액인 1천만 원에 대해 24%를 적용하여 계산하면, 추가적인 소득세는 240만 원이 됩니다. 총 소득세는 864만 원입니다.'}\n"
     ]
    },
    {
     "data": {
      "text/plain": [
       "'not hallucinated'"
      ]
     },
     "execution_count": 10,
     "metadata": {},
     "output_type": "execute_result"
    }
   ],
   "source": [
    "query = \"연봉 6천만원인 거주자의 소득세는?\"\n",
    "retrive_context = {\n",
    "    'query' : query \n",
    "}\n",
    "\n",
    "context = retrive(retrive_context)['context']\n",
    "\n",
    "generate_state = {\n",
    "    'query' : query,\n",
    "    'context': context \n",
    "}\n",
    "\n",
    "answer = generate(generate_state)\n",
    "\n",
    "print(answer)\n",
    "\n",
    "hallucination_state = {\n",
    "    'answer' : answer, \n",
    "    'context' : context \n",
    "}\n",
    "\n",
    "check_halluciantion(hallucination_state)\n"
   ]
  },
  {
   "cell_type": "code",
   "execution_count": 11,
   "id": "905a1836-6f32-42a8-b4ad-d1876f48e6fc",
   "metadata": {},
   "outputs": [
    {
     "name": "stderr",
     "output_type": "stream",
     "text": [
      "/Users/robert/Desktop/langGrahpPrac/.venv/lib/python3.13/site-packages/langsmith/client.py:256: LangSmithMissingAPIKeyWarning: API key must be provided when using hosted LangSmith API\n",
      "  warnings.warn(\n"
     ]
    }
   ],
   "source": [
    "helpfulness_prompt = hub.pull(\"langchain-ai/rag-answer-helpfulness\")\n",
    "\n",
    "def check_helpfulness_grader(state: AgentState) -> Literal['helpful', 'unhelpful']: \n",
    "    query = state['query']\n",
    "    answer = state['answer'] \n",
    "\n",
    "    helpfulness_chain = helpfulness_prompt | llm \n",
    "\n",
    "    response = helpfulness_chain.invoke({\n",
    "        'question': query, \n",
    "        'student_answer': answer\n",
    "    })\n",
    "\n",
    "    if response['Score'] == 1:\n",
    "        return 'helpful'\n",
    "\n",
    "    return 'unhelpful'\n",
    "\n",
    "def check_helpfulness(state: AgentState) -> AgentState: \n",
    "    return state \n",
    "    "
   ]
  },
  {
   "cell_type": "code",
   "execution_count": 12,
   "id": "60e69f78-748b-4440-b309-c9f7e370f29d",
   "metadata": {},
   "outputs": [
    {
     "data": {
      "text/plain": [
       "'helpful'"
      ]
     },
     "execution_count": 12,
     "metadata": {},
     "output_type": "execute_result"
    }
   ],
   "source": [
    "query = \"연봉 6천만원인 거주자의 소득세는?\"\n",
    "retrive_context = {\n",
    "    'query' : query \n",
    "}\n",
    "\n",
    "context = retrive(retrive_context)['context']\n",
    "\n",
    "generate_state = {\n",
    "    'query' : query,\n",
    "    'context': context \n",
    "}\n",
    "\n",
    "answer = generate(generate_state)\n",
    "\n",
    "helpfulness_state = {\n",
    "    'query': query,\n",
    "    'answer': answer\n",
    "}\n",
    "\n",
    "check_helpfulness_grader(helpfulness_state)"
   ]
  },
  {
   "cell_type": "code",
   "execution_count": null,
   "id": "1f1f2595-8515-419f-9fad-720925d7de0d",
   "metadata": {},
   "outputs": [],
   "source": []
  },
  {
   "cell_type": "code",
   "execution_count": 13,
   "id": "13437799-10f0-49bc-891b-92fb542eef09",
   "metadata": {},
   "outputs": [
    {
     "data": {
      "text/plain": [
       "<langgraph.graph.state.StateGraph at 0x12090e270>"
      ]
     },
     "execution_count": 13,
     "metadata": {},
     "output_type": "execute_result"
    }
   ],
   "source": [
    "graph_builder.add_node('retrieve', retrive)\n",
    "graph_builder.add_node('generate', generate)\n",
    "graph_builder.add_node('rewrite', rewrite)\n",
    "graph_builder.add_node('check_helpfulness', check_helpfulness)"
   ]
  },
  {
   "cell_type": "code",
   "execution_count": 14,
   "id": "5c4a9f71-0eac-4880-b7d4-39a96eaaacfc",
   "metadata": {},
   "outputs": [
    {
     "data": {
      "text/plain": [
       "<langgraph.graph.state.StateGraph at 0x12090e270>"
      ]
     },
     "execution_count": 14,
     "metadata": {},
     "output_type": "execute_result"
    }
   ],
   "source": [
    "from langgraph.graph import START, END\n",
    "\n",
    "graph_builder.add_edge(START, 'retrieve')\n",
    "graph_builder.add_conditional_edges(\n",
    "    'retrieve',\n",
    "    check_doc_relevance, \n",
    "    {\n",
    "        'relevant': 'generate',\n",
    "        'irrelevant': END\n",
    "    }\n",
    ")\n",
    "graph_builder.add_conditional_edges(\n",
    "    'generate',\n",
    "    check_halluciantion,\n",
    "    {\n",
    "        'not hallucinated': 'check_helpfulness',\n",
    "        'hallucinated': 'generate'\n",
    "    }\n",
    ")\n",
    "\n",
    "graph_builder.add_conditional_edges(\n",
    "    'check_helpfulness',\n",
    "    check_helpfulness_grader,\n",
    "    {\n",
    "        'helpful': END,\n",
    "        'unhelpful': 'rewrite'\n",
    "    }\n",
    ")\n",
    "graph_builder.add_edge('rewrite', 'retrieve')"
   ]
  },
  {
   "cell_type": "code",
   "execution_count": 15,
   "id": "bcaa8758-e582-42fe-bdcd-a48eddca0386",
   "metadata": {},
   "outputs": [],
   "source": [
    "graph = graph_builder.compile()"
   ]
  },
  {
   "cell_type": "code",
   "execution_count": 16,
   "id": "61def612-120c-4c43-a30c-03e20ac11db3",
   "metadata": {},
   "outputs": [
    {
     "data": {
      "image/png": "[encoded data removed]",
      "text/plain": [
       "<IPython.core.display.Image object>"
      ]
     },
     "metadata": {},
     "output_type": "display_data"
    }
   ],
   "source": [
    "from IPython.display import Image, display\n",
    "\n",
    "display(Image(graph.get_graph().draw_mermaid_png()))"
   ]
  },
  {
   "cell_type": "code",
   "execution_count": 17,
   "id": "0c5655df-3b61-412d-a677-72844fc0ca2e",
   "metadata": {},
   "outputs": [
    {
     "data": {
      "text/plain": [
       "{'query': '연봉 5천만원인 거주자가 납부해야 하는 소득세는 얼마인가요?',\n",
       " 'context': [Document(metadata={'source': './documents/income_tax.txt'}, page_content='| 1,400만원 초과     | 84만원 + (1,400만원을 초과하는 금액의 15퍼센트)                    |\\n| 5,000만원 이하     | 624만원 + (5,000만원을 초과하는 금액의 24퍼센트)                  |\\n| 8,800만원 이하     | 1,536만원 + (8,800만원을 초과하는 금액의 35퍼센트)                |\\n| 1억5천만원 이하    | 3,706만원 + (1억5천만원을 초과하는 금액의 38퍼센트)                |\\n| 3억원 이하        | 9,406만원 + (3억원을 초과하는 금액의 40퍼센트)                    |\\n| 5억원 이하        | 1억7,406만원 + (5억원을 초과하는 금액의 42퍼센트)                 |\\n| 10억원 이하       | 3억3,406만원 + (10억원을 초과하는 금액의 45퍼센트)                |\\n법제처 35 국가법령정보센터\\n소득세법\\n② 거주자의 퇴직소득에 대한 소득세는 다음 각 호의 순서에 따라 계산한 금액(이하 \"퇴직소득 산출세액\"이라 한다)으로 한다. <개정 2013. 1. 1, 2014. 12. 23.>\\n   1. 해당 과세기간의 퇴직소득과세표준에 제11항의 세율을 적용하여 계산한 금액\\n   2. 제1호의 금액을 12로 나눈 금액에 근속연수를 곱한 금액\\n   3. 삭제 <2014. 12. 23.>\\n   [전문개정 2009. 12. 31.]\\n제2관 세액공제 <개정 2009. 12. 31.>\\n제56조(배당세액공제) ① 거주자의 종합소득금액에 제17조제3항 각 호 외의 부분 단서가 적용되는 배당소득금액이 합산되어 있는 경우에는 같은 항 각 호 외의 부분 단서에 따라 해당 과세기간의 총수입금액에 대한 금액에 해당하는 금액을 종합소득 산출세액에서 공제한다. <개정 2009. 12. 31.>\\n   1. 제1항에 따른 공제를 \"배당세액공제\"라 한다. <개정 2009. 12. 31.>\\n   2. 삭제 <2006. 12. 30.>\\n   3. 제1항을 적용할 때 배당세액공제의 대상이 되는 배당소득금액은 제14조제3항의 종합소득과세표준에 포함된 배당소득금액으로서 이자소득 등의 종합과세기준금액을 초과하는 것으로 한한다. <개정 2009. 12. 31.>\\n② 삭제 <2006. 12. 30.>\\n③ 배당세액공제액의 계산 등에 필요한 사항은 대통령령으로 정한다. <개정 2009. 12. 31.>\\n   [제목개정 2009. 12. 31.]'),\n",
       "  Document(metadata={'source': './documents/income_tax.txt'}, page_content='③ 제50조제1항제13호 및 제59조의2에 따라 적용대상 나이가 정해진 경우에는 제4항 본문에도 불구하고 해당 과세기간 과세기간 중에 해당 나이에 해당되는 날이 있는 경우에 공제대상자로 본다.<개정 2014. 1. 1.>\\n소득세법\\n[전문개정 2009. 12. 31.]\\n제54조(종합소득공제 등의 배제) ① 분리과세이자소득, 분리과세배당소득, 분리과세퇴직금소득과 분리과세기타소득만이 있는 자에 대해서는 종합소득공제를 적용하지 아니한다. <개정 2013. 1. 1.>\\n② 제70조제1항, 제70조의2제1항 또는 제74조에 따라 과세표준확정신고를 하여야 할 자가 제70조제4항제1호에 따른 서류를 제출하지 아니한 경우에는 기본공제 중 거주자 본인에 대한 분(欒)과 제95조제4항에 따른 표준세액공제만을 공제한다. 다만, 과세표준확정신고와 아무 관련이 없이 그 서류를 나중에 제출한 경우에는 그러하지 아니하다. <개정 2013. 1. 1.>\\n③ 제20조에 따른 수사부과 결정의 경우에는 기본공제 중 거주자 본인에 대한 분(欒)만을 공제한다. \\n[전문개정 2014. 1. 1.] \\n[제목개정 2014. 1. 1.]\\n제54조의2(공동사업에 대한 소득공제 등 특례) 제51조의3 또는 「조세특례제한법」에 따른 소득공제를 적용하거나 제59조의3에 따른 세액공제를 적용하는 경우 제54조제3항에 따라 소득금액이 주된 공동사업자의 소득금액에 합산과세되는 특수관계인이 지출·납입·투자·출자 등을 한 금액이 있으며 주된 공동사업자의 소득에 합산과세되는 소득금액의 한도에서 주된 공동사업자가 지출·납입·투자·출자 등을 한 금액으로 보아 주된 공동사업자의 합산과세되는 종합소득금액 또는 종합소득산출세액을 계산할 때에 소득공제 또는 세액공제를 받을 수 있다. <개정 2012. 1. 1., 2014. 1. 1.>\\n[전문개정 2009. 12. 31.] \\n[제목개정 2014. 1. 1.]\\n제4절 세액의 계산 <개정 2009. 12. 31.>\\n제1관 세율 <개정 2009. 12. 31.>\\n제55조(세율) ①거주자의 종합소득에 대한 소득세는 해당 연도의 종합소득과세표준에 다음의 세율을 적용하여 계산한 금액(이하 \"종합소득산출세액\"이라 한다)을 그 세액으로 한다. <개정 2014. 1. 1., 2016. 12. 20., 2017. 12. 19., 2020. 12. 29., 2022. 12. 31.>\\n| 과세표준          | 세 율                                                              |\\n|-------------------|------------------------------------------------------------------|\\n| 1,400만원 이하     | 과세표준의 6퍼센트                                               |\\n| 1,400만원 초과     | 84만원 + (1,400만원을 초과하는 금액의 15퍼센트)                    |'),\n",
       "  Document(metadata={'source': './documents/income_tax.txt'}, page_content='② 제127조제1항제6호가목의 소득에 대한 결정세액은 해당 기타소득금액(이하 \"가산자산소득금액이라 한다)에서 250만원을 뺀 금액에 100분의 20을 곱하여 계산한 금액으로 한다. <신설 2020. 12. 29>\\n[본조신설 2019. 12. 31]\\n[시행일: 2027. 1. 1] 제64조의3제2항\\n법제처 45 국가법령정보센터\\n소득세법\\n제64조의4(연금소득에 대한 세액 계산의 특례) 제20조의3제1항제2호 및 제3호에 따른 연금소득 중 분리과세연금소득 외의 연금소득이 있는 거주자의 종합소득 결정세액은 다음 각 호의 세액 중 하나를 선택하여 적용한다.\\n1. 종합소득 결정세액\\n2. 다음 각 목의 세액을 더한 금액\\n   가. 제20조의3제1항제2호 및 제3호에 따른 연금소득 중 분리과세연금소득 외의 연금소득에 100분의 15를 곱하여 산출한 금액\\n   나. 가목 외의 종합소득 결정세액\\n[본조신설 2022. 12. 31.]\\n제6절 중간예납ㆍ예정신고 및 세액 납부 <개정 2009. 12. 31.>\\n제1관 중간예납 <개정 2009. 12. 31.>\\n제65조(중간예납) ① 납세지 관할 세무서장은 종합소득이 있는 거주자(대통령령으로 정하는 소득만이 있는 자와 해당 과세기간에 개시일 현재 사업자가 아닌 자로서 그 과세기간 중 신규로 사업을 시작한 자는 제외한다. 이하 이 조에서 같다)에 대하여 1월 1일부터 6월 30일까지의 기간을 중간예납기간으로 하여 직전 과세기간의 종합소득에 대한 소득세로서 납부하였거나 납부하여야 할 세액(이하 “중간예납기준액”이라 한다)의 2분의 1에 해당하는 금액(이하 “중간예납세액”이라 하고, 1천원 미만 단수가 있을 때에는 그 단수금액은 반올림하여 산출한 세액으로 결정하여 11월 30일까지 그 세액을 징수하여야 한다. 이 경우 납세지 관할 세무서장은 중간예납세액을 납부하여야 할 거주자에게 11월 1일부터 11월 15일까지의 기간에 중간예납세액의 납부고지서를 발급하여야 한다. <개정 2013. 1. 1., 2020. 12. 29.>\\n② 제1항에 따라 고지된 중간예납세액을 납부하여야 할 거주자가 11월 30일까지 그 세액의 전부 또는 일부를 납부하지 아니한 경우에는 납부하지 아니한 세액 중 제77조에 따라 분할납부할 수 있는 세액에 대하여는 납부의 고지가 없었던 것으로 보고, 납세지 관할 세무서장은 국세징수법에 따라 다음 연도 1월부터 1월 15일까지의 기간에 분할납부할 수 있는 세액을 납부할 세액으로 하는 납부고지서를 발급하여야 한다.<개정 2012. 1. 1., 2020. 12. 29.>\\n③ 종합소득이 있는 거주자가 중간예납기간의 종료일 현재 그 중간예납기간의 종합소득금액에 대한 소득세액(이하 “중간예납추계액”이라 한다)이 중간예납기준액의 100분의 30에 미치지 않는 경우에는 11월 1일부터 11월 30일까지의 기간에 대통령령으로 정하는 바에 따라 중간예납추계액을 중간예납세액으로 하여 납세지 관할 세무서장에게 신고할 수 있다.')],\n",
       " 'answer': '연봉 5천만원인 거주자가 납부해야 하는 소득세는 624만원입니다.'}"
      ]
     },
     "execution_count": 17,
     "metadata": {},
     "output_type": "execute_result"
    }
   ],
   "source": [
    "initial_state = {'query': '연봉 5천만원인 거주자가 납부해야 하는 소득세는 얼마인가요?'}\n",
    "graph.invoke(initial_state)"
   ]
  },
  {
   "cell_type": "code",
   "execution_count": null,
   "id": "9b4e5ff6-74ec-45f5-b548-378318549a21",
   "metadata": {},
   "outputs": [],
   "source": []
  }
 ],
 "metadata": {
  "kernelspec": {
   "display_name": ".venv",
   "language": "python",
   "name": "python3"
  },
  "language_info": {
   "codemirror_mode": {
    "name": "ipython",
    "version": 3
   },
   "file_extension": ".py",
   "mimetype": "text/x-python",
   "name": "python",
   "nbconvert_exporter": "python",
   "pygments_lexer": "ipython3",
   "version": "3.13.3"
  }
 },
 "nbformat": 4,
 "nbformat_minor": 5
}
