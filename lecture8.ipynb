{
 "cells": [
  {
   "cell_type": "code",
   "execution_count": 1,
   "metadata": {},
   "outputs": [
    {
     "data": {
      "text/plain": [
       "True"
      ]
     },
     "execution_count": 1,
     "metadata": {},
     "output_type": "execute_result"
    }
   ],
   "source": [
    "from dotenv import load_dotenv\n",
    "\n",
    "load_dotenv()"
   ]
  },
  {
   "cell_type": "code",
   "execution_count": 2,
   "metadata": {},
   "outputs": [],
   "source": [
    "from langchain_openai import ChatOpenAI\n",
    "\n",
    "llm = ChatOpenAI(model='gpt-4o')\n",
    "small_llm = ChatOpenAI(model='gpt-4o-mini')\n"
   ]
  },
  {
   "cell_type": "code",
   "execution_count": 3,
   "metadata": {},
   "outputs": [],
   "source": [
    "from typing_extensions import TypedDict\n",
    "from langgraph.graph import StateGraph \n",
    "\n",
    "\n",
    "class AgentState(TypedDict):\n",
    "    query: str\n",
    "    context: list \n",
    "    answer: str \n",
    "\n",
    "graph_builder = StateGraph(AgentState)"
   ]
  },
  {
   "cell_type": "code",
   "execution_count": 4,
   "metadata": {},
   "outputs": [],
   "source": [
    "from langchain_core.prompts import ChatPromptTemplate \n",
    "from pydantic import BaseModel, Field\n",
    "from typing import Literal \n",
    "\n",
    "\n",
    "class Route(BaseModel):\n",
    "    target: Literal['income_tax', 'llm', 'real_estate_tax'] = Field(\n",
    "        description='the target for the query to answer'\n",
    "    )\n",
    "\n",
    "router_system_prompt = \"\"\"\n",
    "you are an expert at routing a user's questions to 'income_tax', 'llm', or 'real_estate_tax'.\n",
    "'income_tax' contains information about income tax up to December 2024. \n",
    "'real_estate_tax' contains inforamtion about real estate tax up to December 2024.\n",
    "if you think the question is not related to either 'income_tax' or 'real_estate_tax'\n",
    "you can route it to 'llm'.\n",
    "\"\"\"\n",
    "\n",
    "route_prompt = ChatPromptTemplate.from_messages([\n",
    "    ('system', router_system_prompt),\n",
    "    ('human', '{query}')\n",
    "])\n",
    "\n",
    "structured_route_llm = small_llm.with_structured_output(Route)\n",
    "\n",
    "def router(state: AgentState) -> Literal['income_tax', 'llm', 'real_estate_tax']:\n",
    "    query = state['query']\n",
    "    route_chain = route_prompt | structured_route_llm \n",
    "    route = route_chain.invoke(query)\n",
    "    return route.target\n",
    "\n"
   ]
  },
  {
   "cell_type": "code",
   "execution_count": 5,
   "metadata": {},
   "outputs": [],
   "source": [
    "from langchain_core.output_parsers import StrOutputParser\n",
    "\n",
    "def call_llm(state: AgentState) -> AgentState:\n",
    "    query = state['query']\n",
    "\n",
    "    llm_chain = small_llm | StrOutputParser()\n",
    "    llm_answer = llm_chain.invoke(query)\n",
    "    return {'answer': llm_answer}\n",
    "\n"
   ]
  },
  {
   "cell_type": "code",
   "execution_count": 6,
   "metadata": {},
   "outputs": [
    {
     "name": "stderr",
     "output_type": "stream",
     "text": [
      "/Users/robert/Desktop/langGrahpPrac/.venv/lib/python3.13/site-packages/langsmith/client.py:256: LangSmithMissingAPIKeyWarning: API key must be provided when using hosted LangSmith API\n",
      "  warnings.warn(\n",
      "/Users/robert/Desktop/langGrahpPrac/.venv/lib/python3.13/site-packages/langsmith/client.py:256: LangSmithMissingAPIKeyWarning: API key must be provided when using hosted LangSmith API\n",
      "  warnings.warn(\n",
      "/Users/robert/Desktop/langGrahpPrac/.venv/lib/python3.13/site-packages/langsmith/client.py:256: LangSmithMissingAPIKeyWarning: API key must be provided when using hosted LangSmith API\n",
      "  warnings.warn(\n",
      "/Users/robert/Desktop/langGrahpPrac/.venv/lib/python3.13/site-packages/langsmith/client.py:256: LangSmithMissingAPIKeyWarning: API key must be provided when using hosted LangSmith API\n",
      "  warnings.warn(\n"
     ]
    },
    {
     "data": {
      "text/plain": [
       "<langgraph.graph.state.StateGraph at 0x146685010>"
      ]
     },
     "execution_count": 6,
     "metadata": {},
     "output_type": "execute_result"
    }
   ],
   "source": [
    "from income_tax_graph import graph as income_tax_agent\n",
    "from real_estate_tax_graph import graph as real_estate_agent\n",
    "\n",
    "graph_builder.add_node('income_tax', income_tax_agent)\n",
    "graph_builder.add_node('real_estate_tax', real_estate_agent)\n",
    "graph_builder.add_node('llm', call_llm)\n"
   ]
  },
  {
   "cell_type": "code",
   "execution_count": 7,
   "metadata": {},
   "outputs": [],
   "source": [
    "from langgraph.graph import START, END\n",
    "\n",
    "graph_builder.add_conditional_edges(\n",
    "    START, \n",
    "    router,\n",
    "    {\n",
    "        'income_tax': 'income_tax',\n",
    "        'real_estate_tax': 'real_estate_tax',\n",
    "        'llm': 'llm'\n",
    "    }\n",
    ")\n",
    "\n",
    "graph_builder.add_edge(\n",
    "    'income_tax',\n",
    "    END\n",
    ")\n",
    "\n",
    "graph_builder.add_edge(\n",
    "    'real_estate_tax',\n",
    "    END\n",
    ")\n",
    "\n",
    "graph_builder.add_edge(\n",
    "    'llm',\n",
    "    END\n",
    ")\n",
    "\n",
    "graph = graph_builder.compile()\n"
   ]
  },
  {
   "cell_type": "code",
   "execution_count": 8,
   "metadata": {},
   "outputs": [
    {
     "name": "stdout",
     "output_type": "stream",
     "text": [
      "                   +-----------+                        \n",
      "                   | __start__ |                        \n",
      "                   +-----------+..                      \n",
      "               ....       .       ...                   \n",
      "            ...          .           ...                \n",
      "          ..             .              ..              \n",
      "+------------+       +-----+       +-----------------+  \n",
      "| income_tax |       | llm |       | real_estate_tax |  \n",
      "+------------+*      +-----+       +-----------------+  \n",
      "               ****      *        ***                   \n",
      "                   ***    *    ***                      \n",
      "                      **  *  **                         \n",
      "                    +---------+                         \n",
      "                    | __end__ |                         \n",
      "                    +---------+                         \n"
     ]
    }
   ],
   "source": [
    "graph.get_graph().print_ascii()"
   ]
  },
  {
   "cell_type": "code",
   "execution_count": 9,
   "metadata": {},
   "outputs": [
    {
     "data": {
      "text/plain": [
       "{'query': '소득세란 무엇인가요?',\n",
       " 'context': [Document(metadata={'source': './documents/income_tax.txt'}, page_content='| 1,400만원 초과     | 84만원 + (1,400만원을 초과하는 금액의 15퍼센트)                    |\\n| 5,000만원 이하     | 624만원 + (5,000만원을 초과하는 금액의 24퍼센트)                  |\\n| 8,800만원 이하     | 1,536만원 + (8,800만원을 초과하는 금액의 35퍼센트)                |\\n| 1억5천만원 이하    | 3,706만원 + (1억5천만원을 초과하는 금액의 38퍼센트)                |\\n| 3억원 이하        | 9,406만원 + (3억원을 초과하는 금액의 40퍼센트)                    |\\n| 5억원 이하        | 1억7,406만원 + (5억원을 초과하는 금액의 42퍼센트)                 |\\n| 10억원 이하       | 3억3,406만원 + (10억원을 초과하는 금액의 45퍼센트)                |\\n법제처 35 국가법령정보센터\\n소득세법\\n② 거주자의 퇴직소득에 대한 소득세는 다음 각 호의 순서에 따라 계산한 금액(이하 \"퇴직소득 산출세액\"이라 한다)으로 한다. <개정 2013. 1. 1, 2014. 12. 23.>\\n   1. 해당 과세기간의 퇴직소득과세표준에 제11항의 세율을 적용하여 계산한 금액\\n   2. 제1호의 금액을 12로 나눈 금액에 근속연수를 곱한 금액\\n   3. 삭제 <2014. 12. 23.>\\n   [전문개정 2009. 12. 31.]\\n제2관 세액공제 <개정 2009. 12. 31.>\\n제56조(배당세액공제) ① 거주자의 종합소득금액에 제17조제3항 각 호 외의 부분 단서가 적용되는 배당소득금액이 합산되어 있는 경우에는 같은 항 각 호 외의 부분 단서에 따라 해당 과세기간의 총수입금액에 대한 금액에 해당하는 금액을 종합소득 산출세액에서 공제한다. <개정 2009. 12. 31.>\\n   1. 제1항에 따른 공제를 \"배당세액공제\"라 한다. <개정 2009. 12. 31.>\\n   2. 삭제 <2006. 12. 30.>\\n   3. 제1항을 적용할 때 배당세액공제의 대상이 되는 배당소득금액은 제14조제3항의 종합소득과세표준에 포함된 배당소득금액으로서 이자소득 등의 종합과세기준금액을 초과하는 것으로 한한다. <개정 2009. 12. 31.>\\n② 삭제 <2006. 12. 30.>\\n③ 배당세액공제액의 계산 등에 필요한 사항은 대통령령으로 정한다. <개정 2009. 12. 31.>\\n   [제목개정 2009. 12. 31.]'),\n",
       "  Document(metadata={'source': './documents/income_tax.txt'}, page_content='소득세법\\n[시행 2025. 1. 1.] [법률 제20615호, 2024. 12. 31., 일부개정]\\n기획재정부 (재산세제과(양도소득세)) 044-215-4312\\n기획재정부 (소득세제과(근로소득)) 044-215-4216\\n기획재정부 (금융세제과(이자소득, 배당소득)) 044-215-4233\\n기획재정부 (소득세제과(사업소득, 기타소득)) 044-215-4217\\n제1장 총칙 <개정 2009. 12. 31.>\\n제1조(목적) 이 법은 개인의 소득에 대하여 소득의 성격과 납세자의 납세지와 부담능력 등에 따라 적정하게 과세함으로써 조세부담의 형평을 도모하고 재정수입의 원활한 조달에 이바지함을 목적으로 한다. \\n[본조신설 2009. 12. 31.] \\n[종전 제1조는 제2조로 이동 <2009. 12. 31.>]\\n제2조(정의) ① 이 법에서 사용하는 용어의 뜻은 다음과 같다. <개정 2010. 12. 27., 2014. 12. 23., 2018. 12. 31.>\\n1. “거주자”란 국내에 주소를 두거나 183일 이상의 거소(居所)를 둔 개인을 말한다.\\n2. “비거주자”란 거주자가 아닌 개인을 말한다.\\n3. “내국법인”이란 「법인세법」 제2조제1호에 따른 내국법인을 말한다.\\n4. “외국법인”이란 「법인세법」 제2조제3호에 따른 외국법인을 말한다.\\n5. “사업자”란 사업소득이 있는 거주자를 말한다.\\n② 제1항에 따른 주소·거소와 거주자·비거주자의 구분은 대통령령으로 정한다.\\n[본조신설 2009. 12. 31.]\\n제2조의2(납세의무) ① 다음 각 호의 어느 하나에 해당하는 개인은 이 법에 따라 각자의 소득에 대한 소득세를 납부할 의무를 진다.\\n1. 거주자\\n2. 비거주자로서 국내원천소득(國內源泉所得)이 있는 개인\\n② 다음 각 호의 어느 하나에 해당하는 자는 이 법에 따라 원천징수한 소득세를 납부할 의무를 진다.\\n1. 거주자\\n2. 비거주자\\n3. 내국법인\\n4. 외국법인의 국내지점 또는 국내영업소(출장소, 그 밖에 이에 준하는 것을 포함한다. 이하 같다)\\n5. 그 밖에 이 법에서 정하는 원천징수의무자\\n③ 「국세기본법」 제13조제1항에 따라 법인 아닌 단체 중 같은 조 제4항에 따른 법인으로 보는 단체(이하 “법인으로 보는 단체”라 한다) 외의 법인 아닌 단체는 국내에 주사무소 또는 사업의 실질적 관리장소를 둔 경우에는 1거주자로, 그 밖의 경우에는 1비거주자로 보아 이 법을 적용한다. 다만, 다음 각 호의 어느 하나에 해당하는 경우에는 소득구분에 따라 해당 단체의 각 구성원별로 이 법 또는 「법인세법」에 따라 소득세 또는 법인세를 법인세법에 따라 주무관청의 승인을 받아 각 구성원별로 이 법 또는 「법인세법」에 따라 소득세 또는 법인세를 납부할 의무를 진다.<개정 2010. 12. 27., 2013. 1. 1., 2018. 12. 31.>\\n1. 구성원 간 이익의 분배비율이 정하여져 있고 해당 구성원별로 이익의 분배비율이 확인되는 경우\\n2. 구성원 간 이익의 분배비율이 정하여져 있지 아니하거나 사실상 구성원별로 이익의 분배비율이 확인되는 경우'),\n",
       "  Document(metadata={'source': './documents/income_tax.txt'}, page_content='종합소득과세표준 = (종간예납기간의 종합소득금액 × 2) - 이월결손금 - 종합소득공제\\n종합소득 산출세액 = 종합소득 과세표준 × 기본세율\\n3.')],\n",
       " 'answer': '소득세는 개인의 소득에 대하여 과세하는 세금으로, 소득의 성격과 납세자의 납세지 및 부담 능력에 따라 적정하게 부과됩니다. 이는 조세 부담의 형평을 도모하고 국가 재정 수입을 원활하게 조달하는 것을 목적으로 합니다. 소득세는 거주자와 비거주자의 소득에 따라 납부 의무가 있으며, 다양한 소득'}"
      ]
     },
     "execution_count": 9,
     "metadata": {},
     "output_type": "execute_result"
    }
   ],
   "source": [
    "initial_state = {'query': '소득세란 무엇인가요?'}\n",
    "graph.invoke(initial_state)"
   ]
  },
  {
   "cell_type": "code",
   "execution_count": 10,
   "metadata": {},
   "outputs": [
    {
     "data": {
      "text/plain": [
       "{'query': '종합소득세란 무엇인가요?',\n",
       " 'context': [Document(metadata={'source': './documents/income_tax.txt'}, page_content='종합소득과세표준 = (종간예납기간의 종합소득금액 × 2) - 이월결손금 - 종합소득공제\\n종합소득 산출세액 = 종합소득 과세표준 × 기본세율\\n3.'),\n",
       "  Document(metadata={'source': './documents/income_tax.txt'}, page_content='| 1,400만원 초과     | 84만원 + (1,400만원을 초과하는 금액의 15퍼센트)                    |\\n| 5,000만원 이하     | 624만원 + (5,000만원을 초과하는 금액의 24퍼센트)                  |\\n| 8,800만원 이하     | 1,536만원 + (8,800만원을 초과하는 금액의 35퍼센트)                |\\n| 1억5천만원 이하    | 3,706만원 + (1억5천만원을 초과하는 금액의 38퍼센트)                |\\n| 3억원 이하        | 9,406만원 + (3억원을 초과하는 금액의 40퍼센트)                    |\\n| 5억원 이하        | 1억7,406만원 + (5억원을 초과하는 금액의 42퍼센트)                 |\\n| 10억원 이하       | 3억3,406만원 + (10억원을 초과하는 금액의 45퍼센트)                |\\n법제처 35 국가법령정보센터\\n소득세법\\n② 거주자의 퇴직소득에 대한 소득세는 다음 각 호의 순서에 따라 계산한 금액(이하 \"퇴직소득 산출세액\"이라 한다)으로 한다. <개정 2013. 1. 1, 2014. 12. 23.>\\n   1. 해당 과세기간의 퇴직소득과세표준에 제11항의 세율을 적용하여 계산한 금액\\n   2. 제1호의 금액을 12로 나눈 금액에 근속연수를 곱한 금액\\n   3. 삭제 <2014. 12. 23.>\\n   [전문개정 2009. 12. 31.]\\n제2관 세액공제 <개정 2009. 12. 31.>\\n제56조(배당세액공제) ① 거주자의 종합소득금액에 제17조제3항 각 호 외의 부분 단서가 적용되는 배당소득금액이 합산되어 있는 경우에는 같은 항 각 호 외의 부분 단서에 따라 해당 과세기간의 총수입금액에 대한 금액에 해당하는 금액을 종합소득 산출세액에서 공제한다. <개정 2009. 12. 31.>\\n   1. 제1항에 따른 공제를 \"배당세액공제\"라 한다. <개정 2009. 12. 31.>\\n   2. 삭제 <2006. 12. 30.>\\n   3. 제1항을 적용할 때 배당세액공제의 대상이 되는 배당소득금액은 제14조제3항의 종합소득과세표준에 포함된 배당소득금액으로서 이자소득 등의 종합과세기준금액을 초과하는 것으로 한한다. <개정 2009. 12. 31.>\\n② 삭제 <2006. 12. 30.>\\n③ 배당세액공제액의 계산 등에 필요한 사항은 대통령령으로 정한다. <개정 2009. 12. 31.>\\n   [제목개정 2009. 12. 31.]'),\n",
       "  Document(metadata={'source': './documents/income_tax.txt'}, page_content='③ 제50조제1항제13호 및 제59조의2에 따라 적용대상 나이가 정해진 경우에는 제4항 본문에도 불구하고 해당 과세기간 과세기간 중에 해당 나이에 해당되는 날이 있는 경우에 공제대상자로 본다.<개정 2014. 1. 1.>\\n소득세법\\n[전문개정 2009. 12. 31.]\\n제54조(종합소득공제 등의 배제) ① 분리과세이자소득, 분리과세배당소득, 분리과세퇴직금소득과 분리과세기타소득만이 있는 자에 대해서는 종합소득공제를 적용하지 아니한다. <개정 2013. 1. 1.>\\n② 제70조제1항, 제70조의2제1항 또는 제74조에 따라 과세표준확정신고를 하여야 할 자가 제70조제4항제1호에 따른 서류를 제출하지 아니한 경우에는 기본공제 중 거주자 본인에 대한 분(欒)과 제95조제4항에 따른 표준세액공제만을 공제한다. 다만, 과세표준확정신고와 아무 관련이 없이 그 서류를 나중에 제출한 경우에는 그러하지 아니하다. <개정 2013. 1. 1.>\\n③ 제20조에 따른 수사부과 결정의 경우에는 기본공제 중 거주자 본인에 대한 분(欒)만을 공제한다. \\n[전문개정 2014. 1. 1.] \\n[제목개정 2014. 1. 1.]\\n제54조의2(공동사업에 대한 소득공제 등 특례) 제51조의3 또는 「조세특례제한법」에 따른 소득공제를 적용하거나 제59조의3에 따른 세액공제를 적용하는 경우 제54조제3항에 따라 소득금액이 주된 공동사업자의 소득금액에 합산과세되는 특수관계인이 지출·납입·투자·출자 등을 한 금액이 있으며 주된 공동사업자의 소득에 합산과세되는 소득금액의 한도에서 주된 공동사업자가 지출·납입·투자·출자 등을 한 금액으로 보아 주된 공동사업자의 합산과세되는 종합소득금액 또는 종합소득산출세액을 계산할 때에 소득공제 또는 세액공제를 받을 수 있다. <개정 2012. 1. 1., 2014. 1. 1.>\\n[전문개정 2009. 12. 31.] \\n[제목개정 2014. 1. 1.]\\n제4절 세액의 계산 <개정 2009. 12. 31.>\\n제1관 세율 <개정 2009. 12. 31.>\\n제55조(세율) ①거주자의 종합소득에 대한 소득세는 해당 연도의 종합소득과세표준에 다음의 세율을 적용하여 계산한 금액(이하 \"종합소득산출세액\"이라 한다)을 그 세액으로 한다. <개정 2014. 1. 1., 2016. 12. 20., 2017. 12. 19., 2020. 12. 29., 2022. 12. 31.>\\n| 과세표준          | 세 율                                                              |\\n|-------------------|------------------------------------------------------------------|\\n| 1,400만원 이하     | 과세표준의 6퍼센트                                               |\\n| 1,400만원 초과     | 84만원 + (1,400만원을 초과하는 금액의 15퍼센트)                    |')],\n",
       " 'answer': '종합소득세란 개인이 일정 기간 동안 벌어들인 모든 소득을 합산하여 과세하는 세금을 말합니다. 여기에는 근로소득, 사업소득, 이자소득, 배당소득 등이 포함됩니다. 과세표준에 따라 차등 세율이 적용되어 세액이 계산됩니다.'}"
      ]
     },
     "execution_count": 10,
     "metadata": {},
     "output_type": "execute_result"
    }
   ],
   "source": [
    "initial_state = {\n",
    "    'query': '종합소득세란 무엇인가요?'\n",
    "}\n",
    "\n",
    "graph.invoke(initial_state)"
   ]
  },
  {
   "cell_type": "code",
   "execution_count": 11,
   "metadata": {},
   "outputs": [
    {
     "data": {
      "text/plain": [
       "{'query': '집 15억은 세금을 얼마나 내나요?',\n",
       " 'answer': '주어진 정보를 바탕으로 과세표준이 1.35억 원이고, 1세대 1주택자의 경우입니다. \\n\\n1세대 1주택자의 주택 수가 2주택 이하이므로, 이에 해당하는 세율을 적용합니다.\\n\\n과세표준이 3억 원 이하이므로, 세율은 1천분의 5입니다.\\n\\n따라서, 종합부동산세는 다음과 같이 계산됩니다:\\n\\n종합부동산세 = 과세표준 × 세율  \\n종합부동산세 = 1.35억 원 × 0.005  \\n종합부동산세 = 0.0675억 원\\n\\n0.0675억 원은 675만 원입니다.\\n\\n따라서, 종합부동산세는 675만 원입니다.'}"
      ]
     },
     "execution_count": 11,
     "metadata": {},
     "output_type": "execute_result"
    }
   ],
   "source": [
    "initial_state = {\n",
    "    'query': '집 15억은 세금을 얼마나 내나요?'\n",
    "}\n",
    "\n",
    "graph.invoke(initial_state)"
   ]
  },
  {
   "cell_type": "code",
   "execution_count": 12,
   "metadata": {},
   "outputs": [
    {
     "data": {
      "text/plain": [
       "{'query': '약수역에서 미팅하기 좋은 카페는 어디인가요?',\n",
       " 'answer': '약수역 근처에는 여러 카페가 있어 미팅하기 좋은 장소가 많이 있습니다. 몇 가지 추천 드리자면:\\n\\n1. **카페 드 파리** - 아늑한 분위기와 다양한 음료 메뉴가 있어 미팅하기에 적합합니다.\\n2. **스타벅스 약수점** - 편안한 좌석과 안정적인 와이파이가 있어 업무 미팅에도 좋습니다.\\n3. **이디야커피 약수역점** - 저렴한 가격에 커피를 즐길 수 있고, 넓은 공간이 있어 대화하기 좋습니다.\\n4. **카페 마마스** - 브런치와 커피를 함께 즐길 수 있는 곳으로, 분위기가 좋습니다.\\n\\n각 카페의 분위기나 메뉴는 다를 수 있으니, 미팅의 성격에 맞춰 선택해보세요!'}"
      ]
     },
     "execution_count": 12,
     "metadata": {},
     "output_type": "execute_result"
    }
   ],
   "source": [
    "initial_state = {'query': '약수역에서 미팅하기 좋은 카페는 어디인가요?'}\n",
    "graph.invoke(initial_state)"
   ]
  },
  {
   "cell_type": "code",
   "execution_count": null,
   "metadata": {},
   "outputs": [],
   "source": []
  }
 ],
 "metadata": {
  "kernelspec": {
   "display_name": ".venv",
   "language": "python",
   "name": "python3"
  },
  "language_info": {
   "codemirror_mode": {
    "name": "ipython",
    "version": 3
   },
   "file_extension": ".py",
   "mimetype": "text/x-python",
   "name": "python",
   "nbconvert_exporter": "python",
   "pygments_lexer": "ipython3",
   "version": "3.13.3"
  }
 },
 "nbformat": 4,
 "nbformat_minor": 2
}
