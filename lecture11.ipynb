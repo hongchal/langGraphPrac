{
 "cells": [
  {
   "cell_type": "code",
   "execution_count": 1,
   "metadata": {},
   "outputs": [
    {
     "data": {
      "text/plain": [
       "True"
      ]
     },
     "execution_count": 1,
     "metadata": {},
     "output_type": "execute_result"
    }
   ],
   "source": [
    "from dotenv import load_dotenv \n",
    "load_dotenv()"
   ]
  },
  {
   "cell_type": "code",
   "execution_count": 2,
   "metadata": {},
   "outputs": [],
   "source": [
    "from langchain_openai import ChatOpenAI  \n",
    "\n",
    "llm = ChatOpenAI(model='gpt-4o')\n",
    "small_llm = ChatOpenAI(model='gpt-4o-mini') "
   ]
  },
  {
   "cell_type": "code",
   "execution_count": 3,
   "metadata": {},
   "outputs": [],
   "source": [
    "from langchain_core.tools import tool  \n",
    "\n",
    "@tool \n",
    "def add(a: int, b: int) -> int:\n",
    "    \"\"\"Add two numbers together\"\"\"\n",
    "    return a + b \n",
    "\n",
    "@tool \n",
    "def multiply(a: int, b: int) -> int:\n",
    "    \"\"\"Multiply two numbers together\"\"\"\n",
    "    return a * b \n",
    "\n",
    "@tool\n",
    "def translate_to_korean(query: str) -> str:\n",
    "    \"\"\"translate the query to korean\"\"\"\n",
    "    return small_llm.invoke(query)\n",
    "\n"
   ]
  },
  {
   "cell_type": "code",
   "execution_count": 4,
   "metadata": {},
   "outputs": [],
   "source": [
    "from langchain_community.tools import DuckDuckGoSearchRun\n",
    "\n",
    "search_tool = DuckDuckGoSearchRun()\n"
   ]
  },
  {
   "cell_type": "code",
   "execution_count": 5,
   "metadata": {},
   "outputs": [],
   "source": [
    "from langchain_google_community import GmailToolkit\n",
    "\n",
    "from langchain_google_community.gmail.utils import (\n",
    "    build_resource_service,\n",
    "    get_gmail_credentials,\n",
    ")\n",
    "\n",
    "credentials = get_gmail_credentials(\n",
    "    token_file=\"./google/gmail_token.json\",\n",
    "    scopes=[\"https://mail.google.com/\"],\n",
    "    client_secrets_file=\"./google/gmail_credentials.json\",\n",
    ")\n",
    "\n",
    "api_resource = build_resource_service(credentials=credentials) \n",
    "gmail_toolkit = GmailToolkit(api_resource=api_resource) \n",
    "gmail_tool_list= gmail_toolkit.get_tools()  "
   ]
  },
  {
   "cell_type": "code",
   "execution_count": 6,
   "metadata": {},
   "outputs": [
    {
     "data": {
      "text/plain": [
       "[GmailCreateDraft(api_resource=<googleapiclient.discovery.Resource object at 0x12ce8cd70>),\n",
       " GmailSendMessage(api_resource=<googleapiclient.discovery.Resource object at 0x12ce8cd70>),\n",
       " GmailSearch(api_resource=<googleapiclient.discovery.Resource object at 0x12ce8cd70>),\n",
       " GmailGetMessage(api_resource=<googleapiclient.discovery.Resource object at 0x12ce8cd70>),\n",
       " GmailGetThread(api_resource=<googleapiclient.discovery.Resource object at 0x12ce8cd70>)]"
      ]
     },
     "execution_count": 6,
     "metadata": {},
     "output_type": "execute_result"
    }
   ],
   "source": [
    "gmail_tool_list"
   ]
  },
  {
   "cell_type": "code",
   "execution_count": 7,
   "metadata": {},
   "outputs": [],
   "source": [
    "from langchain.agents import load_tools\n",
    "\n",
    "loaded_tool_list = load_tools(\n",
    "    [\"arxiv\"],\n",
    ")"
   ]
  },
  {
   "cell_type": "code",
   "execution_count": 8,
   "metadata": {},
   "outputs": [],
   "source": [
    "from langchain_chroma import Chroma \n",
    "from langchain_openai import OpenAIEmbeddings  \n",
    "from langchain_core.tools.retriever import create_retriever_tool\n",
    "\n",
    "embeddings = OpenAIEmbeddings(model='text-embedding-3-large')\n",
    "vector_store = Chroma(\n",
    "    embedding_function=embeddings,\n",
    "    collection_name = 'real_estate_tax',\n",
    "    persist_directory='./real_estate_tax_collection'\n",
    ")\n",
    "\n",
    "retriever = vector_store.as_retriever(search_kwargs={\"k\": 3})\n",
    "\n",
    "retriever_tool = create_retriever_tool(\n",
    "    retriever=retriever,\n",
    "    name='real_estate_tax_retriever',\n",
    "    description='Contains information about real estate tax up to December 2024',\n",
    ")\n"
   ]
  },
  {
   "cell_type": "code",
   "execution_count": 9,
   "metadata": {},
   "outputs": [],
   "source": [
    "from langgraph.prebuilt import ToolNode \n",
    "\n",
    "tool_list = [add, multiply, search_tool, translate_to_korean, retriever_tool] + gmail_tool_list + loaded_tool_list\n",
    "llm_with_tools = llm.bind_tools(tool_list) \n",
    "tool_node = ToolNode(tool_list) \n",
    "\n"
   ]
  },
  {
   "cell_type": "code",
   "execution_count": 10,
   "metadata": {},
   "outputs": [],
   "source": [
    "from langgraph.graph import MessagesState, StateGraph  \n",
    "\n",
    "graph_builder = StateGraph(MessagesState)\n",
    "\n",
    "def agent(state: MessagesState) -> MessagesState:\n",
    "    messages = state['messages']  \n",
    "\n",
    "    response = llm_with_tools.invoke(messages)  \n",
    "    # print(response)\n",
    "    return {'messages': [response]}  "
   ]
  },
  {
   "cell_type": "code",
   "execution_count": 11,
   "metadata": {},
   "outputs": [],
   "source": [
    "from typing import Literal\n",
    "from langgraph.graph import END\n",
    "\n",
    "def should_continue(state: MessagesState) -> Literal['tools', END]:\n",
    "    \"\"\"\n",
    "    주어진 메시지 상태를 기반으로 에이전트가 계속 진행할지 여부를 결정합니다.\n",
    "\n",
    "    Args:\n",
    "        state (MessagesState): `state`를 포함하는 객체.\n",
    "\n",
    "    Returns:\n",
    "        Literal['tools', END]: 도구를 사용해야 하면 `tools`를 리턴하고, \n",
    "        답변할 준비가 되었다면 END를 반환해서 프로세스를 종료합니다.\n",
    "    \"\"\"\n",
    "    # 상태에서 메시지를 추출합니다.\n",
    "    messages = state['messages']\n",
    "    \n",
    "    # 마지막 AI 메시지를 가져옵니다.\n",
    "    last_ai_message = messages[-1]\n",
    "    \n",
    "    # 마지막 AI 메시지가 도구 호출을 포함하고 있는지 확인합니다.\n",
    "    if last_ai_message.tool_calls:\n",
    "        # 도구 호출이 있으면 'tools'를 반환합니다.\n",
    "        return 'tools'\n",
    "    \n",
    "    # 도구 호출이 없으면 END를 반환하여 프로세스를 종료합니다.\n",
    "    return END"
   ]
  },
  {
   "cell_type": "code",
   "execution_count": 12,
   "metadata": {},
   "outputs": [
    {
     "data": {
      "text/plain": [
       "<langgraph.graph.state.StateGraph at 0x13a9e3b60>"
      ]
     },
     "execution_count": 12,
     "metadata": {},
     "output_type": "execute_result"
    }
   ],
   "source": [
    "graph_builder.add_node('agent', agent)\n",
    "graph_builder.add_node('tools', tool_node)"
   ]
  },
  {
   "cell_type": "code",
   "execution_count": 13,
   "metadata": {},
   "outputs": [
    {
     "data": {
      "text/plain": [
       "<langgraph.graph.state.StateGraph at 0x13a9e3b60>"
      ]
     },
     "execution_count": 13,
     "metadata": {},
     "output_type": "execute_result"
    }
   ],
   "source": [
    "from langgraph.graph import START, END\n",
    "\n",
    "graph_builder.add_edge(START, 'agent')\n",
    "graph_builder.add_conditional_edges(\n",
    "    'agent',\n",
    "    should_continue,\n",
    "    ['tools', END]\n",
    ")\n",
    "graph_builder.add_edge('tools', 'agent')"
   ]
  },
  {
   "cell_type": "code",
   "execution_count": 14,
   "metadata": {},
   "outputs": [],
   "source": [
    "graph= graph_builder.compile()"
   ]
  },
  {
   "cell_type": "code",
   "execution_count": 15,
   "metadata": {},
   "outputs": [
    {
     "data": {
      "image/png": "[encoded data removed]",
      "text/plain": [
       "<IPython.core.display.Image object>"
      ]
     },
     "metadata": {},
     "output_type": "display_data"
    }
   ],
   "source": [
    "from IPython.display import Image, display\n",
    "\n",
    "display(Image(graph.get_graph().draw_mermaid_png()))"
   ]
  },
  {
   "cell_type": "code",
   "execution_count": 18,
   "metadata": {},
   "outputs": [
    {
     "name": "stdout",
     "output_type": "stream",
     "text": [
      "================================\u001b[1m Human Message \u001b[0m=================================\n",
      "\n",
      "집이 15억 일 때 종합부동산세를 계산 과정을 정리해서 heather@hanpoom.com에게 메일을 바로 보내줘\n",
      "==================================\u001b[1m Ai Message \u001b[0m==================================\n",
      "Tool Calls:\n",
      "  real_estate_tax_retriever (call_9TjdES2jaO9MAxc6ZIEkbaqo)\n",
      " Call ID: call_9TjdES2jaO9MAxc6ZIEkbaqo\n",
      "  Args:\n",
      "    query: 15억 종합부동산세 계산\n",
      "=================================\u001b[1m Tool Message \u001b[0m=================================\n",
      "Name: real_estate_tax_retriever\n",
      "\n",
      "| 45억원 초과 | 8천250만원+(45억원을 초과하는 금액의 1천분의 30) |\n",
      "② 삭제<2008. 12. 26.>\n",
      "③종합합산과세대상인 토지의 과세표준 금액에 대하여 해당 과세대상 토지의 토지분 재산세로 부과된 세액(「지방세법」 제111조제3항에 따라 가감조정된 세율이 적용된 경우에는 그 세율이 적용된 세액, 같은 법 제122조제1따라 세부담 상한률 적용받은 경우에는 그 상한률 적용받은 세액을 말한다)은 토지분 종합합산세액에서 이를 공제한다.\n",
      "신설 2005. 12. 31, 2008. 12. 26, 2010. 3. 31.>\n",
      "④별도합산과세대상인 토지에 대한 종합부동산세의 세액은 과세표준에 다음의 세율을 적용하여 계산한 금액(이하 “토지분 별도합산세액”이라 한다)으로 한다.<개정 2008. 12. 26.>\n",
      "| 과세표준  | 세율  |\n",
      "|---|---|\n",
      "| 200억원 이하 | 1천분의 5 |\n",
      "| 200억원 초과 400억원 이하 | 1억원+(200억원을 초과하는 금액의 1천분의 10) |\n",
      "| 400억원 초과 | 2억원+(400억원을 초과하는 금액의 1천분의 12) |\n",
      "⑤ 삭제<2008. 12. 26.>\n",
      "⑥별도합산과세대상인 토지의 과세표준 금액에 대하여 해당 과세대상 토지의 토지분 재산세로 부과된 세액(「지방세법」 제111조제3항에 따라 가감조정된 세율이 적용된 경우에는 그 세율이 적용된 세액, 같은 법 제122조제1따라 세부담 상한률 적용받은 경우에는 그 상한률 적용받은 세액을 말한다)은 토지분 별도합산세액에서 이를 공제한다.\n",
      "법제처 6 국가법령정보센터\n",
      "<신설 2005. 12. 31, 2008. 12. 26, 2010. 3. 31.>\n",
      "②토지로 종합부동산세액을 계산할 때 토지분 재산세로 부과된 세액의 공제 등에 관하여 필요한 사항은 대통령령으로 정한다. <신설 2005. 12. 31, 2020. 6. 9.>\n",
      "제15조(재산분의 합산) ①종합부동산세의 납세의무자가 종합합산과세대상인 토지에 대하여 해당 연도에 납부하여야 할 재산세액상당액(신탁토지의 경우 재산세의 납세의무자가 종합합산과세대상인 해당 토지에 대하여 납부하여야 할 재산세액상당액을 말한다)과 토지분 종합합산과세상당액의 합계액(이하 이 조에서 \"종합합산과세대상인 토지에 대한 총세액상당액\"이라 한다)으로서 대통령령으로 정하는 바에 따라 계산한 세액이 해당 납세의무자가 직전년도에 해당 토지에 부과된 종합합산과세대상인 토지에 대한 총세액상당액으로서 대통령령으로 정하는 바에 따라 계산한 세액의 100분의 150을 초과하는 경우에는 그 초과하는 세액에 대하여는 제14조제1항에도 불구하고 이를 없는 것으로 본다. <개정 2005. 12. 31, 2008. 12. 26, 2020. 12. 29.>\n",
      "\n",
      "납세의무자가 2주택 이하를 소유한 경우\n",
      "\n",
      "| 과세표준              | 세율                                  |\n",
      "|---------------------|-------------------------------------|\n",
      "| 3억 원 이하           | 1천분의 5                              |\n",
      "| 3억 원 초과 6억 원 이하 | 150만 원 + (3억 원을 초과하는 금액의 1천분의 7)  |\n",
      "| 6억 원 초과 12억 원 이하 | 360만 원 + (6억 원을 초과하는 금액의 1천분의 10) |\n",
      "| 12억 원 초과 25억 원 이하 | 960만 원 + (12억 원을 초과하는 금액의 1천분의 13)|\n",
      "| 25억 원 초과 50억 원 이하 | 2천650만 원 + (25억 원을 초과하는 금액의 1천분의 15)|\n",
      "| 50억 원 초과 94억 원 이하 | 6천400만 원 + (50억 원을 초과하는 금액의 1천분의 20)|\n",
      "| 94억 원 초과          | 1억 5천200만 원 + (94억 원을 초과하는 금액의 1천분의 27)|\n",
      "\n",
      "납세의무자가 3주택 이상을 소유한 경우\n",
      "\n",
      "| 과세표준              | 세율                                  |\n",
      "|---------------------|-------------------------------------|\n",
      "| 3억 원 이하           | 1천분의 5                              |\n",
      "| 3억 원 초과 6억 원 이하 | 150만 원 + (3억 원을 초과하는 금액의 1천분의 7)  |\n",
      "| 6억 원 초과 12억 원 이하 | 360만 원 + (6억 원을 초과하는 금액의 1천분의 10) |\n",
      "| 12억 원 초과 25억 원 이하 | 960만 원 + (12억 원을 초과하는 금액의 1천분의 20)|\n",
      "| 25억 원 초과 50억 원 이하 | 3천560만 원 + (25억 원을 초과하는 금액의 1천분의 30)|\n",
      "| 50억 원 초과 94억 원 이하 | 1억1천600만 원 + (50억 원을 초과하는 금액의 1천분의 40)|\n",
      "| 94억 원 초과          | 2억8천660만 원 + (94억 원을 초과하는 금액의 1천분의 50)|\n",
      "\n",
      "② 납세의무자가 법인 또는 법인으로 보는 단체인 경우 제1항에도 불구하고 과세표준에 다음 각 호에 따른 세율을 적용하여 계산한 금액을 주택분 종합부동산세액으로 한다. <신설 2020. 8. 18., 2020. 12. 29., 2022. 12. 31., 2023. 4. 18.>\n",
      "법제처 3 국가법령정보센터\n",
      "종합부동산세법\n",
      "\n",
      "제12조(납세의무자) ① 과세기준일 현재 토지를 재산세의 납세의무자로서 다음 각호의 어느 하나에 해당하는 자는 해당 토지에 대한 종합부동산세를 납부할 의무가 있다. <개정 2005. 12. 31., 2008. 12. 26.>\n",
      " 1. 종합합산과세대상인 경우에는 국내에 소재하는 해당 과세대상토지의 공시지가를 합한 금액이 5억원을 초과하는 자\n",
      " 2. 별도합산과세대상인 경우에는 국내에 소재하는 해당 과세대상토지의 공시지가를 합한 금액이 80억원을 초과하는 자\n",
      " ② 위탁자의 명의를 등기 또는 등록된 신탁재산으로서 토지(이하 \"신탁토지\"라 한다)의 경우에는 제1항에도 불구하고 위탁자가 종합부동산세를 납부할 의무가 있다. 이 경우 위탁자가 신탁토지를 소유한 것으로 본다.<신설 2020. 12. 29.>\n",
      "[2008. 12. 26. 법률 제9273호에 의하여 2008. 11. 13. 헌법재판소에서 위헌 결정된 이 조를 개정함]\n",
      "제12조의2(신탁토지 관련 수탁자의 물납납세의무)\n",
      "신탁토지의 위탁자가 다음 각 호의 어느 하나에 해당하는 종합부동산세를 체납한 경우로서 그 위탁자의 다른 재산에 대하여 강제집행을 하여도 징수할 금액에 미치지 못할 때에는 해당 신탁토지의 수탁자는 그 신탁토지로서 위탁자가 종합부동산세등을 납부할 의무가 있다. \n",
      "1. 신탁 설정일 이후에 「국세기본법」 제35조제2항에 따른 법정기일이 도래하는 종합부동산세로서 해당 신탁토지와 관련하여 발생한 것 \n",
      "2. 제1호의 금액에 대한 강제집행 과정에서 발생한 강제집행비 \n",
      "[본조신설 2020. 12. 29.]\n",
      "제13조(과세표준)\n",
      "① 종합합산과세대상인 토지에 대한 종합부동산세의 과세표준은 납세의무자별로 해당 과세대상토지의 공시가격을 합산한 금액에서 5억원을 공제한 금액에 부동산 시장의 동향과 재정 여건 등을 고려하여 100분의 60부터 100분의 100까지의 범위에서 대통령령으로 정하는 공정시장가액비율을 곱한 금액으로 한다. <개정 2008. 12. 26.>\n",
      "② 별도합산과세대상인 토지에 대한 종합부동산세의 과세표준은 납세의무자별로 해당 과세대상토지의 공시가격을 합산한 금액에서 80억원을 공제한 금액에 부동산 시장의 동향과 재정 여건 등을 고려하여 100분의 60부터 100분의 100까지의 범위에서 대통령령으로 정하는 공정시장가액비율을 곱한 금액으로 한다.<개정 2008. 12. 26.> \n",
      "③ 제1항 또는 제2항의 금액이 영보다 작은 경우에는 영으로 본다.\n",
      "제14조(세율 및 세액)\n",
      "① 종합합산과세대상인 토지에 대한 종합부동산세의 세액은 과세표준에 다음의 세율을 적용하여 계산한 금액(이하 “토지분 종합합산세액”이라 한다)으로 한다. <개정 2018. 12. 31.>\n",
      "| 과세표준  | 세율  |\n",
      "|---|---|\n",
      "| 15억원 이하 | 1천분의 10 |\n",
      "| 15억원 초과 45억원 이하 | 1천250만원+(15억원을 초과하는 금액의 1천분의 20) |\n",
      "| 45억원 초과 | 8천250만원+(45억원을 초과하는 금액의 1천분의 30) |\n",
      "② 삭제<2008. 12. 26.>\n",
      "==================================\u001b[1m Ai Message \u001b[0m==================================\n",
      "\n",
      "집이 15억 원일 때의 종합부동산세 계산 과정을 포함한 이메일을 준비하겠습니다. \n",
      "\n",
      "계산 과정은 다음과 같습니다:\n",
      "\n",
      "1. **과세표준**: 주택 가격이 15억 원이므로 과세표준이 15억 원 이하에 해당합니다.\n",
      "2. **세율**: 15억 원 이하의 과세표준에 대한 세율은 1천분의 10입니다.\n",
      "3. **세액 계산**: \n",
      "   \\[\n",
      "   종합부동산세 = 과세표준 \\times 세율 = 15,000,000,000 \\times 0.001 = 15,000,000 \\, \\text{원}\n",
      "   \\]\n",
      "\n",
      "이제 이 정보를 포함하여 이메일을 전송하겠습니다.\n",
      "Tool Calls:\n",
      "  send_gmail_message (call_impsH9lZRU4YWAW7pL6Hz1k1)\n",
      " Call ID: call_impsH9lZRU4YWAW7pL6Hz1k1\n",
      "  Args:\n",
      "    message: 안녕하세요 Heather님,\n",
      "\n",
      "다음은 집이 15억 원일 때의 종합부동산세 계산 과정입니다:\n",
      "\n",
      "1. **과세표준**: 15억 원\n",
      "2. **세율**: 15억 원 이하의 경우 세율은 1천분의 10입니다.\n",
      "3. **세액 계산**: \n",
      "   \n",
      "   종합부동산세 = 15억 원 × 0.001 = 1,500만 원\n",
      "\n",
      "따라서, 15억 원 주택의 종합부동산세는 1,500만 원이 됩니다.\n",
      "\n",
      "감사합니다.\n",
      "    to: heather@hanpoom.com\n",
      "    subject: 15억 원 주택의 종합부동산세 계산 방법\n",
      "=================================\u001b[1m Tool Message \u001b[0m=================================\n",
      "Name: send_gmail_message\n",
      "\n",
      "Message sent. Message Id: 196eb9eb674f70dc\n",
      "==================================\u001b[1m Ai Message \u001b[0m==================================\n",
      "\n",
      "이메일이 성공적으로 전송되었습니다. Heather님에게 집이 15억 원일 때의 종합부동산세 계산 과정을 설명하는 내용을 보냈습니다.\n"
     ]
    }
   ],
   "source": [
    "from langchain_core.messages import HumanMessage\n",
    "\n",
    "query = '집이 15억 일 때 종합부동산세를 계산 과정을 정리해서 heather@hanpoom.com에게 메일을 바로 보내줘'\n",
    "\n",
    "for chunk in graph.stream({'messages': [HumanMessage(query)]}, stream_mode='values'):\n",
    "    chunk['messages'][-1].pretty_print()"
   ]
  },
  {
   "cell_type": "code",
   "execution_count": null,
   "metadata": {},
   "outputs": [],
   "source": []
  },
  {
   "cell_type": "code",
   "execution_count": null,
   "metadata": {},
   "outputs": [],
   "source": []
  },
  {
   "cell_type": "code",
   "execution_count": null,
   "metadata": {},
   "outputs": [],
   "source": []
  }
 ],
 "metadata": {
  "kernelspec": {
   "display_name": ".venv",
   "language": "python",
   "name": "python3"
  },
  "language_info": {
   "codemirror_mode": {
    "name": "ipython",
    "version": 3
   },
   "file_extension": ".py",
   "mimetype": "text/x-python",
   "name": "python",
   "nbconvert_exporter": "python",
   "pygments_lexer": "ipython3",
   "version": "3.13.3"
  }
 },
 "nbformat": 4,
 "nbformat_minor": 2
}
