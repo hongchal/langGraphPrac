{
 "cells": [
  {
   "cell_type": "code",
   "execution_count": 1,
   "metadata": {},
   "outputs": [
    {
     "data": {
      "text/plain": [
       "True"
      ]
     },
     "execution_count": 1,
     "metadata": {},
     "output_type": "execute_result"
    }
   ],
   "source": [
    "from dotenv import load_dotenv \n",
    "\n",
    "load_dotenv()"
   ]
  },
  {
   "cell_type": "code",
   "execution_count": 2,
   "metadata": {},
   "outputs": [],
   "source": [
    "from langchain_openai import ChatOpenAI \n",
    "\n",
    "llm = ChatOpenAI(model='gpt-4o')\n",
    "small_llm = ChatOpenAI(model='gpt-4o-mini')"
   ]
  },
  {
   "cell_type": "code",
   "execution_count": 3,
   "metadata": {},
   "outputs": [],
   "source": [
    "from langchain_core.tools import tool\n",
    "\n",
    "@tool\n",
    "def add(a: int, b: int) -> int:\n",
    "    \"\"\"숫자 a와 b를 더합니다.\"\"\"\n",
    "    return a + b\n",
    "\n",
    "@tool\n",
    "def multiply(a: int, b: int) -> int:\n",
    "    \"\"\"숫자 a와 b를 곱합니다.\"\"\"\n",
    "    return a * b"
   ]
  },
  {
   "cell_type": "code",
   "execution_count": 4,
   "metadata": {},
   "outputs": [],
   "source": [
    "from langchain_community.tools import DuckDuckGoSearchRun\n",
    "\n",
    "search_tool = DuckDuckGoSearchRun()"
   ]
  },
  {
   "cell_type": "code",
   "execution_count": 5,
   "metadata": {},
   "outputs": [],
   "source": [
    "from langchain_google_community import GmailToolkit\n",
    "\n",
    "from langchain_google_community.gmail.utils import (\n",
    "    build_resource_service,\n",
    "    get_gmail_credentials,\n",
    ")\n",
    "\n",
    "# Can review scopes here https://developers.google.com/gmail/api/auth/scopes\n",
    "# For instance, readonly scope is 'https://www.googleapis.com/auth/gmail.readonly'\n",
    "credentials = get_gmail_credentials(\n",
    "    token_file=\"./google/gmail_token.json\",\n",
    "    scopes=[\"https://mail.google.com/\"],\n",
    "    client_secrets_file=\"./google/gmail_credentials.json\",\n",
    ")\n",
    "api_resource = build_resource_service(credentials=credentials)\n",
    "gmail_toolkit = GmailToolkit(api_resource=api_resource)\n",
    "gmail_tool_list = gmail_toolkit.get_tools()\n"
   ]
  },
  {
   "cell_type": "code",
   "execution_count": 6,
   "metadata": {},
   "outputs": [],
   "source": [
    "from langchain.agents import load_tools\n",
    "\n",
    "loaded_tool_list = load_tools(\n",
    "    [\"arxiv\"],\n",
    ")"
   ]
  },
  {
   "cell_type": "code",
   "execution_count": 7,
   "metadata": {},
   "outputs": [],
   "source": [
    "from langchain_chroma import Chroma \n",
    "from langchain_openai import OpenAIEmbeddings  \n",
    "from langchain_core.tools.retriever import create_retriever_tool\n",
    "\n",
    "embeddings = OpenAIEmbeddings(model='text-embedding-3-large')\n",
    "vector_store = Chroma(\n",
    "    embedding_function=embeddings,\n",
    "    collection_name = 'real_estate_tax',\n",
    "    persist_directory='./real_estate_tax_collection'\n",
    ")\n",
    "\n",
    "retriever = vector_store.as_retriever(search_kwargs={\"k\": 3})\n",
    "\n",
    "retriever_tool = create_retriever_tool(\n",
    "    retriever=retriever,\n",
    "    name='real_estate_tax_retriever',\n",
    "    description='Contains information about real estate tax up to December 2024',\n",
    ")\n"
   ]
  },
  {
   "cell_type": "code",
   "execution_count": 8,
   "metadata": {},
   "outputs": [],
   "source": [
    "from langgraph.prebuilt import ToolNode\n",
    "\n",
    "tool_list = [add, multiply, search_tool, retriever_tool] + gmail_tool_list + loaded_tool_list\n",
    "llm_with_tools = small_llm.bind_tools(tool_list)\n",
    "tool_node = ToolNode(tool_list)"
   ]
  },
  {
   "cell_type": "code",
   "execution_count": 9,
   "metadata": {},
   "outputs": [],
   "source": [
    "from langgraph.graph import MessagesState, StateGraph\n",
    "\n",
    "class AgentState(MessagesState):\n",
    "    summary: str\n",
    "\n",
    "graph_builder = StateGraph(AgentState)"
   ]
  },
  {
   "cell_type": "code",
   "execution_count": 10,
   "metadata": {},
   "outputs": [],
   "source": [
    "from langchain_core.messages import SystemMessage\n",
    "\n",
    "def agent(state: AgentState) -> AgentState:\n",
    "    # 메시지와 요약을 state에서 가져옵니다.\n",
    "    messages = state['messages']\n",
    "    summary = state['summary']\n",
    "    \n",
    "    # 요약이 비어있지 않으면, 요약을 메시지 앞에 추가합니다.\n",
    "    if summary != '':\n",
    "        messages = [SystemMessage(content=f'Here is the summary of the earlier conversation: {summary}')] + messages\n",
    "    \n",
    "    # LLM과 도구를 사용하여 메시지에 대한 응답을 생성합니다.\n",
    "    response = llm_with_tools.invoke(messages)\n",
    "    \n",
    "    # 응답 메시지를 포함하는 새로운 state를 반환합니다.\n",
    "    return {'messages': [response]}"
   ]
  },
  {
   "cell_type": "code",
   "execution_count": 11,
   "metadata": {},
   "outputs": [],
   "source": [
    "def summarize_messages(state: AgentState) -> AgentState: \n",
    "    messages = state['messages']\n",
    "    summary = state['summary']\n",
    "\n",
    "    summary_prompt = f'summarize this chat history below:\\n\\nchat history:{messages}'\n",
    "\n",
    "    if summary != '':\n",
    "        summary_prompt = f'''summarize this chat history below while looking at the summary of earlier conversations\n",
    "chat_history:{messages}\n",
    "summary:{summary}'''\n",
    "        \n",
    "    summary = small_llm.invoke(summary_prompt)\n",
    "\n",
    "    return {'summary': summary.content}"
   ]
  },
  {
   "cell_type": "code",
   "execution_count": 12,
   "metadata": {},
   "outputs": [],
   "source": [
    "from langchain_core.messages import RemoveMessage\n",
    "\n",
    "def delete_messages(state: AgentState) -> AgentState:\n",
    "    \"\"\"\n",
    "    주어진 state에서 오래된 메시지를 삭제합니다.\n",
    "\n",
    "    Args:\n",
    "        state (AgentState): 메시지를 포함하는 state.\n",
    "\n",
    "    Returns:\n",
    "        AgentState: 삭제된 메시지를 포함하는 새로운 state.\n",
    "    \"\"\"\n",
    "    # state에서 메시지를 가져옵니다.\n",
    "    messages = state['messages']\n",
    "    # 마지막 세 개의 메시지를 제외한 나머지 메시지를 삭제합니다.\n",
    "    delete_messages = [RemoveMessage(id=message.id) for message in messages[:-3]]\n",
    "    # 삭제된 메시지를 포함하는 새로운 state를 반환합니다.\n",
    "    return {'messages': delete_messages}"
   ]
  },
  {
   "cell_type": "code",
   "execution_count": 13,
   "metadata": {},
   "outputs": [],
   "source": [
    "from typing import Literal \n",
    "\n",
    "def should_continue(state: AgentState) -> Literal['tools', 'summarize_messgaes']:\n",
    "    messages = state['messages']\n",
    "    last_ai_message = messages[-1]\n",
    "\n",
    "    if last_ai_message.tool_calls:\n",
    "        return 'tools'\n",
    "    \n",
    "    return 'summarize_messages'"
   ]
  },
  {
   "cell_type": "code",
   "execution_count": null,
   "metadata": {},
   "outputs": [],
   "source": []
  },
  {
   "cell_type": "code",
   "execution_count": 14,
   "metadata": {},
   "outputs": [
    {
     "data": {
      "text/plain": [
       "<langgraph.graph.state.StateGraph at 0x15af7f4d0>"
      ]
     },
     "execution_count": 14,
     "metadata": {},
     "output_type": "execute_result"
    }
   ],
   "source": [
    "graph_builder.add_node('agent', agent)\n",
    "graph_builder.add_node('tools', tool_node)\n",
    "graph_builder.add_node(delete_messages)\n",
    "graph_builder.add_node(summarize_messages)"
   ]
  },
  {
   "cell_type": "code",
   "execution_count": 15,
   "metadata": {},
   "outputs": [
    {
     "data": {
      "text/plain": [
       "<langgraph.graph.state.StateGraph at 0x15af7f4d0>"
      ]
     },
     "execution_count": 15,
     "metadata": {},
     "output_type": "execute_result"
    }
   ],
   "source": [
    "from langgraph.graph import START, END \n",
    "\n",
    "graph_builder.add_edge(START, 'agent')\n",
    "graph_builder.add_conditional_edges(\n",
    "    'agent',\n",
    "    should_continue,\n",
    "    ['tools', 'summarize_messages']\n",
    ")\n",
    "\n",
    "graph_builder.add_edge('tools', 'agent')\n",
    "graph_builder.add_edge('summarize_messages', 'delete_messages')\n",
    "graph_builder.add_edge('delete_messages', END)"
   ]
  },
  {
   "cell_type": "code",
   "execution_count": 16,
   "metadata": {},
   "outputs": [],
   "source": [
    "from langgraph.checkpoint.memory import MemorySaver\n",
    "\n",
    "checkpointer = MemorySaver()\n",
    "\n",
    "graph= graph_builder.compile(checkpointer=checkpointer)"
   ]
  },
  {
   "cell_type": "code",
   "execution_count": 17,
   "metadata": {},
   "outputs": [
    {
     "data": {
      "image/png": "[encoded data removed]",
      "text/plain": [
       "<IPython.core.display.Image object>"
      ]
     },
     "metadata": {},
     "output_type": "display_data"
    }
   ],
   "source": [
    "from IPython.display import Image, display\n",
    "\n",
    "display(Image(graph.get_graph().draw_mermaid_png()))"
   ]
  },
  {
   "cell_type": "code",
   "execution_count": 18,
   "metadata": {},
   "outputs": [
    {
     "name": "stdout",
     "output_type": "stream",
     "text": [
      "================================\u001b[1m Human Message \u001b[0m=================================\n",
      "\n",
      "robert@hanpoom.com으로 Attention Is All You Need 논문을 요약해서 이메일 초안을 작성해주세요\n",
      "==================================\u001b[1m Ai Message \u001b[0m==================================\n",
      "Tool Calls:\n",
      "  arxiv (call_gIgm366s5qp7wVQGPIYBPq0y)\n",
      " Call ID: call_gIgm366s5qp7wVQGPIYBPq0y\n",
      "  Args:\n",
      "    query: Attention Is All You Need\n",
      "=================================\u001b[1m Tool Message \u001b[0m=================================\n",
      "Name: arxiv\n",
      "\n",
      "Published: 2024-07-22\n",
      "Title: Attention Is All You Need But You Don't Need All Of It For Inference of Large Language Models\n",
      "Authors: Georgy Tyukin, Gbetondji J-S Dovonon, Jean Kaddour, Pasquale Minervini\n",
      "Summary: The inference demand for LLMs has skyrocketed in recent months, and serving\n",
      "models with low latencies remains challenging due to the quadratic input length\n",
      "complexity of the attention layers. In this work, we investigate the effect of\n",
      "dropping MLP and attention layers at inference time on the performance of\n",
      "Llama-v2 models. We find that dropping dreeper attention layers only marginally\n",
      "decreases performance but leads to the best speedups alongside dropping entire\n",
      "layers. For example, removing 33\\% of attention layers in a 13B Llama2 model\n",
      "results in a 1.8\\% drop in average performance over the OpenLLM benchmark. We\n",
      "also observe that skipping layers except the latter layers reduces performances\n",
      "for more layers skipped, except for skipping the attention layers.\n",
      "\n",
      "Published: 2021-07-16\n",
      "Title: All the attention you need: Global-local, spatial-channel attention for image retrieval\n",
      "Authors: Chull Hwan Song, Hye Joo Han, Yannis Avrithis\n",
      "Summary: We address representation learning for large-scale instance-level image\n",
      "retrieval. Apart from backbone, training pipelines and loss functions, popular\n",
      "approaches have focused on different spatial pooling and attention mechanisms,\n",
      "which are at the core of learning a powerful global image representation. There\n",
      "are different forms of attention according to the interaction of elements of\n",
      "the feature tensor (local and global) and the dimensions where it is applied\n",
      "(spatial and channel). Unfortunately, each study addresses only one or two\n",
      "forms of attention and applies it to different problems like classification,\n",
      "detection or retrieval.\n",
      "  We present global-local attention module (GLAM), which is attached at the end\n",
      "of a backbone network and incorporates all four forms of attention: local and\n",
      "global, spatial and channel. We obtain a new feature tensor and, by spatial\n",
      "pooling, we learn a powerful embedding for image retrieval. Focusing on global\n",
      "descriptors, we provide empirical evidence of the interaction of all forms of\n",
      "attention and improve the state of the art on standard benchmarks.\n",
      "\n",
      "Published: 2023-06-02\n",
      "Title: RITA: Group Attention is All You Need for Timeseries Analytics\n",
      "Authors: Jiaming Liang, Lei Cao, Samuel Madden, Zachary Ives, Guoliang Li\n",
      "Summary: Timeseries analytics is of great importance in many real-world applications.\n",
      "Recently, the Transformer model, popular in natural language processing, has\n",
      "been leveraged to learn high quality feature embeddings from timeseries, core\n",
      "to the performance of various timeseries analytics tasks. However, the\n",
      "quadratic time and space complexities limit Transformers' scalability,\n",
      "especially for long timeseries. To address these issues, we develop a\n",
      "timeseries analytics tool, RITA, which uses a novel attention mechanism, named\n",
      "group attention, to address this scalability issue. Group attention dynamically\n",
      "clusters the objects based on their similarity into a small number of groups\n",
      "and approximately computes the attention at the coarse group granularity. It\n",
      "thus significantly reduces the time and space complexity, yet provides a\n",
      "theoretical guarantee on the quality of the computed attention. The dynamic\n",
      "scheduler of RITA continuously adapts the number of groups and the batch size\n",
      "in the training process, ensuring group attention always uses the fewest groups\n",
      "needed to meet the approximation quality requirement. Extensive experiments on\n",
      "various timeseries datasets and analytics tasks demonstrate that RITA\n",
      "outperforms the state-of-the-art in accuracy and is significantly faster --\n",
      "with speedups of up to 63X.\n",
      "==================================\u001b[1m Ai Message \u001b[0m==================================\n",
      "Tool Calls:\n",
      "  create_gmail_draft (call_LOSMdf5W8qEyKYktegvaAhn1)\n",
      " Call ID: call_LOSMdf5W8qEyKYktegvaAhn1\n",
      "  Args:\n",
      "    message: 안녕하세요,\n",
      "\n",
      "\"Attention Is All You Need\" 논문에 대한 요약을 공유하고자 합니다.\n",
      "\n",
      "이 논문은 대규모 언어 모델(LLM)의 추론 수요가 최근 몇 달간 급증하고 있으며, 낮은 대기 시간으로 모델을 제공하는 것이 어려움을 겪고 있음을 강조합니다. 연구에서는 추론 시 MLP 및 주의(attention) 레이어를 제거하는 것이 Llama-v2 모델의 성능에 미치는 영향을 조사하였습니다. 주요 발견으로는, 깊은 주의 레이어를 제거하는 것이 성능을 소폭 감소시키지만 속도 향상에 기여한다는 것입니다. 예를 들어, 13B Llama2 모델에서 33%의 주의 레이어를 제거하면 OpenLLM 벤치마크에서 평균 성능이 1.8% 감소하는 것으로 나타났습니다. 또한, 마지막 레이어를 제외한 레이어를 건너뛰는 것이 성능을 저하시킨다는 점도 관찰되었습니다.\n",
      "\n",
      "이 논문은 대규모 언어 모델의 성능과 효율성을 개선하기 위한 중요한 통찰을 제공합니다. 추가적인 질문이나 논의가 필요하시면 언제든지 말씀해 주세요.\n",
      "\n",
      "감사합니다.\n",
      "    to: ['robert@hanpoom.com']\n",
      "    subject: Attention Is All You Need 논문 요약\n",
      "=================================\u001b[1m Tool Message \u001b[0m=================================\n",
      "Name: create_gmail_draft\n",
      "\n",
      "Draft created. Draft Id: r8199476668056932988\n",
      "==================================\u001b[1m Ai Message \u001b[0m==================================\n",
      "\n",
      "이메일 초안이 작성되었습니다. 내용은 다음과 같습니다:\n",
      "\n",
      "---\n",
      "\n",
      "안녕하세요,\n",
      "\n",
      "\"Attention Is All You Need\" 논문에 대한 요약을 공유하고자 합니다.\n",
      "\n",
      "이 논문은 대규모 언어 모델(LLM)의 추론 수요가 최근 몇 달간 급증하고 있으며, 낮은 대기 시간으로 모델을 제공하는 것이 어려움을 겪고 있음을 강조합니다. 연구에서는 추론 시 MLP 및 주의(attention) 레이어를 제거하는 것이 Llama-v2 모델의 성능에 미치는 영향을 조사하였습니다. 주요 발견으로는, 깊은 주의 레이어를 제거하는 것이 성능을 소폭 감소시키지만 속도 향상에 기여한다는 것입니다. 예를 들어, 13B Llama2 모델에서 33%의 주의 레이어를 제거하면 OpenLLM 벤치마크에서 평균 성능이 1.8% 감소하는 것으로 나타났습니다. 또한, 마지막 레이어를 제외한 레이어를 건너뛰는 것이 성능을 저하시킨다는 점도 관찰되었습니다.\n",
      "\n",
      "이 논문은 대규모 언어 모델의 성능과 효율성을 개선하기 위한 중요한 통찰을 제공합니다. 추가적인 질문이나 논의가 필요하시면 언제든지 말씀해 주세요.\n",
      "\n",
      "감사합니다.\n",
      "\n",
      "---\n",
      "\n",
      "이메일을 발송하시려면 확인 후 진행해 주세요.\n",
      "==================================\u001b[1m Ai Message \u001b[0m==================================\n",
      "\n",
      "이메일 초안이 작성되었습니다. 내용은 다음과 같습니다:\n",
      "\n",
      "---\n",
      "\n",
      "안녕하세요,\n",
      "\n",
      "\"Attention Is All You Need\" 논문에 대한 요약을 공유하고자 합니다.\n",
      "\n",
      "이 논문은 대규모 언어 모델(LLM)의 추론 수요가 최근 몇 달간 급증하고 있으며, 낮은 대기 시간으로 모델을 제공하는 것이 어려움을 겪고 있음을 강조합니다. 연구에서는 추론 시 MLP 및 주의(attention) 레이어를 제거하는 것이 Llama-v2 모델의 성능에 미치는 영향을 조사하였습니다. 주요 발견으로는, 깊은 주의 레이어를 제거하는 것이 성능을 소폭 감소시키지만 속도 향상에 기여한다는 것입니다. 예를 들어, 13B Llama2 모델에서 33%의 주의 레이어를 제거하면 OpenLLM 벤치마크에서 평균 성능이 1.8% 감소하는 것으로 나타났습니다. 또한, 마지막 레이어를 제외한 레이어를 건너뛰는 것이 성능을 저하시킨다는 점도 관찰되었습니다.\n",
      "\n",
      "이 논문은 대규모 언어 모델의 성능과 효율성을 개선하기 위한 중요한 통찰을 제공합니다. 추가적인 질문이나 논의가 필요하시면 언제든지 말씀해 주세요.\n",
      "\n",
      "감사합니다.\n",
      "\n",
      "---\n",
      "\n",
      "이메일을 발송하시려면 확인 후 진행해 주세요.\n",
      "==================================\u001b[1m Ai Message \u001b[0m==================================\n",
      "\n",
      "이메일 초안이 작성되었습니다. 내용은 다음과 같습니다:\n",
      "\n",
      "---\n",
      "\n",
      "안녕하세요,\n",
      "\n",
      "\"Attention Is All You Need\" 논문에 대한 요약을 공유하고자 합니다.\n",
      "\n",
      "이 논문은 대규모 언어 모델(LLM)의 추론 수요가 최근 몇 달간 급증하고 있으며, 낮은 대기 시간으로 모델을 제공하는 것이 어려움을 겪고 있음을 강조합니다. 연구에서는 추론 시 MLP 및 주의(attention) 레이어를 제거하는 것이 Llama-v2 모델의 성능에 미치는 영향을 조사하였습니다. 주요 발견으로는, 깊은 주의 레이어를 제거하는 것이 성능을 소폭 감소시키지만 속도 향상에 기여한다는 것입니다. 예를 들어, 13B Llama2 모델에서 33%의 주의 레이어를 제거하면 OpenLLM 벤치마크에서 평균 성능이 1.8% 감소하는 것으로 나타났습니다. 또한, 마지막 레이어를 제외한 레이어를 건너뛰는 것이 성능을 저하시킨다는 점도 관찰되었습니다.\n",
      "\n",
      "이 논문은 대규모 언어 모델의 성능과 효율성을 개선하기 위한 중요한 통찰을 제공합니다. 추가적인 질문이나 논의가 필요하시면 언제든지 말씀해 주세요.\n",
      "\n",
      "감사합니다.\n",
      "\n",
      "---\n",
      "\n",
      "이메일을 발송하시려면 확인 후 진행해 주세요.\n"
     ]
    }
   ],
   "source": [
    "from langchain_core.messages import HumanMessage\n",
    "\n",
    "config = {\n",
    "    'configurable': {\n",
    "        'thread_id': 'summarize_paper'\n",
    "    }\n",
    "}\n",
    "\n",
    "query = 'robert@hanpoom.com으로 Attention Is All You Need 논문을 요약해서 이메일 초안을 작성해주세요'\n",
    "for chunk in graph.stream({'messages': [HumanMessage(query)], 'summary': ''}, config=config, stream_mode='values'):\n",
    "    chunk['messages'][-1].pretty_print()"
   ]
  },
  {
   "cell_type": "code",
   "execution_count": 19,
   "metadata": {},
   "outputs": [
    {
     "data": {
      "text/plain": [
       "[AIMessage(content='', additional_kwargs={'tool_calls': [{'id': 'call_LOSMdf5W8qEyKYktegvaAhn1', 'function': {'arguments': '{\"message\":\"안녕하세요,\\\\n\\\\n\\\\\"Attention Is All You Need\\\\\" 논문에 대한 요약을 공유하고자 합니다.\\\\n\\\\n이 논문은 대규모 언어 모델(LLM)의 추론 수요가 최근 몇 달간 급증하고 있으며, 낮은 대기 시간으로 모델을 제공하는 것이 어려움을 겪고 있음을 강조합니다. 연구에서는 추론 시 MLP 및 주의(attention) 레이어를 제거하는 것이 Llama-v2 모델의 성능에 미치는 영향을 조사하였습니다. 주요 발견으로는, 깊은 주의 레이어를 제거하는 것이 성능을 소폭 감소시키지만 속도 향상에 기여한다는 것입니다. 예를 들어, 13B Llama2 모델에서 33%의 주의 레이어를 제거하면 OpenLLM 벤치마크에서 평균 성능이 1.8% 감소하는 것으로 나타났습니다. 또한, 마지막 레이어를 제외한 레이어를 건너뛰는 것이 성능을 저하시킨다는 점도 관찰되었습니다.\\\\n\\\\n이 논문은 대규모 언어 모델의 성능과 효율성을 개선하기 위한 중요한 통찰을 제공합니다. 추가적인 질문이나 논의가 필요하시면 언제든지 말씀해 주세요.\\\\n\\\\n감사합니다.\",\"to\":[\"robert@hanpoom.com\"],\"subject\":\"Attention Is All You Need 논문 요약\"}', 'name': 'create_gmail_draft'}, 'type': 'function'}], 'refusal': None}, response_metadata={'token_usage': {'completion_tokens': 311, 'prompt_tokens': 1572, 'total_tokens': 1883, 'completion_tokens_details': {'accepted_prediction_tokens': 0, 'audio_tokens': 0, 'reasoning_tokens': 0, 'rejected_prediction_tokens': 0}, 'prompt_tokens_details': {'audio_tokens': 0, 'cached_tokens': 1536}}, 'model_name': 'gpt-4o-mini-2024-07-18', 'system_fingerprint': 'fp_54eb4bd693', 'finish_reason': 'tool_calls', 'logprobs': None}, id='run-a4f04d8f-01f2-407a-b997-23c0ac5f9fec-0', tool_calls=[{'name': 'create_gmail_draft', 'args': {'message': '안녕하세요,\\n\\n\"Attention Is All You Need\" 논문에 대한 요약을 공유하고자 합니다.\\n\\n이 논문은 대규모 언어 모델(LLM)의 추론 수요가 최근 몇 달간 급증하고 있으며, 낮은 대기 시간으로 모델을 제공하는 것이 어려움을 겪고 있음을 강조합니다. 연구에서는 추론 시 MLP 및 주의(attention) 레이어를 제거하는 것이 Llama-v2 모델의 성능에 미치는 영향을 조사하였습니다. 주요 발견으로는, 깊은 주의 레이어를 제거하는 것이 성능을 소폭 감소시키지만 속도 향상에 기여한다는 것입니다. 예를 들어, 13B Llama2 모델에서 33%의 주의 레이어를 제거하면 OpenLLM 벤치마크에서 평균 성능이 1.8% 감소하는 것으로 나타났습니다. 또한, 마지막 레이어를 제외한 레이어를 건너뛰는 것이 성능을 저하시킨다는 점도 관찰되었습니다.\\n\\n이 논문은 대규모 언어 모델의 성능과 효율성을 개선하기 위한 중요한 통찰을 제공합니다. 추가적인 질문이나 논의가 필요하시면 언제든지 말씀해 주세요.\\n\\n감사합니다.', 'to': ['robert@hanpoom.com'], 'subject': 'Attention Is All You Need 논문 요약'}, 'id': 'call_LOSMdf5W8qEyKYktegvaAhn1', 'type': 'tool_call'}], usage_metadata={'input_tokens': 1572, 'output_tokens': 311, 'total_tokens': 1883, 'input_token_details': {'audio': 0, 'cache_read': 1536}, 'output_token_details': {'audio': 0, 'reasoning': 0}}),\n",
       " ToolMessage(content='Draft created. Draft Id: r8199476668056932988', name='create_gmail_draft', id='c6e6ecb3-8be4-41f5-a377-717d49211c3b', tool_call_id='call_LOSMdf5W8qEyKYktegvaAhn1'),\n",
       " AIMessage(content='이메일 초안이 작성되었습니다. 내용은 다음과 같습니다:\\n\\n---\\n\\n안녕하세요,\\n\\n\"Attention Is All You Need\" 논문에 대한 요약을 공유하고자 합니다.\\n\\n이 논문은 대규모 언어 모델(LLM)의 추론 수요가 최근 몇 달간 급증하고 있으며, 낮은 대기 시간으로 모델을 제공하는 것이 어려움을 겪고 있음을 강조합니다. 연구에서는 추론 시 MLP 및 주의(attention) 레이어를 제거하는 것이 Llama-v2 모델의 성능에 미치는 영향을 조사하였습니다. 주요 발견으로는, 깊은 주의 레이어를 제거하는 것이 성능을 소폭 감소시키지만 속도 향상에 기여한다는 것입니다. 예를 들어, 13B Llama2 모델에서 33%의 주의 레이어를 제거하면 OpenLLM 벤치마크에서 평균 성능이 1.8% 감소하는 것으로 나타났습니다. 또한, 마지막 레이어를 제외한 레이어를 건너뛰는 것이 성능을 저하시킨다는 점도 관찰되었습니다.\\n\\n이 논문은 대규모 언어 모델의 성능과 효율성을 개선하기 위한 중요한 통찰을 제공합니다. 추가적인 질문이나 논의가 필요하시면 언제든지 말씀해 주세요.\\n\\n감사합니다.\\n\\n---\\n\\n이메일을 발송하시려면 확인 후 진행해 주세요.', additional_kwargs={'refusal': None}, response_metadata={'token_usage': {'completion_tokens': 296, 'prompt_tokens': 1908, 'total_tokens': 2204, 'completion_tokens_details': {'accepted_prediction_tokens': 0, 'audio_tokens': 0, 'reasoning_tokens': 0, 'rejected_prediction_tokens': 0}, 'prompt_tokens_details': {'audio_tokens': 0, 'cached_tokens': 1792}}, 'model_name': 'gpt-4o-mini-2024-07-18', 'system_fingerprint': 'fp_54eb4bd693', 'finish_reason': 'stop', 'logprobs': None}, id='run-f2d19d3c-b532-473e-855e-9e3d0b84e2ce-0', usage_metadata={'input_tokens': 1908, 'output_tokens': 296, 'total_tokens': 2204, 'input_token_details': {'audio': 0, 'cache_read': 1792}, 'output_token_details': {'audio': 0, 'reasoning': 0}})]"
      ]
     },
     "execution_count": 19,
     "metadata": {},
     "output_type": "execute_result"
    }
   ],
   "source": [
    "current_message_list = graph.get_state(config).values['messages']\n",
    "current_message_list"
   ]
  },
  {
   "cell_type": "code",
   "execution_count": 20,
   "metadata": {},
   "outputs": [
    {
     "data": {
      "text/plain": [
       "'In the chat, a user requested a summary of the paper \"Attention Is All You Need\" to be drafted into an email addressed to Robert. The AI began by querying the relevant information regarding the paper and later summarized its findings. The summary highlighted the increasing demand for inference in large language models (LLMs) and the challenges related to low-latency model serving. It discussed an investigation into the effects of removing MLP and attention layers during inference on Llama-v2 model performance, revealing that dropping certain layers only slightly decreased performance while improving speed.\\n\\nThe AI created a draft email summarizing these points in Korean, inviting further questions or discussions. The email was prepared for sending, and the user was prompted to review it before dispatching.'"
      ]
     },
     "execution_count": 20,
     "metadata": {},
     "output_type": "execute_result"
    }
   ],
   "source": [
    "graph.get_state(config).values['summary']\n"
   ]
  },
  {
   "cell_type": "code",
   "execution_count": 21,
   "metadata": {},
   "outputs": [
    {
     "name": "stdout",
     "output_type": "stream",
     "text": [
      "================================\u001b[1m Human Message \u001b[0m=================================\n",
      "\n",
      "이메일을 전송해주세요\n",
      "==================================\u001b[1m Ai Message \u001b[0m==================================\n",
      "Tool Calls:\n",
      "  send_gmail_message (call_rq6sPoExTSv8hoFHCIpZj5rh)\n",
      " Call ID: call_rq6sPoExTSv8hoFHCIpZj5rh\n",
      "  Args:\n",
      "    message: 안녕하세요,\n",
      "\n",
      "\"Attention Is All You Need\" 논문에 대한 요약을 공유하고자 합니다.\n",
      "\n",
      "이 논문은 대규모 언어 모델(LLM)의 추론 수요가 최근 몇 달간 급증하고 있으며, 낮은 대기 시간으로 모델을 제공하는 것이 어려움을 겪고 있음을 강조합니다. 연구에서는 추론 시 MLP 및 주의(attention) 레이어를 제거하는 것이 Llama-v2 모델의 성능에 미치는 영향을 조사하였습니다. 주요 발견으로는, 깊은 주의 레이어를 제거하는 것이 성능을 소폭 감소시키지만 속도 향상에 기여한다는 것입니다. 예를 들어, 13B Llama2 모델에서 33%의 주의 레이어를 제거하면 OpenLLM 벤치마크에서 평균 성능이 1.8% 감소하는 것으로 나타났습니다. 또한, 마지막 레이어를 제외한 레이어를 건너뛰는 것이 성능을 저하시킨다는 점도 관찰되었습니다.\n",
      "\n",
      "이 논문은 대규모 언어 모델의 성능과 효율성을 개선하기 위한 중요한 통찰을 제공합니다. 추가적인 질문이나 논의가 필요하시면 언제든지 말씀해 주세요.\n",
      "\n",
      "감사합니다.\n",
      "    to: ['robert@hanpoom.com']\n",
      "    subject: Attention Is All You Need 논문 요약\n",
      "=================================\u001b[1m Tool Message \u001b[0m=================================\n",
      "Name: send_gmail_message\n",
      "\n",
      "Message sent. Message Id: 196ec1e128e9b3c4\n",
      "==================================\u001b[1m Ai Message \u001b[0m==================================\n",
      "\n",
      "이메일이 성공적으로 전송되었습니다. 추가적으로 도움이 필요하시면 언제든지 말씀해 주세요!\n",
      "==================================\u001b[1m Ai Message \u001b[0m==================================\n",
      "\n",
      "이메일이 성공적으로 전송되었습니다. 추가적으로 도움이 필요하시면 언제든지 말씀해 주세요!\n",
      "==================================\u001b[1m Ai Message \u001b[0m==================================\n",
      "\n",
      "이메일이 성공적으로 전송되었습니다. 추가적으로 도움이 필요하시면 언제든지 말씀해 주세요!\n"
     ]
    }
   ],
   "source": [
    "send_query = '이메일을 전송해주세요'\n",
    "for chunk in graph.stream({'messages': [HumanMessage(send_query)]}, config=config, stream_mode='values'):\n",
    "    chunk['messages'][-1].pretty_print()"
   ]
  },
  {
   "cell_type": "code",
   "execution_count": null,
   "metadata": {},
   "outputs": [],
   "source": []
  }
 ],
 "metadata": {
  "kernelspec": {
   "display_name": ".venv",
   "language": "python",
   "name": "python3"
  },
  "language_info": {
   "codemirror_mode": {
    "name": "ipython",
    "version": 3
   },
   "file_extension": ".py",
   "mimetype": "text/x-python",
   "name": "python",
   "nbconvert_exporter": "python",
   "pygments_lexer": "ipython3",
   "version": "3.13.3"
  }
 },
 "nbformat": 4,
 "nbformat_minor": 2
}
