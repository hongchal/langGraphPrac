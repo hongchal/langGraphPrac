{
 "cells": [
  {
   "cell_type": "code",
   "execution_count": 1,
   "id": "7882e61b-5627-4ed8-a1c8-16d9df1dff5f",
   "metadata": {},
   "outputs": [
    {
     "data": {
      "text/plain": [
       "True"
      ]
     },
     "execution_count": 1,
     "metadata": {},
     "output_type": "execute_result"
    }
   ],
   "source": [
    "from dotenv import load_dotenv \n",
    "\n",
    "load_dotenv()"
   ]
  },
  {
   "cell_type": "code",
   "execution_count": 2,
   "id": "62ee1540-2b7c-4667-87be-8c783aa2cf79",
   "metadata": {},
   "outputs": [],
   "source": [
    "from typing_extensions import TypedDict\n",
    "from langgraph.graph import StateGraph\n",
    "\n",
    "class AgentState(TypedDict):\n",
    "    query: str\n",
    "    context: list\n",
    "    answer: str\n",
    "    \n",
    "graph_builder = StateGraph(AgentState)"
   ]
  },
  {
   "cell_type": "code",
   "execution_count": 3,
   "id": "fa453e9d-7cb7-4836-86b0-853e1492b3df",
   "metadata": {},
   "outputs": [],
   "source": [
    "from langchain_community.tools import TavilySearchResults\n",
    "\n",
    "tavily_search_tool = TavilySearchResults(\n",
    "    max_results=3,\n",
    "    search_depth=\"advanced\",\n",
    "    include_answer=True,\n",
    "    include_raw_content=True,\n",
    "    include_images=True,\n",
    ")\n",
    "\n",
    "def web_search(state: AgentState) -> AgentState:\n",
    "    \"\"\"\n",
    "    주어진 state를 기반으로 웹 검색을 수행합니다.\n",
    "\n",
    "    Args:\n",
    "        state (AgentState): 사용자의 질문을 포함한 에이전트의 현재 state.\n",
    "\n",
    "    Returns:\n",
    "        AgentState: 웹 검색 결과가 추가된 state를 반환합니다.\n",
    "    \"\"\"\n",
    "    query = state['query']\n",
    "    results = tavily_search_tool.invoke(query)\n",
    "\n",
    "    return {'context': results}"
   ]
  },
  {
   "cell_type": "code",
   "execution_count": 4,
   "id": "6a024899-b109-4d50-bedd-524789687b65",
   "metadata": {},
   "outputs": [
    {
     "name": "stderr",
     "output_type": "stream",
     "text": [
      "/Users/robert/Desktop/langGrahpPrac/.venv/lib/python3.13/site-packages/langsmith/client.py:256: LangSmithMissingAPIKeyWarning: API key must be provided when using hosted LangSmith API\n",
      "  warnings.warn(\n"
     ]
    }
   ],
   "source": [
    "from langchain import hub\n",
    "from langchain_openai import ChatOpenAI\n",
    "from langchain_core.output_parsers import StrOutputParser\n",
    "\n",
    "# LangChain 허브에서 프롬프트를 가져옵니다\n",
    "generate_prompt = hub.pull(\"rlm/rag-prompt\")\n",
    "# OpenAI의 GPT-4o 모델을 사용합니다\n",
    "generate_llm = ChatOpenAI(model=\"gpt-4o\")\n",
    "\n",
    "def web_generate(state: AgentState) -> AgentState:\n",
    "    \"\"\"\n",
    "    주어진 문맥과 질문을 기반으로 답변을 생성합니다.\n",
    "\n",
    "    Args:\n",
    "        state (AgentState): 문맥과 질문을 포함한 에이 트의 현재 state.\n",
    "\n",
    "    Returns:\n",
    "        AgentState: 생성된 답변을 포함한 state를 반환합니다.\n",
    "    \"\"\"\n",
    "    # state에서 문맥과 질문을 추출합니다\n",
    "    context = state['context']\n",
    "    query = state['query']\n",
    "    \n",
    "    # 프롬프트와 모델, 출력 파서를 연결하여 체인을 생성합니다\n",
    "    rag_chain = generate_prompt | generate_llm | StrOutputParser()\n",
    "    \n",
    "    # 체인을 사용하여 답변을 생성합니다\n",
    "    response = rag_chain.invoke({'question': query, 'context': context})\n",
    "    \n",
    "    # 생성된 답변을 'answer'로 반환합니다\n",
    "    return {'answer': response}"
   ]
  },
  {
   "cell_type": "code",
   "execution_count": 5,
   "id": "32493774-eb64-41d4-bf71-51ddb84400b6",
   "metadata": {},
   "outputs": [],
   "source": [
    "from langchain_openai import ChatOpenAI\n",
    "from langchain_core.output_parsers import StrOutputParser\n",
    "\n",
    "# OpenAI의 GPT-4o-mini 모델을 사용합니다\n",
    "basic_llm = ChatOpenAI(model=\"gpt-4o-mini\")\n",
    "\n",
    "def basic_generate(state: AgentState) -> AgentState:\n",
    "    \"\"\"\n",
    "    사용자의 질문에 기반하여 기본 답변을 생성합니다.\n",
    "\n",
    "    Args:\n",
    "        state (AgentState): 사용자의 질문을 포함한 에이전트의 현재 state.\n",
    "\n",
    "    Returns:\n",
    "        AgentState: 생성된 답변을 포함한 state를 반환합니다.\n",
    "    \"\"\"\n",
    "    # state에서 질문을 추출합니다\n",
    "    query = state['query']\n",
    "    \n",
    "    # 기본 LLM 체인을 생성합니다\n",
    "    basic_llm_chain = basic_llm | StrOutputParser()\n",
    "    \n",
    "    # 체인을 사용하여 답변을 생성합니다\n",
    "    llm_response = basic_llm_chain.invoke(query)\n",
    "    \n",
    "    # 생성된 답변을 'answer'로 반환합니다\n",
    "    return {'answer': llm_response}"
   ]
  },
  {
   "cell_type": "code",
   "execution_count": 6,
   "id": "d410b746-66dc-4768-94a2-9cb82ad3a276",
   "metadata": {},
   "outputs": [],
   "source": [
    "from langchain_core.prompts import ChatPromptTemplate \n",
    "from pydantic import BaseModel, Field \n",
    "from typing import Literal \n",
    "\n",
    "class Route(BaseModel):\n",
    "    target: Literal['vector_store', 'llm', 'web_search'] = Field(\n",
    "        description=\"the target for the query to answer\"\n",
    "    )\n",
    "\n",
    "router_system_prompt  = '''\n",
    "You are an expert at routing a user's question to 'vector_store', 'llm', or 'web_search'.\n",
    "'vector_store' contains information about income tax up to December 2024.\n",
    "if you think the question is simple enough use 'llm'\n",
    "if you think you need to search the web to answer the question use 'web_search'\n",
    "'''\n",
    "\n",
    "router_prompt = ChatPromptTemplate.from_messages([\n",
    "    (\"system\", router_system_prompt),\n",
    "    (\"user\", '{query}')\n",
    "])\n",
    "\n",
    "router_llm = ChatOpenAI(model='gpt-4o-mini')\n",
    "structured_router_llm = router_llm.with_structured_output(Route)\n",
    "\n",
    "def router(state: AgentState) -> Literal[\"vector_store\", \"llm\", \"web_search\"]:\n",
    "    query = state['query']\n",
    "    router_chain = router_prompt | structured_router_llm\n",
    "\n",
    "    route = router_chain.invoke({\"query\": query})\n",
    "\n",
    "    return route.target"
   ]
  },
  {
   "cell_type": "code",
   "execution_count": 7,
   "id": "9816e0fb-485f-446e-b0a7-f906cddc8f82",
   "metadata": {},
   "outputs": [
    {
     "name": "stderr",
     "output_type": "stream",
     "text": [
      "/Users/robert/Desktop/langGrahpPrac/.venv/lib/python3.13/site-packages/langsmith/client.py:256: LangSmithMissingAPIKeyWarning: API key must be provided when using hosted LangSmith API\n",
      "  warnings.warn(\n",
      "/Users/robert/Desktop/langGrahpPrac/.venv/lib/python3.13/site-packages/langsmith/client.py:256: LangSmithMissingAPIKeyWarning: API key must be provided when using hosted LangSmith API\n",
      "  warnings.warn(\n",
      "/Users/robert/Desktop/langGrahpPrac/.venv/lib/python3.13/site-packages/langsmith/client.py:256: LangSmithMissingAPIKeyWarning: API key must be provided when using hosted LangSmith API\n",
      "  warnings.warn(\n"
     ]
    },
    {
     "data": {
      "text/plain": [
       "<langgraph.graph.state.StateGraph at 0x10422a7b0>"
      ]
     },
     "execution_count": 7,
     "metadata": {},
     "output_type": "execute_result"
    }
   ],
   "source": [
    "from income_tax_graph import graph as income_tax_subgraph\n",
    "\n",
    "graph_builder.add_node('income_tax_agent', income_tax_subgraph)\n",
    "graph_builder.add_node('web_search', web_search)\n",
    "graph_builder.add_node('web_generate', web_generate)\n",
    "graph_builder.add_node('basic_generate', basic_generate)"
   ]
  },
  {
   "cell_type": "code",
   "execution_count": 8,
   "id": "42394bf3-15e9-4d72-bf5f-e13235e0c1d2",
   "metadata": {},
   "outputs": [
    {
     "data": {
      "text/plain": [
       "<langgraph.graph.state.StateGraph at 0x10422a7b0>"
      ]
     },
     "execution_count": 8,
     "metadata": {},
     "output_type": "execute_result"
    }
   ],
   "source": [
    "from langgraph.graph import START, END \n",
    "\n",
    "graph_builder.add_conditional_edges(\n",
    "    START,\n",
    "    router,\n",
    "    {\n",
    "        'vector_store': 'income_tax_agent',\n",
    "        'llm': 'basic_generate',\n",
    "        'web_search': 'web_search'\n",
    "    }\n",
    ")\n",
    "\n",
    "graph_builder.add_edge('web_search', 'web_generate')\n",
    "graph_builder.add_edge('web_generate', END)\n",
    "graph_builder.add_edge('basic_generate', END)\n",
    "graph_builder.add_edge('income_tax_agent', END)\n"
   ]
  },
  {
   "cell_type": "code",
   "execution_count": 9,
   "id": "4fc69763-9af6-4839-b227-a20ad6465991",
   "metadata": {},
   "outputs": [],
   "source": [
    "graph = graph_builder.compile()"
   ]
  },
  {
   "cell_type": "code",
   "execution_count": 11,
   "id": "c127553b-ef78-4465-bfbd-0bb048485e3e",
   "metadata": {},
   "outputs": [
    {
     "name": "stdout",
     "output_type": "stream",
     "text": [
      "                              +-----------+                                  \n",
      "                              | __start__ |..                                \n",
      "                         .....+-----------+  .....                           \n",
      "                     ....            .            .....                      \n",
      "                .....               .                  ....                  \n",
      "             ...                    .                      .....             \n",
      " +------------+                     .                           ...          \n",
      " | web_search |                     .                             .          \n",
      " +------------+                     .                             .          \n",
      "        *                           .                             .          \n",
      "        *                           .                             .          \n",
      "        *                           .                             .          \n",
      "+--------------+           +----------------+           +------------------+ \n",
      "| web_generate |           | basic_generate |           | income_tax_agent | \n",
      "+--------------+*****      +----------------+         **+------------------+ \n",
      "                     ****           *             ****                       \n",
      "                         *****       *       *****                           \n",
      "                              ***    *    ***                                \n",
      "                                +---------+                                  \n",
      "                                | __end__ |                                  \n",
      "                                +---------+                                  \n"
     ]
    }
   ],
   "source": [
    "# from IPython.display import Image, display\n",
    "\n",
    "# display(Image(graph.get_graph().draw_mermaid_png()))\n",
    "graph.get_graph().print_ascii()\n"
   ]
  },
  {
   "cell_type": "code",
   "execution_count": 12,
   "id": "819d4477-e790-4c4d-a69c-a52fface6ce7",
   "metadata": {},
   "outputs": [
    {
     "data": {
      "text/plain": [
       "{'query': '대한민국의 수도는 어디인가요?', 'answer': '대한민국의 수도는 서울입니다.'}"
      ]
     },
     "execution_count": 12,
     "metadata": {},
     "output_type": "execute_result"
    }
   ],
   "source": [
    "initial_state = {'query': '대한민국의 수도는 어디인가요?'}\n",
    "graph.invoke(initial_state)"
   ]
  },
  {
   "cell_type": "code",
   "execution_count": 13,
   "id": "77759616-9290-4973-a200-9e55ba096cb9",
   "metadata": {},
   "outputs": [
    {
     "data": {
      "text/plain": [
       "{'query': '연봉 5천만원인 거주자의 소득세는 얼마인가요?',\n",
       " 'context': [Document(metadata={'source': './documents/income_tax.txt'}, page_content='| 1,400만원 초과     | 84만원 + (1,400만원을 초과하는 금액의 15퍼센트)                    |\\n| 5,000만원 이하     | 624만원 + (5,000만원을 초과하는 금액의 24퍼센트)                  |\\n| 8,800만원 이하     | 1,536만원 + (8,800만원을 초과하는 금액의 35퍼센트)                |\\n| 1억5천만원 이하    | 3,706만원 + (1억5천만원을 초과하는 금액의 38퍼센트)                |\\n| 3억원 이하        | 9,406만원 + (3억원을 초과하는 금액의 40퍼센트)                    |\\n| 5억원 이하        | 1억7,406만원 + (5억원을 초과하는 금액의 42퍼센트)                 |\\n| 10억원 이하       | 3억3,406만원 + (10억원을 초과하는 금액의 45퍼센트)                |\\n법제처 35 국가법령정보센터\\n소득세법\\n② 거주자의 퇴직소득에 대한 소득세는 다음 각 호의 순서에 따라 계산한 금액(이하 \"퇴직소득 산출세액\"이라 한다)으로 한다. <개정 2013. 1. 1, 2014. 12. 23.>\\n   1. 해당 과세기간의 퇴직소득과세표준에 제11항의 세율을 적용하여 계산한 금액\\n   2. 제1호의 금액을 12로 나눈 금액에 근속연수를 곱한 금액\\n   3. 삭제 <2014. 12. 23.>\\n   [전문개정 2009. 12. 31.]\\n제2관 세액공제 <개정 2009. 12. 31.>\\n제56조(배당세액공제) ① 거주자의 종합소득금액에 제17조제3항 각 호 외의 부분 단서가 적용되는 배당소득금액이 합산되어 있는 경우에는 같은 항 각 호 외의 부분 단서에 따라 해당 과세기간의 총수입금액에 대한 금액에 해당하는 금액을 종합소득 산출세액에서 공제한다. <개정 2009. 12. 31.>\\n   1. 제1항에 따른 공제를 \"배당세액공제\"라 한다. <개정 2009. 12. 31.>\\n   2. 삭제 <2006. 12. 30.>\\n   3. 제1항을 적용할 때 배당세액공제의 대상이 되는 배당소득금액은 제14조제3항의 종합소득과세표준에 포함된 배당소득금액으로서 이자소득 등의 종합과세기준금액을 초과하는 것으로 한한다. <개정 2009. 12. 31.>\\n② 삭제 <2006. 12. 30.>\\n③ 배당세액공제액의 계산 등에 필요한 사항은 대통령령으로 정한다. <개정 2009. 12. 31.>\\n   [제목개정 2009. 12. 31.]'),\n",
       "  Document(metadata={'source': './documents/income_tax.txt'}, page_content='③ 제50조제1항제13호 및 제59조의2에 따라 적용대상 나이가 정해진 경우에는 제4항 본문에도 불구하고 해당 과세기간 과세기간 중에 해당 나이에 해당되는 날이 있는 경우에 공제대상자로 본다.<개정 2014. 1. 1.>\\n소득세법\\n[전문개정 2009. 12. 31.]\\n제54조(종합소득공제 등의 배제) ① 분리과세이자소득, 분리과세배당소득, 분리과세퇴직금소득과 분리과세기타소득만이 있는 자에 대해서는 종합소득공제를 적용하지 아니한다. <개정 2013. 1. 1.>\\n② 제70조제1항, 제70조의2제1항 또는 제74조에 따라 과세표준확정신고를 하여야 할 자가 제70조제4항제1호에 따른 서류를 제출하지 아니한 경우에는 기본공제 중 거주자 본인에 대한 분(欒)과 제95조제4항에 따른 표준세액공제만을 공제한다. 다만, 과세표준확정신고와 아무 관련이 없이 그 서류를 나중에 제출한 경우에는 그러하지 아니하다. <개정 2013. 1. 1.>\\n③ 제20조에 따른 수사부과 결정의 경우에는 기본공제 중 거주자 본인에 대한 분(欒)만을 공제한다. \\n[전문개정 2014. 1. 1.] \\n[제목개정 2014. 1. 1.]\\n제54조의2(공동사업에 대한 소득공제 등 특례) 제51조의3 또는 「조세특례제한법」에 따른 소득공제를 적용하거나 제59조의3에 따른 세액공제를 적용하는 경우 제54조제3항에 따라 소득금액이 주된 공동사업자의 소득금액에 합산과세되는 특수관계인이 지출·납입·투자·출자 등을 한 금액이 있으며 주된 공동사업자의 소득에 합산과세되는 소득금액의 한도에서 주된 공동사업자가 지출·납입·투자·출자 등을 한 금액으로 보아 주된 공동사업자의 합산과세되는 종합소득금액 또는 종합소득산출세액을 계산할 때에 소득공제 또는 세액공제를 받을 수 있다. <개정 2012. 1. 1., 2014. 1. 1.>\\n[전문개정 2009. 12. 31.] \\n[제목개정 2014. 1. 1.]\\n제4절 세액의 계산 <개정 2009. 12. 31.>\\n제1관 세율 <개정 2009. 12. 31.>\\n제55조(세율) ①거주자의 종합소득에 대한 소득세는 해당 연도의 종합소득과세표준에 다음의 세율을 적용하여 계산한 금액(이하 \"종합소득산출세액\"이라 한다)을 그 세액으로 한다. <개정 2014. 1. 1., 2016. 12. 20., 2017. 12. 19., 2020. 12. 29., 2022. 12. 31.>\\n| 과세표준          | 세 율                                                              |\\n|-------------------|------------------------------------------------------------------|\\n| 1,400만원 이하     | 과세표준의 6퍼센트                                               |\\n| 1,400만원 초과     | 84만원 + (1,400만원을 초과하는 금액의 15퍼센트)                    |'),\n",
       "  Document(metadata={'source': './documents/income_tax.txt'}, page_content='법제처          6          국가법령정보센터\\n소득세법\\n2) 근로자 또는 그 배우자의 해당 과세기간 개시일을 기준으로 6세 이하(6세가 되는 날의 그 이전 기간을 말한 다. 이하 이 조 및 제95조에서 같다)인 자녀의 보육과 관련하여 사용자료로부터 지급받는 급여로서 월 20만원 이내의 금액\\n바. 「국고보조금에 관한 법률 등에 관한 법률」에 따른 국고보조가 받는 보수 및 퇴직임금\\n서. 「교육기본법」 제2조제1항에 따라 받은 장학금 중 대학생의 근로를 대가로 지급받는 장학금(\\'고등교육법\\', 제2조제1호부터 제4호까지의 규정에 따른 대학에 재학하는 대학생에 한정한다)\\n어. 「민방위종합」 제2조제2호에 따른 직무명령으로 받는 다음의 보상금(이하 \"직무명령보상금\"이라 한다)으로서 대통령령으로 정하는 금액\\n   1) 「법령집종법」 제2조제2호에 따른 중업원등(이하 이 조, 제2조 및 제21조에서 \"중업원등\"이라 한다)이 같 은 호에 따른 사용자등(이하 이 조에서 \"사용자등\"이라 한다)으로부터 받는 보상금. 다만, 보상금을 지급한 사용자등 과 대통령령으로 정하는 특수관계에 있는 자가 받는 보상금을 제외한다.\\n   2) 대학의 교직원 또는 대학과 고용관계가 있는 학생이 소속 대학에 설치된 「산업교육진흥 및 산학연협력촉 진에 관한 법률」 제25조에 따른 산학협력단(이하 이 조에서 \"산학협력단\"이라 한다)으로부터 같은 법 제32조제1항 제4호에 따라 받는 보상금\\n저. 대통령령으로 정하는 복리후생적 성질의 금여\\n서. 제2조제1항제6호에 따른 소득 중 다음의 요건을 모두 충족하는 소득으로서 대통령령으로 정하는 금액 이하 의 금액\\n   1) 임원 또는 중업원(이하 이 조, 제20조 및 제16조에서)\"임원등\" 한다) 뿐만이 소비하는 것을 목적으로 제공받거나 지원을 받아 구입한 재화 또는 용역으로서 대통령령으로 정하는 기간 동안 재판매가 제한되 어 있지 않을 것\\n   2) 해당 재화 또는 용역의 제공과 관련하여 모든 임원등에게 공통으로 적용되는 기준이 있을 것\\n4. 연금소득 중 다음 각 목의 어느 하나에 해당하는 소득\\n가. 「국가연금법」, 「공무원연금법」 또는 「군인연금법」에 따른 연금   나. 「국가연금법」에 따라 받는 각종 연금\\n다. 「산화계정석보상법령」에 따라 받는 각종 금전금\\n라. 「국고보조금에 관한 법률 등에 관한 법률」에 따른 국고보조가 받는 급여  \\n나. 석제<2013. 1. 1.>\\n다. 「산화계정석보상법령」에 따라 받는 각종 연금\\n라. 「국고보조금에 관한 법률 종에 관한 법률」에 따른 국고보조가 받는 급여\\n마. 석제 <2013. 1. 1.>')],\n",
       " 'answer': '연봉 5천만원인 거주자의 소득세는 624만원입니다.'}"
      ]
     },
     "execution_count": 13,
     "metadata": {},
     "output_type": "execute_result"
    }
   ],
   "source": [
    "initial_state = {'query': '연봉 5천만원인 거주자의 소득세는 얼마인가요?'}\n",
    "graph.invoke(initial_state)"
   ]
  },
  {
   "cell_type": "code",
   "execution_count": 14,
   "id": "48c166a4-1d09-4779-966f-5b1195949830",
   "metadata": {},
   "outputs": [
    {
     "data": {
      "text/plain": [
       "{'query': '역삼 맛집을 추천해주세요',\n",
       " 'context': [{'url': 'https://foodtriplove.com/entry/역삼역-맛집-BEST-5-모두의-맛집',\n",
       "   'content': '음식공감\\n\\n음식공감\\n\\n음식공감\\n\\n태그\\n\\n최근글\\n\\n댓글\\n\\n공지사항\\n\\n아카이브\\n\\n2022. 10. 5. 17:00ㆍ맛집리스트\\n\\n본 블로그의 맛집 선정 기준은 네이버에 나온 방문자, 블로그 리뷰 수와 리뷰 글들을 보고 선정했습니다. 한번에 보실 수 있도록 기획해봤습니다. 리뷰 글들 꼭 참고하시는 걸 추천드립니다. 그럼 역삼역 맛집을 소개해드리겠습니다.\\n\\n1. 역삼역 맛집 \" 스터번 \"\\n\\n-\\xa0뉴욕 스테이크, 립 전문점입니다.\\n\\n스터번\\n\\n* 도움되는 찐리뷰\\n\\n친구들이랑 방문했고, 분위기도 적당하고 맛도 좋았습니다. 예약도 친절히 잘 받아주시고 파스타도 맛이 좋았고, 소스가 맛있어서 스테이크 맛이 더 살아있었습니다.\\n\\n\\n\\n즐겁고 행복한 맛있는 저녁식사 시간이였습니다.\\n\\n\\n\\n\\n\\n스테이크 맛집 찾다가 예약하고 가게 되었는데 정말 스테이크 맛집이였습니다. 그외 다른 음식들도 맛있었습니다. 일하시는 분들도 너무 친절하시고 평일 점심시간에도 사람이 많습니다. 역시 역삼역 맛집이네요.\\n\\n* 특징 [...] 아보카도 딥은 건강한 맛이었고, 치킨 시저 샐러드가 맛있었습니다. 역시 역삼역 맛집! 링귀니 파스타는 약간 새콤짭짤 특이한 맛입니다. 담에 가면 팬케이크를 먹어봐야겠습니다.\\n\\n* 특징\\n\\n주소는 서울 강남구 역삼동 736-1, 운영시간은 매일 9시~22시, 라스트오더는 20시50분입니다. 업체번호는 0507-1312-9012, 메뉴와 가격은 빌즈 리코타 핫케이크 19,800원/ 풀 오지 25,000원등 여러메뉴가 있습니다. 단체석, 주차, 포장, 무선 인터넷이 가능합니다.\\n\\n\\n\\n3. 역삼역 맛집\\xa0\" 알라보 강남점\\xa0 \"\\n\\n-\\xa0세계인이 사랑하는 슈퍼푸드 아보카도를 모티브로하여 완전식품을 지향합니다.\\n\\n알라보 강남점\\n\\n* 도움되는 찐리뷰\\n\\n너무 맛있습니다. 양 진짜 많아서 비싸다는 생각 안 들고, 재료 구성도 이것저것 많이 들어 있어서 너무 좋고 샐러드로 배터질 수 있습니다.\\n\\n\\n\\n\\n\\n테이블 10개정도, 의자 다소불편, 하지만 맛있습니다. 맛있어서 재방문의사 있습니다. [...] 제가 좋아하는 콩류가 많아서 맛있게 먹었습니다. 식감도 다채롭고 재료도 신선해서 좋았습니다. 젤 비싼 거 먹었는데 고기는 기대보다 쏘쏘합니다. 그래도 역삼역 맛집으로 인정합니다.\\n\\n* 특징\\n\\n주소는 서울 강남구 역삼동 684-9, 운영시간은 월~금 9시30분~21시, 라스트오더는 20시30분, 토~일 9시30분~20시, 라스트오더 19시30분입니다. 업체번호는 010-3942-0939, 메뉴와 가격은 수비드 닭가슴살 아보카도볼 11,500원/ 수비드 비프 아보카도 14,800원등 여러메뉴가 있습니다. 단체석, 포장, 주차, 배달, 무선 인터넷, 제로페이가 가능합니다.\\n\\n\\n\\n4. 역삼역 맛집\\xa0\" 트라가 \"\\n\\n-\\xa0재료 본연의 가치를 최대한 살릴 수 있게 요리를 지향하는 스페인레스토랑 입니다.\\n\\n트라가\\n\\n* 도움되는 찐리뷰\\n\\n맛있습니다. 세트로 시키니 다양하게 맛 볼 수 있어서 좋고 샐러드도 너무 맛있습니다. 분위기도 약간 유럽느낌입니다.'},\n",
       "  {'url': 'https://forourtour.com/역삼동-맛집/',\n",
       "   'content': '역삼동 맛집에 대한 개인적인 의견\\n역삼동의 베스트 추천 맛집은?\\n역삼동의 인기있고 리뷰가 좋은 베스트 추천 맛집은 호보식당, 떡도리탕, 유니네 고깃간, 미도인 강남, 후추포인트, 강남 곱, 틴틴, 트라가, 팔백집, 땀땀 등이 있습니다. 추천해드린 역삼동 맛집의 지도, 홈페이지, 운영 시간, 메뉴, 사진 및 설명을 참고하여 베스트 추천 맛집에서 맛있는 점심 저녁 식사하시기 바랍니다.\\n국내 여러 인기 여행지 알아보기\\n함께 방문하면 좋은 장소는?\\n위 글에서 역삼동의 베스트 추천 맛집에 대해 알아보았습니다. 나머지 아래 글에서 서울의 여러 맛집들을 확인할 수 있습니다. 맛있는 식사 하시며 즐거운 추억 만드시기 바랍니다. 감사합니다.\\n신용산 맛집 추천 베스트 10\\n여의도 맛집 추천 베스트 10\\n삼각지 맛집 추천 베스트 10\\nTable of Contents [...] 역삼동 맛집 추천 베스트 10 | 역삼역 강남역 데이트 | 점심 저녁 핫플\\n2024년 02월 17일2023년 08월 18일 by 나그네\\n역삼동은 강남권의 대표적인 사무실 밀집 지역이자 숨겨진 맛집이 많은 곳으로 유명합니다. 역삼동의 맛집에는 \\xa0호보식당, 떡도리탕, 유니네 고깃간, 미도인 강남, 후추포인트, 강남 곱, 틴틴, 트라가, 팔백집, 땀땀 등이 있습니다. 역삼동의 점심 저녁 맛집 리스트 지도를 알아보겠습니다. 관련 검색어에는 서울 역삼동 맛집 추천 베스트 한식 일식 술집 점심 저녁 핫플 역삼역 강남역 센터필드 데이트 놀거리 지도 음식점 분위기 재방문 리뷰 리스트 입니다.\\n\\n역삼동 맛집 추천 모음\\n역삼동 맛집은 호보식당, 떡도리탕, 유니네 고깃간, 미도인 강남, 후추포인트, 강남 곱, 틴틴, 트라가, 팔백집, 땀땀이 있습니다. 아래에서 역삼동 추천 맛집 10곳의 지도 및 리스트를 알아보겠습니다.\\n\\n호보식당: 역삼역 핫플 마늘갈비 추천 맛집 – 홈페이지 바로가기 [...] 맛집 소개\\n역삼역 3번 출구에서 도보 5분 거리에 위치한 호보식당은 숯불양념갈비 전문점입니다. 이 곳의 대표 메뉴인 마늘갈비는 마늘 양념이 잔뜩 올라간 갈비로, 바질, 할라피뇨, 고수로 만든 특제 소스 조합으로 함께 먹으면 더욱 맛있다고 합니다. 소갈비는 촉촉하고 부드러우며 입에서 살살 녹는 육질이라고 하네요. 사이드 메뉴인 된장뚝배기도 얼큰하고 맛있다고 합니다. 회식 장소로도 인기 있는 호보식당에 방문하셔서 든든한 고기 요리를 맛보고 오시기 바랍니다.\\n맛집 위치\\n서울 강남구 논현로85길 43 1층\\n운영 시간\\n평일 11:00 – 21:40\\n14:00 – 16:10 브레이크타임\\n주말 13:00 – 21:40\\n20:40 라스트 오더\\n메뉴\\n\\n마늘갈비 28,000원\\n호보갈비 17,000원\\n찰살구이 18,000원\\n갈비깍두기볶음밥 11,000원\\n\\n떡도리탕: 역삼동 점심 저녁 추천 맛집 – 거리뷰 바로가기'},\n",
       "  {'url': 'https://hotel-iu.tistory.com/8573',\n",
       "   'content': \"코니코니 해피라이프\\n\\n추천 TOP 10\\n\\n역삼역 점심 맛집 베스트 추천 top 10\\n\\n역삼역 점심 맛집 베스트 추천 top 10\\n\\n역삼역 점심 맛집 베스트 추천 top 10곳을 소개합니다.\\n\\n\\n\\n\\n\\n1: 아침점심저녁 강남점\\n\\n상호명: 아침점심저녁 강남점주소: 서울특별시 강남구 역삼동 706-17 지하1층 B102호전화번호: 미입력관련 키워드: ['제육계란이불덮밥', '순살닭도리탕', '아구도리탕', '불고기덮밥', '고등어덮밥']관련 태그: 미입력영업시간: 미입력\\n소개글: 몽글몽글한 계란과 어울리는 재료들의 덮밥과 집밥 생각나는 따뜻한 찌개요리들 배달과 포장을 전문으로 하고있습니다!!\\nhttps://map.naver.com/p/entry/place/1249578375아침점심저녁 강남점 바로가기▲\\n\\n\\n\\n\\n2: 빨강우산 부대찌개 선릉역 본점 점심저녁 전문 [...] 8: 서울집\\n\\n상호명: 서울집주소: 서울특별시 강남구 역삼동 673-30 지상 1층전화번호: 02-501-2126관련 키워드: ['역삼역점심', '역삼역한식', '역삼역회식', '역삼역술집', '역삼역밥집']관련 태그: ['데이트하기 좋은', '모임하기 좋은', '단체회식']영업시간: 매일 11:00~22:00 브레이크타임 15:00~17:00 | 주말 11:00~20:00\\n소개글: 소고기 양지와 각종 버섯 야채에 직접 빚은 손만두를 넣은 만두전골이 정말 맛있습니다.만두전골 이외에도 전 종류와 신선한 해산물 메뉴도 있습니다.맛있는 밥집 저녁에는 맛있는 술집으로 추천합니다!\\nhttps://map.naver.com/p/entry/place/1829895775서울집 바로가기▲\\n\\n\\n\\n\\n9: 청기와타운 역삼점 [...] 상호명: 고래불 역삼본점주소: 서울특별시 강남구 역삼동 828-52 백악빌딩 1, 2층 고래불전화번호: 미입력관련 키워드: ['강남역대방어코스요리', '역삼역상견례룸식당', '콜키지프리', '강남역가족점심모임', '역삼역파인다이닝']관련 태그: ['모임하기 좋은', '특별한 날', '단체회식']영업시간: 평일 11:30~14:30 | 평일 17:00~22:00 | 주말 11:30~22:00\"}],\n",
       " 'answer': \"역삼 맛집 추천으로는 뉴욕 스테이크 전문점 '스터번', 아보카도 중심의 건강식을 제공하는 '알라보 강남점', 스페인 요리를 즐길 수 있는 '트라가' 등이 있습니다. 또한, 숯불양념갈비 전문점 '호보식당'도 추천할 만한 곳입니다. 각 식당의 특성과 운영 시간을 참고하여 방문해 보세요.\"}"
      ]
     },
     "execution_count": 14,
     "metadata": {},
     "output_type": "execute_result"
    }
   ],
   "source": [
    "initial_state = {'query': '역삼 맛집을 추천해주세요'}\n",
    "graph.invoke(initial_state)"
   ]
  },
  {
   "cell_type": "code",
   "execution_count": null,
   "id": "de2d8f45-d796-404c-9fda-f2e806fd8dec",
   "metadata": {},
   "outputs": [],
   "source": []
  }
 ],
 "metadata": {
  "kernelspec": {
   "display_name": "Python (uv-inflearn)",
   "language": "python",
   "name": "uv-env-inflearn"
  },
  "language_info": {
   "codemirror_mode": {
    "name": "ipython",
    "version": 3
   },
   "file_extension": ".py",
   "mimetype": "text/x-python",
   "name": "python",
   "nbconvert_exporter": "python",
   "pygments_lexer": "ipython3",
   "version": "3.13.3"
  }
 },
 "nbformat": 4,
 "nbformat_minor": 5
}
