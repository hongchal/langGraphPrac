{
 "cells": [
  {
   "cell_type": "code",
   "execution_count": 1,
   "id": "06da9cd8-89eb-423c-8f9c-a01d1f787d56",
   "metadata": {},
   "outputs": [
    {
     "data": {
      "text/plain": [
       "True"
      ]
     },
     "execution_count": 1,
     "metadata": {},
     "output_type": "execute_result"
    }
   ],
   "source": [
    "from dotenv import load_dotenv\n",
    "\n",
    "load_dotenv()"
   ]
  },
  {
   "cell_type": "code",
   "execution_count": 2,
   "id": "4ed82bae-fe83-46f8-89a6-4b97baaa34d2",
   "metadata": {},
   "outputs": [],
   "source": [
    "# from langchain_chroma import Chroma\n",
    "# from langchain_openai import OpenAIEmbeddings\n",
    "# from langchain_community.document_loaders import TextLoader\n",
    "# from langchain_text_splitters import RecursiveCharacterTextSplitter\n",
    "\n",
    "# text_splitter = RecursiveCharacterTextSplitter(\n",
    "#     chunk_size = 1500,\n",
    "#     chunk_overlap = 100,\n",
    "#     separators=['\\n\\n', '\\n']\n",
    "# ) \n",
    "\n",
    "# text_path = './documents/real_estate_tax.txt'\n",
    "\n",
    "# loader = TextLoader(text_path)\n",
    "# document_list = loader.load_and_split(text_splitter)\n",
    "\n",
    "# embeddings = OpenAIEmbeddings(model='text-embedding-3-large')\n",
    "\n",
    "# vector_store = Chroma.from_documents(\n",
    "#     documents=document_list,\n",
    "#     embedding=embeddings,\n",
    "#     collection_name = 'real_estate_tax',\n",
    "#     persist_directory = './real_estate_tax_collection'\n",
    "# )"
   ]
  },
  {
   "cell_type": "code",
   "execution_count": 3,
   "id": "8dc0f287-e350-4dd5-94fb-284ac64abed6",
   "metadata": {},
   "outputs": [],
   "source": [
    "from typing_extensions import TypedDict\n",
    "from langgraph.graph import StateGraph\n",
    "\n",
    "class AgentState(TypedDict):\n",
    "    query: str # 사용자 질문\n",
    "    answer: str # 세율\n",
    "    tax_base_equation: str # 과세표준 계산 수식 \n",
    "    tax_deduction: str # 공제액 \n",
    "    market_ratio: str # 공정시장가액비율\n",
    "    tax_base: str # 과세표준 계산\n",
    "    \n",
    "graph_builder = StateGraph(AgentState)"
   ]
  },
  {
   "cell_type": "code",
   "execution_count": 4,
   "id": "c3589061-3b04-4bcd-b29f-068f9128c179",
   "metadata": {},
   "outputs": [],
   "source": [
    "from langchain_chroma import Chroma \n",
    "from langchain_openai import OpenAIEmbeddings \n",
    "\n",
    "embedding_function = OpenAIEmbeddings(model= 'text-embedding-3-large')\n",
    "vector_store = Chroma(\n",
    "    embedding_function=embedding_function,\n",
    "    collection_name = 'real_estate_tax',\n",
    "    persist_directory='./real_estate_tax_collection'\n",
    ")"
   ]
  },
  {
   "cell_type": "code",
   "execution_count": 5,
   "id": "a63b9025-bea1-4d94-a3c7-b20641cb4cb7",
   "metadata": {},
   "outputs": [],
   "source": [
    "retriever = vector_store.as_retriever(search_kwargs = {'k': 3})"
   ]
  },
  {
   "cell_type": "code",
   "execution_count": 6,
   "id": "cbe4cf28-b29c-4cde-81a2-8a911c73f3e0",
   "metadata": {},
   "outputs": [],
   "source": [
    "query = '5억짜리 집 1채, 10억짜리 집 1채, 20억짜리 집 1채를 가지고 있을 때 세금을 얼마나 내나요?'"
   ]
  },
  {
   "cell_type": "code",
   "execution_count": 7,
   "id": "83f83a6d-f371-465b-952c-02da214dae37",
   "metadata": {},
   "outputs": [
    {
     "data": {
      "text/plain": [
       "[Document(metadata={'source': './documents/real_estate_tax.txt'}, page_content='납세의무자가 2주택 이하를 소유한 경우\\n\\n| 과세표준              | 세율                                  |\\n|---------------------|-------------------------------------|\\n| 3억 원 이하           | 1천분의 5                              |\\n| 3억 원 초과 6억 원 이하 | 150만 원 + (3억 원을 초과하는 금액의 1천분의 7)  |\\n| 6억 원 초과 12억 원 이하 | 360만 원 + (6억 원을 초과하는 금액의 1천분의 10) |\\n| 12억 원 초과 25억 원 이하 | 960만 원 + (12억 원을 초과하는 금액의 1천분의 13)|\\n| 25억 원 초과 50억 원 이하 | 2천650만 원 + (25억 원을 초과하는 금액의 1천분의 15)|\\n| 50억 원 초과 94억 원 이하 | 6천400만 원 + (50억 원을 초과하는 금액의 1천분의 20)|\\n| 94억 원 초과          | 1억 5천200만 원 + (94억 원을 초과하는 금액의 1천분의 27)|\\n\\n납세의무자가 3주택 이상을 소유한 경우\\n\\n| 과세표준              | 세율                                  |\\n|---------------------|-------------------------------------|\\n| 3억 원 이하           | 1천분의 5                              |\\n| 3억 원 초과 6억 원 이하 | 150만 원 + (3억 원을 초과하는 금액의 1천분의 7)  |\\n| 6억 원 초과 12억 원 이하 | 360만 원 + (6억 원을 초과하는 금액의 1천분의 10) |\\n| 12억 원 초과 25억 원 이하 | 960만 원 + (12억 원을 초과하는 금액의 1천분의 20)|\\n| 25억 원 초과 50억 원 이하 | 3천560만 원 + (25억 원을 초과하는 금액의 1천분의 30)|\\n| 50억 원 초과 94억 원 이하 | 1억1천600만 원 + (50억 원을 초과하는 금액의 1천분의 40)|\\n| 94억 원 초과          | 2억8천660만 원 + (94억 원을 초과하는 금액의 1천분의 50)|\\n\\n② 납세의무자가 법인 또는 법인으로 보는 단체인 경우 제1항에도 불구하고 과세표준에 다음 각 호에 따른 세율을 적용하여 계산한 금액을 주택분 종합부동산세액으로 한다. <신설 2020. 8. 18., 2020. 12. 29., 2022. 12. 31., 2023. 4. 18.>\\n법제처 3 국가법령정보센터\\n종합부동산세법'),\n",
       " Document(metadata={'source': './documents/real_estate_tax.txt'}, page_content='법제처 법제처 2 국가법령정보센터\\n종합부동산세법\\n지역에 소재하는 1주택의 경우에는 2009년 1월 1일부터 2011년 12월 31일까지의 기간 중 납세의무자가 성립하는 분에 한정한다. ③제3항의 규정에 따른 주택을 보유한 납세의무자는 해당 연도 9월 16일부터 9월 30일까지 대통령령으로 정하는 바에 따라 관할 세무서장(이하 “관할세무서장”이라 한다)에게 해당 주택의 보유현황을 신고하여야 한다. <신설 2007. 1. 11., 2020. 6. 9.>\\n④ 제1항을 적용할 때 다음 각 호의 어느 하나에 해당하는 경우에는 1세대 1주택자로 본다. <개정 2022. 9. 15.>\\n  1. 1주택(주택의 부속토지만을 소유한 경우는 제외한다)과 다른 주택의 부속토지(주택의 건물과 부속토지의 소유자가 다른 경우의 그 부속토지로 한정한다)를 합계하여 소유하고 있는 경우\\n  2. 1세대 1주택자가 1주택을 양도하기 전에 다른 주택을 대체취득하여 일시적으로 2주택이 된 경우로서 대통령령으로 정하는 경우\\n  3. 1주택과 상속받은 주택으로서 대통령령으로 정하는 주택(이하 “상속주택”이라 한다)을 합계 소유하고 있는 경우\\n  4. 1주택과 주택 소재 지역, 주택 가격 등을 고려하여 대통령령으로 정하는 지방 저가주택(이하 “지방 저가주택”이라 한다)을 함께 소유하고 있는 경우\\n⑤ 제4항제2호부터 제4호까지의 규정을 적용받으려는 납세의무자는 해당 연도 9월 16일부터 9월 30일까지 대통령령으로 정하는 바에 따라 관할세무서장에게 신청하여야 한다. <신설 2022. 9. 15.> [전문개정 2008. 12. 26. 법률 제9273호에 의하여 2008. 11. 13. 헌법재판소에서 위헌 결정된 이 조를 개정함.]\\n제9조(세율 및 세액) ① 주택에 대한 종합부동산세는 다음 각 호와 같이 납세의무자가 소유한 주택 수에 따라 과세표준에 해당 세율을 적용하여 계산한 금액을 그 세액(이하 “주택분 종합부동산세액”이라 한다)으로 한다. <개정 2018. 12. 31., 2020. 8. 18., 2022. 12. 31.>\\n\\n납세의무자가 2주택 이하를 소유한 경우'),\n",
       " Document(metadata={'source': './documents/real_estate_tax.txt'}, page_content='신탁 설정일 이전에 「국세기본법」 제35조제2항에 따른 법령개정이 도래하는 종합부동산세세액 해당 신탁주택과 관련하여 발생한 것\\n\\n\\n제1호의 금액에 따른 강제징수 과정에서 발생한 강제징수비\\n\\n\\n[본조신설 2020. 12. 29.]\\n제8조(과세표준) ① 주택에 대한 종합부동산세의 과세표준은 납세의무자별로 주택의 공시가격을 합산한 금액에서 다음 각 호의 금액을 공제한 금액에 부동산 시장의 동향과 지방 연조 등을 고려하여 100분의 60부터 100분의 100까지의 범위에서 대통령령으로 정하는 공정시장가액비율을 곱한 금액으로 한다. 다만, 그 금액이 영본가조 있는 경우에는 영으로 본다. <개정 2022. 12. 31., 2023. 4. 18.>\\n\\n\\n대통령령으로 정하는 1세대 1주택자(이하 “1세대 1주택자”라 한다.): 12억원\\n\\n\\n제9조제1항제3호 각 목의 세율이 적용되는 법인 또는 법인으로 보는 단체: 6억원\\n\\n\\n제1호 및 제2호에 해당하지 아니하는 자: 9억원\\n\\n\\n이 경우 각 호의 어느 하나에 해당하는 주택은 제1항에 따른 과세표준 합산의 대상이 되는 주택의 범위에 포함되지 아니하는 것으로 본다. <신설 2005. 12. 31., 2008. 12. 26., 2011. 6. 7., 2015. 8. 28., 2020. 6. 9.>\\n\\n\\n「민간임대주택에 관한 특별법」에 따른 민간임대주택, 「공공주택 특별법」에 따른 공공임대주택 또는 대통령령으로 정하는 다자주택 경과 민자기록, 주택의 수, 가격, 규모 등을 고려하여 대통령령으로 정하는 주택\\n\\n\\n제1호의 주택에 영업을 종계에 제공하기 위한 기숙사 및 사업용 주택, 주택건설사업자가 건축하여 소유하고 있는 미완공주택, 개정어린이집 주택, 「수도권정비계획법」 제2조제1호에 따른 수도권의 지역에 소재하는 주택 중 종합부동산세를 부과하는 목적에 적합하지 아니한 것으로서 대통령으로 정하는 주택, 이 경우 중도열 원')]"
      ]
     },
     "execution_count": 7,
     "metadata": {},
     "output_type": "execute_result"
    }
   ],
   "source": [
    "retriever.invoke(query)"
   ]
  },
  {
   "cell_type": "code",
   "execution_count": 8,
   "id": "8969d60b-60de-48ea-a4ed-e63e3151d551",
   "metadata": {},
   "outputs": [
    {
     "name": "stderr",
     "output_type": "stream",
     "text": [
      "/Users/robert/Desktop/langGrahpPrac/.venv/lib/python3.13/site-packages/langsmith/client.py:256: LangSmithMissingAPIKeyWarning: API key must be provided when using hosted LangSmith API\n",
      "  warnings.warn(\n"
     ]
    }
   ],
   "source": [
    "from langchain_openai import ChatOpenAI \n",
    "from langchain import hub\n",
    "from langchain_core.output_parsers import StrOutputParser \n",
    "from langchain_core.runnables import RunnablePassthrough\n",
    "from langchain_core.prompts import ChatPromptTemplate\n",
    "\n",
    "rag_prompt = hub.pull('rlm/rag-prompt')\n",
    "\n",
    "llm = ChatOpenAI(model='gpt-4o')\n",
    "small_llm = ChatOpenAI(model='gpt-4o-mini')\n"
   ]
  },
  {
   "cell_type": "code",
   "execution_count": 9,
   "id": "f5ccb5ed-98bd-4a18-b368-7884daf7eb6e",
   "metadata": {},
   "outputs": [],
   "source": [
    "tax_base_retriever_chain = (\n",
    "    {'context': retriever, 'question': RunnablePassthrough()}\n",
    "    | rag_prompt \n",
    "    | llm \n",
    "    | StrOutputParser() \n",
    ") \n",
    "\n",
    "tax_base_equation_prompt = ChatPromptTemplate.from_messages([\n",
    "    ('system', '사용자의 질문에서 과세표주을 계산하는 방법을 부연설명 없이 수식만 표현해주세요'),\n",
    "    ('human', '{tax_base_equation_information}')\n",
    "])\n",
    "\n",
    "tax_base_equation_chain = (\n",
    "        {'tax_base_equation_information': RunnablePassthrough()}\n",
    "        | tax_base_equation_prompt\n",
    "        | llm \n",
    "        | StrOutputParser()\n",
    ")\n",
    "\n",
    "tax_base_chain = {'tax_base_equation_information': tax_base_retriever_chain} | tax_base_equation_chain\n",
    "\n",
    "def get_tax_base_equation(state: AgentState): \n",
    "    tax_base_equation_question = '주택에 대한 종합부동산세 계산시 과세표준을 계산하는 방법을 알려주세요'\n",
    "    tax_base_equation = tax_base_chain.invoke(tax_base_equation_question)\n",
    "    return {'tax_base_equation': tax_base_equation}\n",
    "\n"
   ]
  },
  {
   "cell_type": "code",
   "execution_count": 10,
   "id": "5fde88e4-5202-4082-9084-62e89290dd29",
   "metadata": {},
   "outputs": [
    {
     "data": {
      "text/plain": [
       "{'tax_base_equation': '과세표준 = (주택 공시가격 합산 금액 - 공제 금액) x 공정시장가액비율'}"
      ]
     },
     "execution_count": 10,
     "metadata": {},
     "output_type": "execute_result"
    }
   ],
   "source": [
    "get_tax_base_equation({})\n",
    "# {'tax_base_equation': '과세표준 = (주택 공시가격 합산 - 공제 금액) × 공정시장가액비율'}"
   ]
  },
  {
   "cell_type": "code",
   "execution_count": 11,
   "id": "554c8369-e652-47ee-b37a-c14b495d2133",
   "metadata": {},
   "outputs": [],
   "source": [
    "tax_deduction_retriever_chain = (\n",
    "    {'context': retriever, 'question': RunnablePassthrough()}\n",
    "    | rag_prompt \n",
    "    | llm \n",
    "    | StrOutputParser() \n",
    ") \n",
    "\n",
    "def get_tax_deduction(state: AgentState): \n",
    "    tax_deduction_question = '주택에 대한 종합부동산세 계산시 공제금액을 알려주세요'\n",
    "    tax_deduction = tax_deduction_retriever_chain.invoke(tax_deduction_question)\n",
    "    return {'tax_deduction': tax_deduction}\n"
   ]
  },
  {
   "cell_type": "code",
   "execution_count": 12,
   "id": "9a22b410-296d-4f6f-b36c-89af53cc6a85",
   "metadata": {},
   "outputs": [
    {
     "data": {
      "text/plain": [
       "{'tax_deduction': '주택에 대한 종합부동산세 계산 시 공제금액은 1세대 1주택자의 경우 12억 원, 일반적인 경우 9억 원입니다. 법인이나 법인으로 보는 단체의 경우는 6억 원이 공제됩니다.'}"
      ]
     },
     "execution_count": 12,
     "metadata": {},
     "output_type": "execute_result"
    }
   ],
   "source": [
    "get_tax_deduction({})\n",
    "# {'tax_base_equation': '주택에 대한 종합부동산세 계산 시 1세대 1주택자의 경우 공제금액은 12억 원입니다. 법인이나 법인으로 보는 단체의 경우에는 6억 원, 그 외의 경우에는 9억 원이 공제됩니다.'}"
   ]
  },
  {
   "cell_type": "code",
   "execution_count": 13,
   "id": "db2e5371-828f-4e53-b104-5670e04f1cee",
   "metadata": {},
   "outputs": [],
   "source": [
    "from langchain_community.tools import TavilySearchResults\n",
    "from datetime import date \n",
    "\n",
    "tavily_search_tool = TavilySearchResults(\n",
    "    max_results=5,\n",
    "    search_depth=\"advanced\",\n",
    "    include_answer=True,\n",
    "    include_raw_content=True,\n",
    "    include_images=True,\n",
    ")\n",
    "\n",
    "tax_market_ratio_prompt = ChatPromptTemplate.from_messages([\n",
    "    ('system', '아래 정보를 기반으로 공정시장 가액비율을 계산해주세요\\n\\nContext:\\n{context}'),\n",
    "    ('human', '{query}')\n",
    "])\n",
    "\n",
    "def get_market_ratio(state: AgentState) -> AgentState: \n",
    "    query = f'오늘 날짜: {date.today()}에 해당하는 주택 공시가격 공정시장가액비율은 몇 %인가요?'\n",
    "    context = tavily_search_tool.invoke(query)\n",
    "\n",
    "    tax_market_ratio_chain = (\n",
    "        tax_market_ratio_prompt \n",
    "        | llm \n",
    "        | StrOutputParser()\n",
    "    )\n",
    "\n",
    "    market_ratio = tax_market_ratio_chain.invoke({'context': context, 'query': query})\n",
    "\n",
    "    return {'market_ratio': market_ratio}    \n"
   ]
  },
  {
   "cell_type": "code",
   "execution_count": 14,
   "id": "eee07791-014d-427e-b439-b2c33ab5cd3e",
   "metadata": {},
   "outputs": [
    {
     "data": {
      "text/plain": [
       "{'market_ratio': '2025년 기준으로 1주택자의 주택 공시가격에 대한 공정시장가액비율은 다음과 같습니다:\\n- 3억원 이하: 43%\\n- 6억원 이하: 44%\\n- 6억원 초과: 45%\\n\\n다만, 다주택자 및 법인의 경우 공정시장가액비율은 60%로 적용됩니다.'}"
      ]
     },
     "execution_count": 14,
     "metadata": {},
     "output_type": "execute_result"
    }
   ],
   "source": [
    "get_market_ratio({})\n",
    "# {'market_ratio': '2025년 주택 공시가격의 공정시장가액비율은 다음과 같습니다:\\n\\n- 3억원 이하: 43%\\n- 6억원 이하: 44%\\n- 6억원 초과: 45%\\n- 다주택자 및 법인: 60%\\n\\n이 비율은 주택 공시가격에 따라 적용됩니다.'}"
   ]
  },
  {
   "cell_type": "code",
   "execution_count": 15,
   "id": "fbb20522-f56d-4ba3-b809-00ba73ce4162",
   "metadata": {},
   "outputs": [],
   "source": [
    "from langchain_core.prompts import PromptTemplate \n",
    "\n",
    "tax_base_calculation_prompt = PromptTemplate.from_template(\"\"\"\n",
    "주워진 내용을 기반으로 과세표준을 계산해주세요 \n",
    "\n",
    "과세표준 계산 공식: {tax_base_equation}\n",
    "공제금액: {tax_deduction_equation}\n",
    "공정시장가액비율: {market_ratio}\n",
    "사용자 주택 공시가격 정보: {query}\n",
    "\"\"\")\n",
    "\n",
    "def calculate_tax_base(state:AgentState): \n",
    "    tax_base_equation = state['tax_base_equation']\n",
    "    tax_deduction = state['tax_deduction']\n",
    "    market_ratio = state['market_ratio']\n",
    "    query = state['query']\n",
    "\n",
    "    tax_base_calculation_chain\n",
    "    \n",
    "    tax_base = tax_base_calculation_chain.invoke({\n",
    "        'tax_base_equation': tax_base_equation,\n",
    "        'tax_deduction_equation': tax_deduction_equation,\n",
    "        'market_ratio': market_ratio,\n",
    "        'query': query\n",
    "    })\n",
    "\n",
    "    return {'tax_base': tax_base}"
   ]
  },
  {
   "cell_type": "code",
   "execution_count": null,
   "id": "44519449-dd13-4fe0-b0d1-1d1dce6ee548",
   "metadata": {},
   "outputs": [],
   "source": []
  },
  {
   "cell_type": "code",
   "execution_count": null,
   "id": "13633034-95d8-4c50-b936-96302c8cd120",
   "metadata": {},
   "outputs": [],
   "source": []
  }
 ],
 "metadata": {
  "kernelspec": {
   "display_name": "Python (uv-inflearn)",
   "language": "python",
   "name": "uv-env-inflearn"
  },
  "language_info": {
   "codemirror_mode": {
    "name": "ipython",
    "version": 3
   },
   "file_extension": ".py",
   "mimetype": "text/x-python",
   "name": "python",
   "nbconvert_exporter": "python",
   "pygments_lexer": "ipython3",
   "version": "3.13.3"
  }
 },
 "nbformat": 4,
 "nbformat_minor": 5
}
