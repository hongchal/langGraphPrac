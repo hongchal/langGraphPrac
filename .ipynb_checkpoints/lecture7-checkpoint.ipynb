{
 "cells": [
  {
   "cell_type": "code",
   "execution_count": 1,
   "id": "06da9cd8-89eb-423c-8f9c-a01d1f787d56",
   "metadata": {},
   "outputs": [
    {
     "data": {
      "text/plain": [
       "True"
      ]
     },
     "execution_count": 1,
     "metadata": {},
     "output_type": "execute_result"
    }
   ],
   "source": [
    "from dotenv import load_dotenv\n",
    "\n",
    "load_dotenv()"
   ]
  },
  {
   "cell_type": "code",
   "execution_count": 5,
   "id": "4ed82bae-fe83-46f8-89a6-4b97baaa34d2",
   "metadata": {},
   "outputs": [],
   "source": [
    "# from langchain_chroma import Chroma\n",
    "# from langchain_openai import OpenAIEmbeddings\n",
    "# from langchain_community.document_loaders import TextLoader\n",
    "# from langchain_text_splitters import RecursiveCharacterTextSplitter\n",
    "\n",
    "# text_splitter = RecursiveCharacterTextSplitter(\n",
    "#     chunk_size = 1500,\n",
    "#     chunk_overlap = 100,\n",
    "#     separators=['\\n\\n', '\\n']\n",
    "# ) \n",
    "\n",
    "# text_path = './documents/real_estate_tax.txt'\n",
    "\n",
    "# loader = TextLoader(text_path)\n",
    "# document_list = loader.load_and_split(text_splitter)\n",
    "\n",
    "# embeddings = OpenAIEmbeddings(model='text-embedding-3-large')\n",
    "\n",
    "# vector_store = Chroma.from_documents(\n",
    "#     documents=document_list,\n",
    "#     embedding=embeddings,\n",
    "#     collection_name = 'real_estate_collection',\n",
    "#     persist_directory = './real_estate_collection'\n",
    "# )"
   ]
  },
  {
   "cell_type": "code",
   "execution_count": null,
   "id": "8dc0f287-e350-4dd5-94fb-284ac64abed6",
   "metadata": {},
   "outputs": [],
   "source": []
  }
 ],
 "metadata": {
  "kernelspec": {
   "display_name": "Python (uv-inflearn)",
   "language": "python",
   "name": "uv-env-inflearn"
  },
  "language_info": {
   "codemirror_mode": {
    "name": "ipython",
    "version": 3
   },
   "file_extension": ".py",
   "mimetype": "text/x-python",
   "name": "python",
   "nbconvert_exporter": "python",
   "pygments_lexer": "ipython3",
   "version": "3.13.3"
  }
 },
 "nbformat": 4,
 "nbformat_minor": 5
}
