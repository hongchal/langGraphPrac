{
 "cells": [
  {
   "cell_type": "code",
   "execution_count": 1,
   "id": "3dce1600-e2bd-4b4d-b5a2-3b29e71ac07b",
   "metadata": {},
   "outputs": [
    {
     "data": {
      "text/plain": [
       "True"
      ]
     },
     "execution_count": 1,
     "metadata": {},
     "output_type": "execute_result"
    }
   ],
   "source": [
    "from dotenv import load_dotenv \n",
    "load_dotenv()"
   ]
  },
  {
   "cell_type": "code",
   "execution_count": 2,
   "id": "c685e41c-3d6a-497a-b11d-c3c3b5f9c214",
   "metadata": {},
   "outputs": [],
   "source": [
    "from langchain_chroma import Chroma\n",
    "from langchain_openai import OpenAIEmbeddings\n",
    "\n",
    "embedding_function = OpenAIEmbeddings(model='text-embedding-3-large')\n",
    "\n",
    "vector_store = Chroma(\n",
    "    embedding_function=embedding_function,\n",
    "    collection_name = 'income_tax_collection',\n",
    "    persist_directory = './income_tax_collection'\n",
    ")\n",
    "retriever = vector_store.as_retriever(search_kwargs={'k': 3})"
   ]
  },
  {
   "cell_type": "code",
   "execution_count": 3,
   "id": "e61eeb99-89c1-4c13-b190-2991abcdb4a4",
   "metadata": {},
   "outputs": [],
   "source": [
    "from typing_extensions import TypedDict\n",
    "from langgraph.graph import StateGraph\n",
    "\n",
    "class AgentState(TypedDict):\n",
    "    query: str\n",
    "    context: list\n",
    "    answer: str\n",
    "    \n",
    "graph_builder = StateGraph(AgentState)"
   ]
  },
  {
   "cell_type": "code",
   "execution_count": 4,
   "id": "49028049-1c0f-42d6-a7e8-e761a581116d",
   "metadata": {},
   "outputs": [],
   "source": [
    "def retrieve(state: AgentState) -> AgentState:\n",
    "    \"\"\"\n",
    "    사용자의 질문에 기반하여 벡터 스토어에서 관련 문서를 검색합니다.\n",
    "\n",
    "    Args:\n",
    "        state (AgentState): 사용자의 질문을 포함한 에이전트의 현재 state.\n",
    "\n",
    "    Returns:\n",
    "        AgentState: 검색된 문서가 추가된 state를 반환합니다.\n",
    "    \"\"\"\n",
    "    query = state['query']\n",
    "    docs = retriever.invoke(query)\n",
    "    return {'context': docs}"
   ]
  },
  {
   "cell_type": "code",
   "execution_count": 5,
   "id": "ba937cb1-b626-4b3d-b7d8-4799ffac2c4a",
   "metadata": {},
   "outputs": [],
   "source": [
    "from langchain_openai import ChatOpenAI\n",
    "\n",
    "llm = ChatOpenAI(model='gpt-4o')"
   ]
  },
  {
   "cell_type": "code",
   "execution_count": 6,
   "id": "10054d8e-158e-4dad-8757-5de0c0934730",
   "metadata": {},
   "outputs": [
    {
     "name": "stderr",
     "output_type": "stream",
     "text": [
      "/Users/robert/Desktop/langGrahpPrac/.venv/lib/python3.13/site-packages/langsmith/client.py:256: LangSmithMissingAPIKeyWarning: API key must be provided when using hosted LangSmith API\n",
      "  warnings.warn(\n"
     ]
    }
   ],
   "source": [
    "from langchain import hub\n",
    "\n",
    "# 허브에서 RAG 프롬프트를 가져옵니다\n",
    "generate_prompt = hub.pull(\"rlm/rag-prompt\")\n",
    "\n",
    "# 지정된 매개변수로 언어 모델을 초기화합니다\n",
    "generate_llm = ChatOpenAI(model='gpt-4o', max_completion_tokens=100)\n",
    "\n",
    "def generate(state: AgentState) -> AgentState:\n",
    "    \"\"\"\n",
    "    주어진 state를 기반으로 RAG 체인을 사용하여 응답을 생성합니다.\n",
    "\n",
    "    Args:\n",
    "        state (AgentState): 사용자의 질문과 문맥을 포함한 에이전트의 현재 state.\n",
    "\n",
    "    Returns:\n",
    "        AgentState: 생성된 응답을 포함하는 state를 반환합니다.\n",
    "    \"\"\"\n",
    "    context = state['context']\n",
    "    query = state['query']\n",
    "    \n",
    "    rag_chain = generate_prompt | generate_llm\n",
    "    \n",
    "    response = rag_chain.invoke({'question': query, 'context': context})\n",
    "    \n",
    "    return {'answer': response.content}"
   ]
  },
  {
   "cell_type": "code",
   "execution_count": 7,
   "id": "dabb90d3-a04a-46ec-a2b9-beb21ffbe45d",
   "metadata": {},
   "outputs": [
    {
     "name": "stderr",
     "output_type": "stream",
     "text": [
      "/Users/robert/Desktop/langGrahpPrac/.venv/lib/python3.13/site-packages/langsmith/client.py:256: LangSmithMissingAPIKeyWarning: API key must be provided when using hosted LangSmith API\n",
      "  warnings.warn(\n"
     ]
    }
   ],
   "source": [
    "# set the LANGCHAIN_API_KEY environment variable (create key in settings)\n",
    "from langchain import hub\n",
    "from typing import Literal\n",
    "doc_relevance_prompt = hub.pull(\"langchain-ai/rag-document-relevance\")\n",
    "\n",
    "def check_doc_relevance(state: AgentState) -> Literal['relevant', 'irrelvant']:\n",
    "    \"\"\"\n",
    "    주어진 state를 기반으로 문서의 관련성을 판단합니다.\n",
    "\n",
    "    Args:\n",
    "        state (AgentState): 사용자의 질문과 문맥을 포함한 에이전트의 현재 state.\n",
    "\n",
    "    Returns:\n",
    "        Literal['relevant', 'irrelevant']: 문서가 관련성이 높으면 'relevant', 그렇지 않으면 'irrelevant'를 반환합니다.\n",
    "    \"\"\"\n",
    "    query = state['query']\n",
    "    context = state['context']\n",
    "\n",
    "    doc_relevance_chain = doc_relevance_prompt | llm\n",
    "    response = doc_relevance_chain.invoke({'question': query, 'documents': context})\n",
    "\n",
    "    if response['Score'] == 1:\n",
    "        return 'relevant'\n",
    "    \n",
    "    return 'irrelvant'"
   ]
  },
  {
   "cell_type": "code",
   "execution_count": 8,
   "id": "1fa0aea9-6574-44c6-a82d-b08be12a3348",
   "metadata": {},
   "outputs": [],
   "source": [
    "from langchain_core.prompts import PromptTemplate\n",
    "from langchain_core.output_parsers import StrOutputParser\n",
    "\n",
    "rewrite_prompt = PromptTemplate.from_template(\"\"\"사용자의 질문을 보고, 웹 검색에 용이하게 사용자의 질문을 수정해주세요\n",
    "질문: {query}\n",
    "\"\"\")\n",
    "\n",
    "def rewrite(state: AgentState):\n",
    "    \"\"\"\n",
    "    사용자의 질문을 사전을 참고하여 변경합니다.\n",
    "\n",
    "    Args:\n",
    "        state (AgentState): 사용자의 질문을 포함한 에이전트의 현재 state.\n",
    "\n",
    "    Returns:\n",
    "        AgentState: 변경된 질문을 포함하는 state를 반환합니다.\n",
    "    \"\"\"\n",
    "    query = state['query']\n",
    "    rewrite_chain = rewrite_prompt | llm | StrOutputParser()\n",
    "\n",
    "    response = rewrite_chain.invoke({'query': query})\n",
    "    print('rewrite:', response)\n",
    "\n",
    "    return {'query': response}\n"
   ]
  },
  {
   "cell_type": "code",
   "execution_count": 9,
   "id": "2f5dcaa4-c736-4d95-88ee-7a65050055bf",
   "metadata": {},
   "outputs": [],
   "source": [
    "from langchain_community.tools import TavilySearchResults\n",
    "\n",
    "tavily_search_tool = TavilySearchResults(\n",
    "    max_results=3,\n",
    "    search_depth=\"advanced\",\n",
    "    include_answer=True,\n",
    "    include_raw_content=True,\n",
    "    include_images=True,\n",
    ")\n",
    "\n",
    "def web_search(state: AgentState) -> AgentState:\n",
    "    \"\"\"\n",
    "    주어진 state를 기반으로 웹 검색을 수행합니다.\n",
    "\n",
    "    Args:\n",
    "        state (AgentState): 사용자의 질문을 포함한 에이전트의 현재 state.\n",
    "\n",
    "    Returns:\n",
    "        AgentState: 웹 검색 결과가 추가된 state를 반환합니다.\n",
    "    \"\"\"\n",
    "    query = state['query']\n",
    "    results = tavily_search_tool.invoke(query)\n",
    "\n",
    "    print('web_search: ', results)\n",
    "\n",
    "    return {'context': results}"
   ]
  },
  {
   "cell_type": "code",
   "execution_count": 10,
   "id": "1131e9ea-4be4-4314-a31f-68a8d21e06bf",
   "metadata": {},
   "outputs": [
    {
     "data": {
      "text/plain": [
       "<langgraph.graph.state.StateGraph at 0x10ce0e120>"
      ]
     },
     "execution_count": 10,
     "metadata": {},
     "output_type": "execute_result"
    }
   ],
   "source": [
    "graph_builder.add_node('retrieve', retrieve)\n",
    "graph_builder.add_node('generate', generate)\n",
    "graph_builder.add_node('rewrite', rewrite)\n",
    "graph_builder.add_node('web_search', web_search)"
   ]
  },
  {
   "cell_type": "code",
   "execution_count": 11,
   "id": "e517d5ce-2b3f-49d0-90e0-ed065e85d52f",
   "metadata": {},
   "outputs": [],
   "source": [
    "# from langgraph.graph import START, END \n",
    "\n",
    "# graph_builder.add_edge(START, 'retrieve')\n",
    "# graph_builder.add_conditional_edges(\n",
    "#     'retrieve',\n",
    "#     check_doc_relevance,\n",
    "#     {\n",
    "#         'relevant': 'generate',\n",
    "#         'irrelvant': 'rewrite'\n",
    "#     }\n",
    "# )\n",
    "# graph_builder.add_edge('rewrite', 'web_search')\n",
    "# graph_builder.add_edge('web_search', 'generate')\n",
    "# graph_builder.add_edge('generate', END)"
   ]
  },
  {
   "cell_type": "code",
   "execution_count": 12,
   "id": "d161370d-c0f2-4f6d-ab96-38525b9e78f1",
   "metadata": {},
   "outputs": [
    {
     "data": {
      "text/plain": [
       "<langgraph.graph.state.StateGraph at 0x10ce0e120>"
      ]
     },
     "execution_count": 12,
     "metadata": {},
     "output_type": "execute_result"
    }
   ],
   "source": [
    "from langgraph.graph import START, END\n",
    "\n",
    "graph_builder.add_edge(START, 'retrieve')\n",
    "graph_builder.add_conditional_edges(\n",
    "    'retrieve',\n",
    "    check_doc_relevance,\n",
    "    {\n",
    "        'relevant': 'generate',\n",
    "        'irrelvant': 'web_search'\n",
    "    }\n",
    ")\n",
    "# graph_builder.add_edge('rewrite', 'web_search')\n",
    "graph_builder.add_edge('web_search', 'generate')\n",
    "graph_builder.add_edge('generate', END)"
   ]
  },
  {
   "cell_type": "code",
   "execution_count": 13,
   "id": "75163067-f6e4-419a-83e6-4f119c366a00",
   "metadata": {},
   "outputs": [],
   "source": [
    "graph = graph_builder.compile()"
   ]
  },
  {
   "cell_type": "code",
   "execution_count": 14,
   "id": "023584c1-f580-45ca-adc4-b2b13144bb33",
   "metadata": {},
   "outputs": [
    {
     "name": "stdout",
     "output_type": "stream",
     "text": [
      "            +-----------+       \n",
      "            | __start__ |       \n",
      "            +-----------+       \n",
      "                   *            \n",
      "                   *            \n",
      "                   *            \n",
      "             +----------+       \n",
      "             | retrieve |       \n",
      "             +----------+       \n",
      "            ...         ...     \n",
      "           .               .    \n",
      "         ..                 ... \n",
      "+------------+                 .\n",
      "| web_search |              ... \n",
      "+------------+             .    \n",
      "            ***         ...     \n",
      "               *       .        \n",
      "                **   ..         \n",
      "             +----------+       \n",
      "             | generate |       \n",
      "             +----------+       \n",
      "                   *            \n",
      "                   *            \n",
      "                   *            \n",
      "              +---------+       \n",
      "              | __end__ |       \n",
      "              +---------+       \n"
     ]
    }
   ],
   "source": [
    "graph.get_graph().print_ascii()\n"
   ]
  },
  {
   "cell_type": "code",
   "execution_count": 15,
   "id": "be7ddba2-2145-4b53-b379-1a6913f70036",
   "metadata": {},
   "outputs": [],
   "source": [
    "# query = '연봉 5천만원 거주자의 소득세는 얼마인가요?'\n",
    "\n",
    "# initial_state = {\n",
    "#     'query' : query\n",
    "# }\n",
    "\n",
    "# context = retrieve(initial_state)['context']\n",
    "\n",
    "# relevance_state = {\n",
    "#     'query': query,\n",
    "#     'context': context\n",
    "# }\n",
    "\n",
    "# check_doc_relevance(relevance_state)\n",
    "\n",
    "# generate_state = {\n",
    "#     'context': context,\n",
    "#     'query': query\n",
    "# }\n",
    "\n",
    "# generate(generate_state)"
   ]
  },
  {
   "cell_type": "code",
   "execution_count": 16,
   "id": "d7da56d8-7bf4-401f-9c1d-ad97ba8143da",
   "metadata": {},
   "outputs": [
    {
     "data": {
      "text/plain": [
       "{'query': '연봉 5천만원 거주자의 소득세는 얼마인가요?',\n",
       " 'context': [Document(metadata={'source': './documents/income_tax.txt'}, page_content='| 1,400만원 초과     | 84만원 + (1,400만원을 초과하는 금액의 15퍼센트)                    |\\n| 5,000만원 이하     | 624만원 + (5,000만원을 초과하는 금액의 24퍼센트)                  |\\n| 8,800만원 이하     | 1,536만원 + (8,800만원을 초과하는 금액의 35퍼센트)                |\\n| 1억5천만원 이하    | 3,706만원 + (1억5천만원을 초과하는 금액의 38퍼센트)                |\\n| 3억원 이하        | 9,406만원 + (3억원을 초과하는 금액의 40퍼센트)                    |\\n| 5억원 이하        | 1억7,406만원 + (5억원을 초과하는 금액의 42퍼센트)                 |\\n| 10억원 이하       | 3억3,406만원 + (10억원을 초과하는 금액의 45퍼센트)                |\\n법제처 35 국가법령정보센터\\n소득세법\\n② 거주자의 퇴직소득에 대한 소득세는 다음 각 호의 순서에 따라 계산한 금액(이하 \"퇴직소득 산출세액\"이라 한다)으로 한다. <개정 2013. 1. 1, 2014. 12. 23.>\\n   1. 해당 과세기간의 퇴직소득과세표준에 제11항의 세율을 적용하여 계산한 금액\\n   2. 제1호의 금액을 12로 나눈 금액에 근속연수를 곱한 금액\\n   3. 삭제 <2014. 12. 23.>\\n   [전문개정 2009. 12. 31.]\\n제2관 세액공제 <개정 2009. 12. 31.>\\n제56조(배당세액공제) ① 거주자의 종합소득금액에 제17조제3항 각 호 외의 부분 단서가 적용되는 배당소득금액이 합산되어 있는 경우에는 같은 항 각 호 외의 부분 단서에 따라 해당 과세기간의 총수입금액에 대한 금액에 해당하는 금액을 종합소득 산출세액에서 공제한다. <개정 2009. 12. 31.>\\n   1. 제1항에 따른 공제를 \"배당세액공제\"라 한다. <개정 2009. 12. 31.>\\n   2. 삭제 <2006. 12. 30.>\\n   3. 제1항을 적용할 때 배당세액공제의 대상이 되는 배당소득금액은 제14조제3항의 종합소득과세표준에 포함된 배당소득금액으로서 이자소득 등의 종합과세기준금액을 초과하는 것으로 한한다. <개정 2009. 12. 31.>\\n② 삭제 <2006. 12. 30.>\\n③ 배당세액공제액의 계산 등에 필요한 사항은 대통령령으로 정한다. <개정 2009. 12. 31.>\\n   [제목개정 2009. 12. 31.]'),\n",
       "  Document(metadata={'source': './documents/income_tax.txt'}, page_content='③ 제50조제1항제13호 및 제59조의2에 따라 적용대상 나이가 정해진 경우에는 제4항 본문에도 불구하고 해당 과세기간 과세기간 중에 해당 나이에 해당되는 날이 있는 경우에 공제대상자로 본다.<개정 2014. 1. 1.>\\n소득세법\\n[전문개정 2009. 12. 31.]\\n제54조(종합소득공제 등의 배제) ① 분리과세이자소득, 분리과세배당소득, 분리과세퇴직금소득과 분리과세기타소득만이 있는 자에 대해서는 종합소득공제를 적용하지 아니한다. <개정 2013. 1. 1.>\\n② 제70조제1항, 제70조의2제1항 또는 제74조에 따라 과세표준확정신고를 하여야 할 자가 제70조제4항제1호에 따른 서류를 제출하지 아니한 경우에는 기본공제 중 거주자 본인에 대한 분(欒)과 제95조제4항에 따른 표준세액공제만을 공제한다. 다만, 과세표준확정신고와 아무 관련이 없이 그 서류를 나중에 제출한 경우에는 그러하지 아니하다. <개정 2013. 1. 1.>\\n③ 제20조에 따른 수사부과 결정의 경우에는 기본공제 중 거주자 본인에 대한 분(欒)만을 공제한다. \\n[전문개정 2014. 1. 1.] \\n[제목개정 2014. 1. 1.]\\n제54조의2(공동사업에 대한 소득공제 등 특례) 제51조의3 또는 「조세특례제한법」에 따른 소득공제를 적용하거나 제59조의3에 따른 세액공제를 적용하는 경우 제54조제3항에 따라 소득금액이 주된 공동사업자의 소득금액에 합산과세되는 특수관계인이 지출·납입·투자·출자 등을 한 금액이 있으며 주된 공동사업자의 소득에 합산과세되는 소득금액의 한도에서 주된 공동사업자가 지출·납입·투자·출자 등을 한 금액으로 보아 주된 공동사업자의 합산과세되는 종합소득금액 또는 종합소득산출세액을 계산할 때에 소득공제 또는 세액공제를 받을 수 있다. <개정 2012. 1. 1., 2014. 1. 1.>\\n[전문개정 2009. 12. 31.] \\n[제목개정 2014. 1. 1.]\\n제4절 세액의 계산 <개정 2009. 12. 31.>\\n제1관 세율 <개정 2009. 12. 31.>\\n제55조(세율) ①거주자의 종합소득에 대한 소득세는 해당 연도의 종합소득과세표준에 다음의 세율을 적용하여 계산한 금액(이하 \"종합소득산출세액\"이라 한다)을 그 세액으로 한다. <개정 2014. 1. 1., 2016. 12. 20., 2017. 12. 19., 2020. 12. 29., 2022. 12. 31.>\\n| 과세표준          | 세 율                                                              |\\n|-------------------|------------------------------------------------------------------|\\n| 1,400만원 이하     | 과세표준의 6퍼센트                                               |\\n| 1,400만원 초과     | 84만원 + (1,400만원을 초과하는 금액의 15퍼센트)                    |'),\n",
       "  Document(metadata={'source': './documents/income_tax.txt'}, page_content='법제처          6          국가법령정보센터\\n소득세법\\n2) 근로자 또는 그 배우자의 해당 과세기간 개시일을 기준으로 6세 이하(6세가 되는 날의 그 이전 기간을 말한 다. 이하 이 조 및 제95조에서 같다)인 자녀의 보육과 관련하여 사용자료로부터 지급받는 급여로서 월 20만원 이내의 금액\\n바. 「국고보조금에 관한 법률 등에 관한 법률」에 따른 국고보조가 받는 보수 및 퇴직임금\\n서. 「교육기본법」 제2조제1항에 따라 받은 장학금 중 대학생의 근로를 대가로 지급받는 장학금(\\'고등교육법\\', 제2조제1호부터 제4호까지의 규정에 따른 대학에 재학하는 대학생에 한정한다)\\n어. 「민방위종합」 제2조제2호에 따른 직무명령으로 받는 다음의 보상금(이하 \"직무명령보상금\"이라 한다)으로서 대통령령으로 정하는 금액\\n   1) 「법령집종법」 제2조제2호에 따른 중업원등(이하 이 조, 제2조 및 제21조에서 \"중업원등\"이라 한다)이 같 은 호에 따른 사용자등(이하 이 조에서 \"사용자등\"이라 한다)으로부터 받는 보상금. 다만, 보상금을 지급한 사용자등 과 대통령령으로 정하는 특수관계에 있는 자가 받는 보상금을 제외한다.\\n   2) 대학의 교직원 또는 대학과 고용관계가 있는 학생이 소속 대학에 설치된 「산업교육진흥 및 산학연협력촉 진에 관한 법률」 제25조에 따른 산학협력단(이하 이 조에서 \"산학협력단\"이라 한다)으로부터 같은 법 제32조제1항 제4호에 따라 받는 보상금\\n저. 대통령령으로 정하는 복리후생적 성질의 금여\\n서. 제2조제1항제6호에 따른 소득 중 다음의 요건을 모두 충족하는 소득으로서 대통령령으로 정하는 금액 이하 의 금액\\n   1) 임원 또는 중업원(이하 이 조, 제20조 및 제16조에서)\"임원등\" 한다) 뿐만이 소비하는 것을 목적으로 제공받거나 지원을 받아 구입한 재화 또는 용역으로서 대통령령으로 정하는 기간 동안 재판매가 제한되 어 있지 않을 것\\n   2) 해당 재화 또는 용역의 제공과 관련하여 모든 임원등에게 공통으로 적용되는 기준이 있을 것\\n4. 연금소득 중 다음 각 목의 어느 하나에 해당하는 소득\\n가. 「국가연금법」, 「공무원연금법」 또는 「군인연금법」에 따른 연금   나. 「국가연금법」에 따라 받는 각종 연금\\n다. 「산화계정석보상법령」에 따라 받는 각종 금전금\\n라. 「국고보조금에 관한 법률 등에 관한 법률」에 따른 국고보조가 받는 급여  \\n나. 석제<2013. 1. 1.>\\n다. 「산화계정석보상법령」에 따라 받는 각종 연금\\n라. 「국고보조금에 관한 법률 종에 관한 법률」에 따른 국고보조가 받는 급여\\n마. 석제 <2013. 1. 1.>')],\n",
       " 'answer': '연봉 5천만 원인 거주자의 소득세는 624만 원입니다.'}"
      ]
     },
     "execution_count": 16,
     "metadata": {},
     "output_type": "execute_result"
    }
   ],
   "source": [
    "query = '연봉 5천만원 거주자의 소득세는 얼마인가요?'\n",
    "\n",
    "initial_state = {\n",
    "    'query' : query\n",
    "}\n",
    "\n",
    "graph.invoke(initial_state)\n"
   ]
  },
  {
   "cell_type": "code",
   "execution_count": 17,
   "id": "6454523f-618d-4016-94b9-f41a2d5000fa",
   "metadata": {},
   "outputs": [
    {
     "name": "stdout",
     "output_type": "stream",
     "text": [
      "web_search:  [{'url': 'https://hotel-iu.tistory.com/3719', 'content': \"문정역맛집 베스트 추천 top 10문정역맛집 베스트 추천 top 10곳을 소개합니다. 1: 꽂따 문정본점상호명: 꽂따 문정본점주소: 서울특별시 송파구 문정동 642-3 문정에스케이브이원지엘메트로시티 C동 108, 109호전화번호: 미입력관련 키워드: ['문정역치킨', '문정역치킨집', '문정역수제맥주', '문정역회식\"}, {'url': 'https://maimiublog.com/서울-문정역-맛집-추천-best-5-문정역-술집추천-문정동-가/', 'content': '서울 문정역 맛집 추천, 술집 Best 5 1. 골목떡볶이 2. 라치오 3. 더부엌 4. 로바타 나미 5. 삼촌네포차 0. 연인에게 주는 특별한 기념일 선물! 서울 문정역 근처 가볼만한곳 1. 강남실탄사격장 송파파크하비오본점 2. 송파파크하비오워터킹덤워터파크&찜질스파 3. 문'}, {'url': 'https://seo15647.tistory.com/entry/문정역-맛집-베스트10-정리', 'content': '오늘 포스팅에서는 문정역 맛집 추천장소 알아볼께요 문정역 맛집 베스트10 추천 정보 1. 툇마루밥상 정보 주소 : 서울 송파구 송파대로22길 11 비교적 저렴한 가격에 한정식을 맛볼 수 있는 곳으로, 일반 가정집을 고쳐 식당으로 이용하고 있다.'}]\n"
     ]
    },
    {
     "data": {
      "text/plain": [
       "{'query': '문정역 맛집 추천',\n",
       " 'context': [{'url': 'https://hotel-iu.tistory.com/3719',\n",
       "   'content': \"문정역맛집 베스트 추천 top 10문정역맛집 베스트 추천 top 10곳을 소개합니다. 1: 꽂따 문정본점상호명: 꽂따 문정본점주소: 서울특별시 송파구 문정동 642-3 문정에스케이브이원지엘메트로시티 C동 108, 109호전화번호: 미입력관련 키워드: ['문정역치킨', '문정역치킨집', '문정역수제맥주', '문정역회식\"},\n",
       "  {'url': 'https://maimiublog.com/서울-문정역-맛집-추천-best-5-문정역-술집추천-문정동-가/',\n",
       "   'content': '서울 문정역 맛집 추천, 술집 Best 5 1. 골목떡볶이 2. 라치오 3. 더부엌 4. 로바타 나미 5. 삼촌네포차 0. 연인에게 주는 특별한 기념일 선물! 서울 문정역 근처 가볼만한곳 1. 강남실탄사격장 송파파크하비오본점 2. 송파파크하비오워터킹덤워터파크&찜질스파 3. 문'},\n",
       "  {'url': 'https://seo15647.tistory.com/entry/문정역-맛집-베스트10-정리',\n",
       "   'content': '오늘 포스팅에서는 문정역 맛집 추천장소 알아볼께요 문정역 맛집 베스트10 추천 정보 1. 툇마루밥상 정보 주소 : 서울 송파구 송파대로22길 11 비교적 저렴한 가격에 한정식을 맛볼 수 있는 곳으로, 일반 가정집을 고쳐 식당으로 이용하고 있다.'}],\n",
       " 'answer': '문정역 맛집 추천으로는 꽂따 문정본점, 골목떡볶이, 라치오, 더부엌, 로바타 나미, 삼촌네포차, 그리고 툇마루밥상이 있습니다.'}"
      ]
     },
     "execution_count": 17,
     "metadata": {},
     "output_type": "execute_result"
    }
   ],
   "source": [
    "query = '문정역 맛집 추천'\n",
    "\n",
    "initial_state = {\n",
    "    'query' : query\n",
    "}\n",
    "\n",
    "graph.invoke(initial_state)\n"
   ]
  },
  {
   "cell_type": "code",
   "execution_count": null,
   "id": "bae9f018-4235-444a-afe4-10db0ec71480",
   "metadata": {},
   "outputs": [],
   "source": []
  }
 ],
 "metadata": {
  "kernelspec": {
   "display_name": "Python (uv-inflearn)",
   "language": "python",
   "name": "uv-env-inflearn"
  },
  "language_info": {
   "codemirror_mode": {
    "name": "ipython",
    "version": 3
   },
   "file_extension": ".py",
   "mimetype": "text/x-python",
   "name": "python",
   "nbconvert_exporter": "python",
   "pygments_lexer": "ipython3",
   "version": "3.13.3"
  }
 },
 "nbformat": 4,
 "nbformat_minor": 5
}
