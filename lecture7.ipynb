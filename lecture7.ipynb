{
 "cells": [
  {
   "cell_type": "code",
   "execution_count": 1,
   "id": "06da9cd8-89eb-423c-8f9c-a01d1f787d56",
   "metadata": {},
   "outputs": [
    {
     "data": {
      "text/plain": [
       "True"
      ]
     },
     "execution_count": 1,
     "metadata": {},
     "output_type": "execute_result"
    }
   ],
   "source": [
    "from dotenv import load_dotenv\n",
    "\n",
    "load_dotenv()"
   ]
  },
  {
   "cell_type": "code",
   "execution_count": 2,
   "id": "4ed82bae-fe83-46f8-89a6-4b97baaa34d2",
   "metadata": {},
   "outputs": [],
   "source": [
    "# from langchain_chroma import Chroma\n",
    "# from langchain_openai import OpenAIEmbeddings\n",
    "# from langchain_community.document_loaders import TextLoader\n",
    "# from langchain_text_splitters import RecursiveCharacterTextSplitter\n",
    "\n",
    "# text_splitter = RecursiveCharacterTextSplitter(\n",
    "#     chunk_size = 1500,\n",
    "#     chunk_overlap = 100,\n",
    "#     separators=['\\n\\n', '\\n']\n",
    "# ) \n",
    "\n",
    "# text_path = './documents/real_estate_tax.txt'\n",
    "\n",
    "# loader = TextLoader(text_path)\n",
    "# document_list = loader.load_and_split(text_splitter)\n",
    "\n",
    "# embeddings = OpenAIEmbeddings(model='text-embedding-3-large')\n",
    "\n",
    "# vector_store = Chroma.from_documents(\n",
    "#     documents=document_list,\n",
    "#     embedding=embeddings,\n",
    "#     collection_name = 'real_estate_tax',\n",
    "#     persist_directory = './real_estate_tax_collection'\n",
    "# )"
   ]
  },
  {
   "cell_type": "code",
   "execution_count": 3,
   "id": "8dc0f287-e350-4dd5-94fb-284ac64abed6",
   "metadata": {},
   "outputs": [],
   "source": [
    "from typing_extensions import TypedDict\n",
    "from langgraph.graph import StateGraph\n",
    "\n",
    "class AgentState(TypedDict):\n",
    "    query: str # 사용자 질문\n",
    "    answer: str # 세율\n",
    "    tax_base_equation: str # 과세표준 계산 수식 \n",
    "    tax_deduction: str # 공제액 \n",
    "    market_ratio: str # 공정시장가액비율\n",
    "    tax_base: str # 과세표준 계산\n",
    "    \n",
    "graph_builder = StateGraph(AgentState)"
   ]
  },
  {
   "cell_type": "code",
   "execution_count": 4,
   "id": "c3589061-3b04-4bcd-b29f-068f9128c179",
   "metadata": {},
   "outputs": [],
   "source": [
    "from langchain_chroma import Chroma \n",
    "from langchain_openai import OpenAIEmbeddings \n",
    "\n",
    "embedding_function = OpenAIEmbeddings(model= 'text-embedding-3-large')\n",
    "vector_store = Chroma(\n",
    "    embedding_function=embedding_function,\n",
    "    collection_name = 'real_estate_tax',\n",
    "    persist_directory='./real_estate_tax_collection'\n",
    ")"
   ]
  },
  {
   "cell_type": "code",
   "execution_count": 5,
   "id": "a63b9025-bea1-4d94-a3c7-b20641cb4cb7",
   "metadata": {},
   "outputs": [],
   "source": [
    "retriever = vector_store.as_retriever(search_kwargs = {'k': 3})"
   ]
  },
  {
   "cell_type": "code",
   "execution_count": 6,
   "id": "cbe4cf28-b29c-4cde-81a2-8a911c73f3e0",
   "metadata": {},
   "outputs": [],
   "source": [
    "query = '5억짜리 집 1채, 10억짜리 집 1채, 20억짜리 집 1채를 가지고 있을 때 세금을 얼마나 내나요?'"
   ]
  },
  {
   "cell_type": "code",
   "execution_count": null,
   "id": "83f83a6d-f371-465b-952c-02da214dae37",
   "metadata": {},
   "outputs": [],
   "source": [
    "# retriever.invoke(query)"
   ]
  },
  {
   "cell_type": "code",
   "execution_count": 8,
   "id": "8969d60b-60de-48ea-a4ed-e63e3151d551",
   "metadata": {},
   "outputs": [
    {
     "name": "stderr",
     "output_type": "stream",
     "text": [
      "/Users/robert/Desktop/langGrahpPrac/.venv/lib/python3.13/site-packages/langsmith/client.py:256: LangSmithMissingAPIKeyWarning: API key must be provided when using hosted LangSmith API\n",
      "  warnings.warn(\n"
     ]
    }
   ],
   "source": [
    "from langchain_openai import ChatOpenAI \n",
    "from langchain import hub\n",
    "from langchain_core.output_parsers import StrOutputParser \n",
    "from langchain_core.runnables import RunnablePassthrough\n",
    "from langchain_core.prompts import ChatPromptTemplate\n",
    "\n",
    "rag_prompt = hub.pull('rlm/rag-prompt')\n",
    "\n",
    "llm = ChatOpenAI(model='gpt-4o')\n",
    "small_llm = ChatOpenAI(model='gpt-4o-mini')\n"
   ]
  },
  {
   "cell_type": "code",
   "execution_count": 9,
   "id": "f5ccb5ed-98bd-4a18-b368-7884daf7eb6e",
   "metadata": {},
   "outputs": [],
   "source": [
    "tax_base_retriever_chain = (\n",
    "    {'context': retriever, 'question': RunnablePassthrough()}\n",
    "    | rag_prompt \n",
    "    | llm \n",
    "    | StrOutputParser() \n",
    ") \n",
    "\n",
    "tax_base_equation_prompt = ChatPromptTemplate.from_messages([\n",
    "    ('system', '사용자의 질문에서 과세표주을 계산하는 방법을 부연설명 없이 수식만 표현해주세요'),\n",
    "    ('human', '{tax_base_equation_information}')\n",
    "])\n",
    "\n",
    "tax_base_equation_chain = (\n",
    "        {'tax_base_equation_information': RunnablePassthrough()}\n",
    "        | tax_base_equation_prompt\n",
    "        | llm \n",
    "        | StrOutputParser()\n",
    ")\n",
    "\n",
    "tax_base_chain = {'tax_base_equation_information': tax_base_retriever_chain} | tax_base_equation_chain\n",
    "\n",
    "def get_tax_base_equation(state: AgentState): \n",
    "    tax_base_equation_question = '주택에 대한 종합부동산세 계산시 과세표준을 계산하는 방법을 알려주세요'\n",
    "    tax_base_equation = tax_base_chain.invoke(tax_base_equation_question)\n",
    "    return {'tax_base_equation': tax_base_equation}\n",
    "\n"
   ]
  },
  {
   "cell_type": "code",
   "execution_count": null,
   "id": "5fde88e4-5202-4082-9084-62e89290dd29",
   "metadata": {},
   "outputs": [],
   "source": [
    "# get_tax_base_equation({})\n",
    "# {'tax_base_equation': '과세표준 = (주택 공시가격 합산 - 공제 금액) × 공정시장가액비율'}"
   ]
  },
  {
   "cell_type": "code",
   "execution_count": 11,
   "id": "554c8369-e652-47ee-b37a-c14b495d2133",
   "metadata": {},
   "outputs": [],
   "source": [
    "tax_deduction_retriever_chain = (\n",
    "    {'context': retriever, 'question': RunnablePassthrough()}\n",
    "    | rag_prompt \n",
    "    | llm \n",
    "    | StrOutputParser() \n",
    ") \n",
    "\n",
    "def get_tax_deduction(state: AgentState): \n",
    "    tax_deduction_question = '주택에 대한 종합부동산세 계산시 공제금액을 알려주세요'\n",
    "    tax_deduction = tax_deduction_retriever_chain.invoke(tax_deduction_question)\n",
    "    return {'tax_deduction': tax_deduction}\n"
   ]
  },
  {
   "cell_type": "code",
   "execution_count": null,
   "id": "9a22b410-296d-4f6f-b36c-89af53cc6a85",
   "metadata": {},
   "outputs": [],
   "source": [
    "# get_tax_deduction({})\n",
    "# {'tax_base_equation': '주택에 대한 종합부동산세 계산 시 1세대 1주택자의 경우 공제금액은 12억 원입니다. 법인이나 법인으로 보는 단체의 경우에는 6억 원, 그 외의 경우에는 9억 원이 공제됩니다.'}"
   ]
  },
  {
   "cell_type": "code",
   "execution_count": 13,
   "id": "db2e5371-828f-4e53-b104-5670e04f1cee",
   "metadata": {},
   "outputs": [],
   "source": [
    "from langchain_community.tools import TavilySearchResults\n",
    "from datetime import date \n",
    "\n",
    "tavily_search_tool = TavilySearchResults(\n",
    "    max_results=5,\n",
    "    search_depth=\"advanced\",\n",
    "    include_answer=True,\n",
    "    include_raw_content=True,\n",
    "    include_images=True,\n",
    ")\n",
    "\n",
    "tax_market_ratio_prompt = ChatPromptTemplate.from_messages([\n",
    "    ('system', '아래 정보를 기반으로 공정시장 가액비율을 계산해주세요\\n\\nContext:\\n{context}'),\n",
    "    ('human', '{query}')\n",
    "])\n",
    "\n",
    "def get_market_ratio(state: AgentState) -> AgentState: \n",
    "    query = f'오늘 날짜: {date.today()}에 해당하는 주택 공시가격 공정시장가액비율은 몇 %인가요?'\n",
    "    context = tavily_search_tool.invoke(query)\n",
    "\n",
    "    tax_market_ratio_chain = (\n",
    "        tax_market_ratio_prompt \n",
    "        | llm \n",
    "        | StrOutputParser()\n",
    "    )\n",
    "\n",
    "    market_ratio = tax_market_ratio_chain.invoke({'context': context, 'query': query})\n",
    "\n",
    "    return {'market_ratio': market_ratio}    \n"
   ]
  },
  {
   "cell_type": "code",
   "execution_count": null,
   "id": "eee07791-014d-427e-b439-b2c33ab5cd3e",
   "metadata": {},
   "outputs": [],
   "source": [
    "# get_market_ratio({})\n",
    "# {'market_ratio': '2025년 주택 공시가격의 공정시장가액비율은 다음과 같습니다:\\n\\n- 3억원 이하: 43%\\n- 6억원 이하: 44%\\n- 6억원 초과: 45%\\n- 다주택자 및 법인: 60%\\n\\n이 비율은 주택 공시가격에 따라 적용됩니다.'}"
   ]
  },
  {
   "cell_type": "code",
   "execution_count": 15,
   "id": "fbb20522-f56d-4ba3-b809-00ba73ce4162",
   "metadata": {},
   "outputs": [],
   "source": [
    "from langchain_core.prompts import PromptTemplate \n",
    "\n",
    "tax_base_calculation_prompt = PromptTemplate.from_template(\"\"\"\n",
    "주워진 내용을 기반으로 과세표준을 계산해주세요 \n",
    "\n",
    "과세표준 계산 공식: {tax_base_equation}\n",
    "공제금액: {tax_deduction}\n",
    "공정시장가액비율: {market_ratio}\n",
    "사용자 주택 공시가격 정보: {query}\n",
    "\"\"\")\n",
    "\n",
    "def calculate_tax_base(state:AgentState): \n",
    "    tax_base_equation = state['tax_base_equation']\n",
    "    tax_deduction = state['tax_deduction']\n",
    "    market_ratio = state['market_ratio']\n",
    "    query = state['query']\n",
    "\n",
    "    tax_base_calculation_chain = (\n",
    "        tax_base_calculation_prompt\n",
    "        | llm \n",
    "        | StrOutputParser()\n",
    "    )\n",
    "    \n",
    "    tax_base = tax_base_calculation_chain.invoke({\n",
    "        'tax_base_equation': tax_base_equation,\n",
    "        'tax_deduction': tax_deduction,\n",
    "        'market_ratio': market_ratio,\n",
    "        'query': query\n",
    "    })\n",
    "\n",
    "    print(tax_base)\n",
    "\n",
    "    return {'tax_base': tax_base}"
   ]
  },
  {
   "cell_type": "code",
   "execution_count": 16,
   "id": "44519449-dd13-4fe0-b0d1-1d1dce6ee548",
   "metadata": {},
   "outputs": [
    {
     "name": "stdout",
     "output_type": "stream",
     "text": [
      "과세표준을 계산하기 위해 주어진 주택 공시가격을 바탕으로 계산을 진행하겠습니다.\n",
      "\n",
      "사용자가 소유한 주택의 공시가격은 다음과 같습니다:\n",
      "- 5억 원짜리 집 1채\n",
      "- 10억 원짜리 집 1채\n",
      "- 20억 원짜리 집 1채\n",
      "\n",
      "총 공시가격 합산 금액:\n",
      "\\[ 5억 + 10억 + 20억 = 35억 \\]\n",
      "\n",
      "공제금액은 일반적인 경우 9억 원입니다.\n",
      "\n",
      "다음으로, 각 주택에 대해 공정시장가액비율을 적용합니다.\n",
      "\n",
      "1. 5억 원짜리 집: 공시가격이 6억 원 이하이므로 비율은 44%\n",
      "2. 10억 원짜리 집: 공시가격이 6억 원 초과이므로 비율은 45%\n",
      "3. 20억 원짜리 집: 공시가격이 6억 원 초과이므로 비율은 45%\n",
      "\n",
      "하지만, 다주택자의 경우에는 공정시장가액비율이 60%로 적용됩니다. 따라서, 전체 공시가격에 대해 60%를 적용해야 합니다.\n",
      "\n",
      "과세표준 계산:\n",
      "\\[ \\text{과세표준} = (35억 - 9억) \\times 0.60 \\]\n",
      "\\[ \\text{과세표준} = 26억 \\times 0.60 \\]\n",
      "\\[ \\text{과세표준} = 15.6억 \\]\n",
      "\n",
      "따라서, 과세표준은 15.6억 원입니다. 이 과세표준을 바탕으로 종합부동산세를 계산하게 됩니다.\n"
     ]
    }
   ],
   "source": [
    "initial_state = {\n",
    "    'query' : query,\n",
    "    'tax_base_equation' : '과세표준 = (주택 공시가격 합산 금액 - 공제 금액) x 공정시장가액비율',\n",
    "    'tax_deduction' : '주택에 대한 종합부동산세 계산 시 공제금액은 1세대 1주택자의 경우 12억 원, 일반적인 경우 9억 원입니다. 법인이나 법인으로 보는 단체의 경우는 6억 원이 공제됩니다.',\n",
    "    'market_ratio': '2025년 주택 공시가격의 공정시장가액비율은 다음과 같습니다:\\n\\n- 3억원 이하: 43%\\n- 6억원 이하: 44%\\n- 6억원 초과: 45%\\n- 다주택자 및 법인: 60%\\n\\n이 비율은 주택 공시가격에 따라 적용됩니다.'\n",
    "}\n",
    "\n",
    "tax_base = calculate_tax_base(initial_state)\n",
    "# tax_base"
   ]
  },
  {
   "cell_type": "code",
   "execution_count": 17,
   "id": "13633034-95d8-4c50-b936-96302c8cd120",
   "metadata": {},
   "outputs": [],
   "source": [
    "tax_rate_calculation_prompt = ChatPromptTemplate.from_messages([\n",
    "    ('system', '당신은 종합부동산세 계산 전문가입니다. 아래 문서를 참고해서 사용자의 질문에 대한 종합부동산세를 계산해주세요\\n\\n종합부동산세 세율:\\n{context}'),\n",
    "    ('human', '과세표준과 사용자가 소지한 주택의 수가 아래와 같을 때 종합부동산세를 계산해주세요\\n\\n과세표준: {tax_base}\\n주택 수: {query}')\n",
    "])\n",
    "\n",
    "def calculate_tax_rate(state: AgentState):\n",
    "    query = state['query']\n",
    "    tax_base = state['tax_base'] \n",
    "\n",
    "    context = retriever.invoke(query)\n",
    "\n",
    "    tax_rate_chain = (\n",
    "        tax_rate_calculation_prompt \n",
    "        | llm \n",
    "        | StrOutputParser()\n",
    "    )\n",
    "\n",
    "    tax_rate = tax_rate_chain.invoke({'context': context, 'query': query, 'tax_base': tax_base})\n",
    "\n",
    "    return {'answer': tax_rate}\n"
   ]
  },
  {
   "cell_type": "code",
   "execution_count": null,
   "id": "bad49139",
   "metadata": {},
   "outputs": [
    {
     "data": {
      "text/plain": [
       "{'answer': '사용자가 3주택을 소유하고 있으므로, 3주택 이상 소유 시 적용되는 세율을 사용해야 합니다. 주어진 과세표준은 15.6억 원입니다.\\n\\n3주택 이상 소유한 경우의 세율표는 다음과 같습니다:\\n\\n- 12억 원 초과 25억 원 이하: 960만 원 + (12억 원을 초과하는 금액의 1천분의 20)\\n\\n과세표준이 15.6억 원이므로, 12억 원을 초과하는 금액은 3.6억 원입니다.\\n\\n세액 계산은 다음과 같습니다:\\n\\\\[ \\\\text{세액} = 960만 원 + (3.6억 원 \\\\times 0.002) \\\\]\\n\\\\[ \\\\text{세액} = 960만 원 + 720만 원 \\\\]\\n\\\\[ \\\\text{세액} = 1,680만 원 \\\\]\\n\\n따라서, 사용자는 종합부동산세로 1,680만 원을 내야 합니다.'}"
      ]
     },
     "execution_count": 18,
     "metadata": {},
     "output_type": "execute_result"
    }
   ],
   "source": [
    "# calculate_tax_rate(\n",
    "#     {\n",
    "#         'query': query,\n",
    "#         'tax_base': tax_base['tax_base'],\n",
    "#     }\n",
    "# )"
   ]
  },
  {
   "cell_type": "code",
   "execution_count": 19,
   "id": "cacde1a2",
   "metadata": {},
   "outputs": [
    {
     "data": {
      "text/plain": [
       "<langgraph.graph.state.StateGraph at 0x118b6e3c0>"
      ]
     },
     "execution_count": 19,
     "metadata": {},
     "output_type": "execute_result"
    }
   ],
   "source": [
    "graph_builder.add_node('get_tax_base_equation', get_tax_base_equation)\n",
    "graph_builder.add_node('get_tax_deduction', get_tax_deduction)\n",
    "graph_builder.add_node('get_market_ratio', get_market_ratio)\n",
    "graph_builder.add_node('calculate_tax_base', calculate_tax_base)\n",
    "graph_builder.add_node('calculate_tax_rate', calculate_tax_rate) "
   ]
  },
  {
   "cell_type": "code",
   "execution_count": 20,
   "id": "604f30e8",
   "metadata": {},
   "outputs": [
    {
     "data": {
      "text/plain": [
       "<langgraph.graph.state.StateGraph at 0x118b6e3c0>"
      ]
     },
     "execution_count": 20,
     "metadata": {},
     "output_type": "execute_result"
    }
   ],
   "source": [
    "from langgraph.graph import START, END \n",
    "\n",
    "graph_builder.add_edge(START, 'get_tax_base_equation')\n",
    "graph_builder.add_edge(START, 'get_tax_deduction')\n",
    "graph_builder.add_edge(START, 'get_market_ratio')\n",
    "graph_builder.add_edge('get_tax_base_equation', 'calculate_tax_base')\n",
    "graph_builder.add_edge('get_tax_deduction', 'calculate_tax_base')\n",
    "graph_builder.add_edge('get_market_ratio', 'calculate_tax_base')\n",
    "graph_builder.add_edge('calculate_tax_base', 'calculate_tax_rate')\n",
    "graph_builder.add_edge('calculate_tax_rate', END)"
   ]
  },
  {
   "cell_type": "code",
   "execution_count": 21,
   "id": "0ec19323",
   "metadata": {},
   "outputs": [],
   "source": [
    "graph = graph_builder.compile()"
   ]
  },
  {
   "cell_type": "code",
   "execution_count": null,
   "id": "e6a764da",
   "metadata": {},
   "outputs": [],
   "source": [
    "# from IPython.display import Image, display\n",
    "\n",
    "# display(Image(graph.get_graph().draw_mermaid_png()))\n",
    "# graph.get_graph().print_ascii()\n"
   ]
  },
  {
   "cell_type": "code",
   "execution_count": 23,
   "id": "2fe75adb",
   "metadata": {},
   "outputs": [
    {
     "name": "stdout",
     "output_type": "stream",
     "text": [
      "사용자가 보유한 주택들의 공시가격과 해당 공정시장가액비율을 바탕으로 과세표준을 계산해 보겠습니다.\n",
      "\n",
      "사용자의 주택 공시가격:\n",
      "- 5억 원짜리 집 1채\n",
      "- 10억 원짜리 집 1채\n",
      "- 20억 원짜리 집 1채\n",
      "\n",
      "총 공시가격 합산:\n",
      "- 5억 + 10억 + 20억 = 35억 원\n",
      "\n",
      "공제금액:\n",
      "- 주어진 조건에서 사용자가 1세대 1주택자가 아니라면, 공제금액은 9억 원입니다.\n",
      "\n",
      "공정시장가액비율:\n",
      "- 5억 원짜리 집: 44% (3억 초과 6억 이하)\n",
      "- 10억 원짜리 집: 45% (6억 초과)\n",
      "- 20억 원짜리 집: 45% (6억 초과)\n",
      "\n",
      "하지만, 문제에서 제공된 정보에 따르면 여러 채의 집을 소유한 경우에는 각각의 집에 다른 비율을 적용하는 것이 아니라, 최종 합산된 가격에 대해 공정시장가액비율을 적용합니다. 따라서 전체 공시가격에 대한 공정시장가액비율은 45%로 적용됩니다.\n",
      "\n",
      "과세표준 계산:\n",
      "\\[\n",
      "\\text{과세표준} = (\\text{총 공시가격 합산} - \\text{공제금액}) \\times \\text{공정시장가액비율}\n",
      "\\]\n",
      "\\[\n",
      "= (35억 - 9억) \\times 0.45\n",
      "\\]\n",
      "\\[\n",
      "= 26억 \\times 0.45\n",
      "\\]\n",
      "\\[\n",
      "= 11.7억 원\n",
      "\\]\n",
      "\n",
      "따라서 과세표준은 11.7억 원입니다. 이 과세표준을 바탕으로 종합부동산세를 계산할 수 있습니다. 종합부동산세율은 별도로 적용됩니다.\n"
     ]
    },
    {
     "data": {
      "text/plain": [
       "{'query': '5억짜리 집 1채, 10억짜리 집 1채, 20억짜리 집 1채를 가지고 있을 때 세금을 얼마나 내나요?',\n",
       " 'answer': '사용자가 3채의 주택을 소유하고 있으므로, \"납세의무자가 3주택 이상을 소유한 경우\"에 해당하는 세율을 적용해야 합니다. 과세표준이 11.7억 원인 경우에 해당하는 세율은 다음과 같습니다:\\n\\n과세표준: 6억 원 초과 12억 원 이하\\n세율: 360만 원 + (6억 원을 초과하는 금액의 1천분의 10)\\n\\n과세표준이 11.7억 원이므로 6억 원을 초과하는 금액은:\\n\\n\\\\[\\n11.7억 - 6억 = 5.7억 원\\n\\\\]\\n\\n따라서 추가 세금은:\\n\\n\\\\[\\n5.7억 원 \\\\times 0.001 = 570만 원\\n\\\\]\\n\\n최종 종합부동산세는:\\n\\n\\\\[\\n360만 원 + 570만 원 = 930만 원\\n\\\\]\\n\\n따라서, 사용자가 내야 할 종합부동산세는 930만 원입니다.',\n",
       " 'tax_base_equation': '과세표준 = (주택의 공시가격 합산 - 공제금액) × 공정시장가액비율',\n",
       " 'tax_deduction': '주택에 대한 종합부동산세 계산 시 공제금액은 1세대 1주택자의 경우 12억 원, 법인 또는 법인으로 보는 단체는 6억 원, 그 외의 경우는 9억 원입니다. ',\n",
       " 'market_ratio': '2025년의 주택 공시가격에 대한 공정시장가액비율은 일반적으로 60%로 적용되지만, 1주택자의 경우 예외적으로 43%에서 45%까지 적용됩니다. 3억 원 이하의 주택은 43%, 3억 원 초과 6억 원 이하의 주택은 44%, 6억 원 초과의 주택은 45%의 비율이 적용됩니다.',\n",
       " 'tax_base': '사용자가 보유한 주택들의 공시가격과 해당 공정시장가액비율을 바탕으로 과세표준을 계산해 보겠습니다.\\n\\n사용자의 주택 공시가격:\\n- 5억 원짜리 집 1채\\n- 10억 원짜리 집 1채\\n- 20억 원짜리 집 1채\\n\\n총 공시가격 합산:\\n- 5억 + 10억 + 20억 = 35억 원\\n\\n공제금액:\\n- 주어진 조건에서 사용자가 1세대 1주택자가 아니라면, 공제금액은 9억 원입니다.\\n\\n공정시장가액비율:\\n- 5억 원짜리 집: 44% (3억 초과 6억 이하)\\n- 10억 원짜리 집: 45% (6억 초과)\\n- 20억 원짜리 집: 45% (6억 초과)\\n\\n하지만, 문제에서 제공된 정보에 따르면 여러 채의 집을 소유한 경우에는 각각의 집에 다른 비율을 적용하는 것이 아니라, 최종 합산된 가격에 대해 공정시장가액비율을 적용합니다. 따라서 전체 공시가격에 대한 공정시장가액비율은 45%로 적용됩니다.\\n\\n과세표준 계산:\\n\\\\[\\n\\\\text{과세표준} = (\\\\text{총 공시가격 합산} - \\\\text{공제금액}) \\\\times \\\\text{공정시장가액비율}\\n\\\\]\\n\\\\[\\n= (35억 - 9억) \\\\times 0.45\\n\\\\]\\n\\\\[\\n= 26억 \\\\times 0.45\\n\\\\]\\n\\\\[\\n= 11.7억 원\\n\\\\]\\n\\n따라서 과세표준은 11.7억 원입니다. 이 과세표준을 바탕으로 종합부동산세를 계산할 수 있습니다. 종합부동산세율은 별도로 적용됩니다.'}"
      ]
     },
     "execution_count": 23,
     "metadata": {},
     "output_type": "execute_result"
    }
   ],
   "source": [
    "initial_state = {'query': query}\n",
    "graph.invoke(initial_state)"
   ]
  },
  {
   "cell_type": "code",
   "execution_count": null,
   "id": "03d99ccd",
   "metadata": {},
   "outputs": [],
   "source": []
  }
 ],
 "metadata": {
  "kernelspec": {
   "display_name": ".venv",
   "language": "python",
   "name": "python3"
  },
  "language_info": {
   "codemirror_mode": {
    "name": "ipython",
    "version": 3
   },
   "file_extension": ".py",
   "mimetype": "text/x-python",
   "name": "python",
   "nbconvert_exporter": "python",
   "pygments_lexer": "ipython3",
   "version": "3.13.3"
  }
 },
 "nbformat": 4,
 "nbformat_minor": 5
}
