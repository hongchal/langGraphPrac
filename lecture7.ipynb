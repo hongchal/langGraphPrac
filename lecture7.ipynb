{
 "cells": [
  {
   "cell_type": "code",
   "execution_count": 1,
   "id": "06da9cd8-89eb-423c-8f9c-a01d1f787d56",
   "metadata": {},
   "outputs": [
    {
     "data": {
      "text/plain": [
       "True"
      ]
     },
     "execution_count": 1,
     "metadata": {},
     "output_type": "execute_result"
    }
   ],
   "source": [
    "from dotenv import load_dotenv\n",
    "\n",
    "load_dotenv()"
   ]
  },
  {
   "cell_type": "code",
   "execution_count": 2,
   "id": "4ed82bae-fe83-46f8-89a6-4b97baaa34d2",
   "metadata": {},
   "outputs": [],
   "source": [
    "# from langchain_chroma import Chroma\n",
    "# from langchain_openai import OpenAIEmbeddings\n",
    "# from langchain_community.document_loaders import TextLoader\n",
    "# from langchain_text_splitters import RecursiveCharacterTextSplitter\n",
    "\n",
    "# text_splitter = RecursiveCharacterTextSplitter(\n",
    "#     chunk_size = 1500,\n",
    "#     chunk_overlap = 100,\n",
    "#     separators=['\\n\\n', '\\n']\n",
    "# ) \n",
    "\n",
    "# text_path = './documents/real_estate_tax.txt'\n",
    "\n",
    "# loader = TextLoader(text_path)\n",
    "# document_list = loader.load_and_split(text_splitter)\n",
    "\n",
    "# embeddings = OpenAIEmbeddings(model='text-embedding-3-large')\n",
    "\n",
    "# vector_store = Chroma.from_documents(\n",
    "#     documents=document_list,\n",
    "#     embedding=embeddings,\n",
    "#     collection_name = 'real_estate_tax',\n",
    "#     persist_directory = './real_estate_tax_collection'\n",
    "# )"
   ]
  },
  {
   "cell_type": "code",
   "execution_count": 3,
   "id": "8dc0f287-e350-4dd5-94fb-284ac64abed6",
   "metadata": {},
   "outputs": [],
   "source": [
    "from typing_extensions import TypedDict\n",
    "from langgraph.graph import StateGraph\n",
    "\n",
    "class AgentState(TypedDict):\n",
    "    query: str # 사용자 질문\n",
    "    answer: str # 세율\n",
    "    tax_base_equation: str # 과세표준 계산 수식 \n",
    "    tax_deduction: str # 공제액 \n",
    "    market_ratio: str # 공정시장가액비율\n",
    "    tax_base: str # 과세표준 계산\n",
    "    \n",
    "graph_builder = StateGraph(AgentState)"
   ]
  },
  {
   "cell_type": "code",
   "execution_count": 4,
   "id": "c3589061-3b04-4bcd-b29f-068f9128c179",
   "metadata": {},
   "outputs": [],
   "source": [
    "from langchain_chroma import Chroma \n",
    "from langchain_openai import OpenAIEmbeddings \n",
    "\n",
    "embedding_function = OpenAIEmbeddings(model= 'text-embedding-3-large')\n",
    "vector_store = Chroma(\n",
    "    embedding_function=embedding_function,\n",
    "    collection_name = 'real_estate_tax',\n",
    "    persist_directory='./real_estate_tax_collection'\n",
    ")"
   ]
  },
  {
   "cell_type": "code",
   "execution_count": 5,
   "id": "a63b9025-bea1-4d94-a3c7-b20641cb4cb7",
   "metadata": {},
   "outputs": [],
   "source": [
    "retriever = vector_store.as_retriever(search_kwargs = {'k': 3})"
   ]
  },
  {
   "cell_type": "code",
   "execution_count": 6,
   "id": "cbe4cf28-b29c-4cde-81a2-8a911c73f3e0",
   "metadata": {},
   "outputs": [],
   "source": [
    "query = '5억짜리 집 1채, 10억짜리 집 1채, 20억짜리 집 1채를 가지고 있을 때 세금을 얼마나 내나요?'"
   ]
  },
  {
   "cell_type": "code",
   "execution_count": 7,
   "id": "83f83a6d-f371-465b-952c-02da214dae37",
   "metadata": {},
   "outputs": [
    {
     "data": {
      "text/plain": [
       "[Document(metadata={'source': './documents/real_estate_tax.txt'}, page_content='납세의무자가 2주택 이하를 소유한 경우\\n\\n| 과세표준              | 세율                                  |\\n|---------------------|-------------------------------------|\\n| 3억 원 이하           | 1천분의 5                              |\\n| 3억 원 초과 6억 원 이하 | 150만 원 + (3억 원을 초과하는 금액의 1천분의 7)  |\\n| 6억 원 초과 12억 원 이하 | 360만 원 + (6억 원을 초과하는 금액의 1천분의 10) |\\n| 12억 원 초과 25억 원 이하 | 960만 원 + (12억 원을 초과하는 금액의 1천분의 13)|\\n| 25억 원 초과 50억 원 이하 | 2천650만 원 + (25억 원을 초과하는 금액의 1천분의 15)|\\n| 50억 원 초과 94억 원 이하 | 6천400만 원 + (50억 원을 초과하는 금액의 1천분의 20)|\\n| 94억 원 초과          | 1억 5천200만 원 + (94억 원을 초과하는 금액의 1천분의 27)|\\n\\n납세의무자가 3주택 이상을 소유한 경우\\n\\n| 과세표준              | 세율                                  |\\n|---------------------|-------------------------------------|\\n| 3억 원 이하           | 1천분의 5                              |\\n| 3억 원 초과 6억 원 이하 | 150만 원 + (3억 원을 초과하는 금액의 1천분의 7)  |\\n| 6억 원 초과 12억 원 이하 | 360만 원 + (6억 원을 초과하는 금액의 1천분의 10) |\\n| 12억 원 초과 25억 원 이하 | 960만 원 + (12억 원을 초과하는 금액의 1천분의 20)|\\n| 25억 원 초과 50억 원 이하 | 3천560만 원 + (25억 원을 초과하는 금액의 1천분의 30)|\\n| 50억 원 초과 94억 원 이하 | 1억1천600만 원 + (50억 원을 초과하는 금액의 1천분의 40)|\\n| 94억 원 초과          | 2억8천660만 원 + (94억 원을 초과하는 금액의 1천분의 50)|\\n\\n② 납세의무자가 법인 또는 법인으로 보는 단체인 경우 제1항에도 불구하고 과세표준에 다음 각 호에 따른 세율을 적용하여 계산한 금액을 주택분 종합부동산세액으로 한다. <신설 2020. 8. 18., 2020. 12. 29., 2022. 12. 31., 2023. 4. 18.>\\n법제처 3 국가법령정보센터\\n종합부동산세법'),\n",
       " Document(metadata={'source': './documents/real_estate_tax.txt'}, page_content='법제처 법제처 2 국가법령정보센터\\n종합부동산세법\\n지역에 소재하는 1주택의 경우에는 2009년 1월 1일부터 2011년 12월 31일까지의 기간 중 납세의무자가 성립하는 분에 한정한다. ③제3항의 규정에 따른 주택을 보유한 납세의무자는 해당 연도 9월 16일부터 9월 30일까지 대통령령으로 정하는 바에 따라 관할 세무서장(이하 “관할세무서장”이라 한다)에게 해당 주택의 보유현황을 신고하여야 한다. <신설 2007. 1. 11., 2020. 6. 9.>\\n④ 제1항을 적용할 때 다음 각 호의 어느 하나에 해당하는 경우에는 1세대 1주택자로 본다. <개정 2022. 9. 15.>\\n  1. 1주택(주택의 부속토지만을 소유한 경우는 제외한다)과 다른 주택의 부속토지(주택의 건물과 부속토지의 소유자가 다른 경우의 그 부속토지로 한정한다)를 합계하여 소유하고 있는 경우\\n  2. 1세대 1주택자가 1주택을 양도하기 전에 다른 주택을 대체취득하여 일시적으로 2주택이 된 경우로서 대통령령으로 정하는 경우\\n  3. 1주택과 상속받은 주택으로서 대통령령으로 정하는 주택(이하 “상속주택”이라 한다)을 합계 소유하고 있는 경우\\n  4. 1주택과 주택 소재 지역, 주택 가격 등을 고려하여 대통령령으로 정하는 지방 저가주택(이하 “지방 저가주택”이라 한다)을 함께 소유하고 있는 경우\\n⑤ 제4항제2호부터 제4호까지의 규정을 적용받으려는 납세의무자는 해당 연도 9월 16일부터 9월 30일까지 대통령령으로 정하는 바에 따라 관할세무서장에게 신청하여야 한다. <신설 2022. 9. 15.> [전문개정 2008. 12. 26. 법률 제9273호에 의하여 2008. 11. 13. 헌법재판소에서 위헌 결정된 이 조를 개정함.]\\n제9조(세율 및 세액) ① 주택에 대한 종합부동산세는 다음 각 호와 같이 납세의무자가 소유한 주택 수에 따라 과세표준에 해당 세율을 적용하여 계산한 금액을 그 세액(이하 “주택분 종합부동산세액”이라 한다)으로 한다. <개정 2018. 12. 31., 2020. 8. 18., 2022. 12. 31.>\\n\\n납세의무자가 2주택 이하를 소유한 경우'),\n",
       " Document(metadata={'source': './documents/real_estate_tax.txt'}, page_content='신탁 설정일 이전에 「국세기본법」 제35조제2항에 따른 법령개정이 도래하는 종합부동산세세액 해당 신탁주택과 관련하여 발생한 것\\n\\n\\n제1호의 금액에 따른 강제징수 과정에서 발생한 강제징수비\\n\\n\\n[본조신설 2020. 12. 29.]\\n제8조(과세표준) ① 주택에 대한 종합부동산세의 과세표준은 납세의무자별로 주택의 공시가격을 합산한 금액에서 다음 각 호의 금액을 공제한 금액에 부동산 시장의 동향과 지방 연조 등을 고려하여 100분의 60부터 100분의 100까지의 범위에서 대통령령으로 정하는 공정시장가액비율을 곱한 금액으로 한다. 다만, 그 금액이 영본가조 있는 경우에는 영으로 본다. <개정 2022. 12. 31., 2023. 4. 18.>\\n\\n\\n대통령령으로 정하는 1세대 1주택자(이하 “1세대 1주택자”라 한다.): 12억원\\n\\n\\n제9조제1항제3호 각 목의 세율이 적용되는 법인 또는 법인으로 보는 단체: 6억원\\n\\n\\n제1호 및 제2호에 해당하지 아니하는 자: 9억원\\n\\n\\n이 경우 각 호의 어느 하나에 해당하는 주택은 제1항에 따른 과세표준 합산의 대상이 되는 주택의 범위에 포함되지 아니하는 것으로 본다. <신설 2005. 12. 31., 2008. 12. 26., 2011. 6. 7., 2015. 8. 28., 2020. 6. 9.>\\n\\n\\n「민간임대주택에 관한 특별법」에 따른 민간임대주택, 「공공주택 특별법」에 따른 공공임대주택 또는 대통령령으로 정하는 다자주택 경과 민자기록, 주택의 수, 가격, 규모 등을 고려하여 대통령령으로 정하는 주택\\n\\n\\n제1호의 주택에 영업을 종계에 제공하기 위한 기숙사 및 사업용 주택, 주택건설사업자가 건축하여 소유하고 있는 미완공주택, 개정어린이집 주택, 「수도권정비계획법」 제2조제1호에 따른 수도권의 지역에 소재하는 주택 중 종합부동산세를 부과하는 목적에 적합하지 아니한 것으로서 대통령으로 정하는 주택, 이 경우 중도열 원')]"
      ]
     },
     "execution_count": 7,
     "metadata": {},
     "output_type": "execute_result"
    }
   ],
   "source": [
    "retriever.invoke(query)"
   ]
  },
  {
   "cell_type": "code",
   "execution_count": 8,
   "id": "8969d60b-60de-48ea-a4ed-e63e3151d551",
   "metadata": {},
   "outputs": [
    {
     "name": "stderr",
     "output_type": "stream",
     "text": [
      "/Users/robert/Desktop/langGrahpPrac/.venv/lib/python3.13/site-packages/langsmith/client.py:256: LangSmithMissingAPIKeyWarning: API key must be provided when using hosted LangSmith API\n",
      "  warnings.warn(\n"
     ]
    }
   ],
   "source": [
    "from langchain_openai import ChatOpenAI \n",
    "from langchain import hub\n",
    "from langchain_core.output_parsers import StrOutputParser \n",
    "from langchain_core.runnables import RunnablePassthrough\n",
    "from langchain_core.prompts import ChatPromptTemplate\n",
    "\n",
    "rag_prompt = hub.pull('rlm/rag-prompt')\n",
    "\n",
    "llm = ChatOpenAI(model='gpt-4o')\n",
    "small_llm = ChatOpenAI(model='gpt-4o-mini')\n"
   ]
  },
  {
   "cell_type": "code",
   "execution_count": 9,
   "id": "f5ccb5ed-98bd-4a18-b368-7884daf7eb6e",
   "metadata": {},
   "outputs": [],
   "source": [
    "tax_base_retriever_chain = (\n",
    "    {'context': retriever, 'question': RunnablePassthrough()}\n",
    "    | rag_prompt \n",
    "    | llm \n",
    "    | StrOutputParser() \n",
    ") \n",
    "\n",
    "tax_base_equation_prompt = ChatPromptTemplate.from_messages([\n",
    "    ('system', '사용자의 질문에서 과세표주을 계산하는 방법을 부연설명 없이 수식만 표현해주세요'),\n",
    "    ('human', '{tax_base_equation_information}')\n",
    "])\n",
    "\n",
    "tax_base_equation_chain = (\n",
    "        {'tax_base_equation_information': RunnablePassthrough()}\n",
    "        | tax_base_equation_prompt\n",
    "        | llm \n",
    "        | StrOutputParser()\n",
    ")\n",
    "\n",
    "tax_base_chain = {'tax_base_equation_information': tax_base_retriever_chain} | tax_base_equation_chain\n",
    "\n",
    "def get_tax_base_equation(state: AgentState): \n",
    "    tax_base_equation_question = '주택에 대한 종합부동산세 계산시 과세표준을 계산하는 방법을 알려주세요'\n",
    "    tax_base_equation = tax_base_chain.invoke(tax_base_equation_question)\n",
    "    return {'tax_base_equation': tax_base_equation}\n",
    "\n"
   ]
  },
  {
   "cell_type": "code",
   "execution_count": 10,
   "id": "5fde88e4-5202-4082-9084-62e89290dd29",
   "metadata": {},
   "outputs": [
    {
     "data": {
      "text/plain": [
       "{'tax_base_equation': '과세표준 = (공시가격 합계 - 특정 공제 금액) × 공정시장가액비율'}"
      ]
     },
     "execution_count": 10,
     "metadata": {},
     "output_type": "execute_result"
    }
   ],
   "source": [
    "get_tax_base_equation({})\n",
    "# {'tax_base_equation': '과세표준 = (주택 공시가격 합산 - 공제 금액) × 공정시장가액비율'}"
   ]
  },
  {
   "cell_type": "code",
   "execution_count": 11,
   "id": "554c8369-e652-47ee-b37a-c14b495d2133",
   "metadata": {},
   "outputs": [],
   "source": [
    "tax_deduction_retriever_chain = (\n",
    "    {'context': retriever, 'question': RunnablePassthrough()}\n",
    "    | rag_prompt \n",
    "    | llm \n",
    "    | StrOutputParser() \n",
    ") \n",
    "\n",
    "def get_tax_deduction(state: AgentState): \n",
    "    tax_deduction_question = '주택에 대한 종합부동산세 계산시 공제금액을 알려주세요'\n",
    "    tax_deduction = tax_deduction_retriever_chain.invoke(tax_deduction_question)\n",
    "    return {'tax_deduction': tax_deduction}\n"
   ]
  },
  {
   "cell_type": "code",
   "execution_count": 12,
   "id": "9a22b410-296d-4f6f-b36c-89af53cc6a85",
   "metadata": {},
   "outputs": [
    {
     "data": {
      "text/plain": [
       "{'tax_deduction': '주택에 대한 종합부동산세 계산시, 1세대 1주택자는 12억 원, 법인 또는 법인으로 보는 단체는 6억 원, 그 외의 경우는 9억 원이 공제됩니다.'}"
      ]
     },
     "execution_count": 12,
     "metadata": {},
     "output_type": "execute_result"
    }
   ],
   "source": [
    "get_tax_deduction({})\n",
    "# {'tax_base_equation': '주택에 대한 종합부동산세 계산 시 1세대 1주택자의 경우 공제금액은 12억 원입니다. 법인이나 법인으로 보는 단체의 경우에는 6억 원, 그 외의 경우에는 9억 원이 공제됩니다.'}"
   ]
  },
  {
   "cell_type": "code",
   "execution_count": 13,
   "id": "db2e5371-828f-4e53-b104-5670e04f1cee",
   "metadata": {},
   "outputs": [],
   "source": [
    "from langchain_community.tools import TavilySearchResults\n",
    "from datetime import date \n",
    "\n",
    "tavily_search_tool = TavilySearchResults(\n",
    "    max_results=5,\n",
    "    search_depth=\"advanced\",\n",
    "    include_answer=True,\n",
    "    include_raw_content=True,\n",
    "    include_images=True,\n",
    ")\n",
    "\n",
    "tax_market_ratio_prompt = ChatPromptTemplate.from_messages([\n",
    "    ('system', '아래 정보를 기반으로 공정시장 가액비율을 계산해주세요\\n\\nContext:\\n{context}'),\n",
    "    ('human', '{query}')\n",
    "])\n",
    "\n",
    "def get_market_ratio(state: AgentState) -> AgentState: \n",
    "    query = f'오늘 날짜: {date.today()}에 해당하는 주택 공시가격 공정시장가액비율은 몇 %인가요?'\n",
    "    context = tavily_search_tool.invoke(query)\n",
    "\n",
    "    tax_market_ratio_chain = (\n",
    "        tax_market_ratio_prompt \n",
    "        | llm \n",
    "        | StrOutputParser()\n",
    "    )\n",
    "\n",
    "    market_ratio = tax_market_ratio_chain.invoke({'context': context, 'query': query})\n",
    "\n",
    "    return {'market_ratio': market_ratio}    \n"
   ]
  },
  {
   "cell_type": "code",
   "execution_count": 14,
   "id": "eee07791-014d-427e-b439-b2c33ab5cd3e",
   "metadata": {},
   "outputs": [
    {
     "data": {
      "text/plain": [
       "{'market_ratio': '2025년에도 1주택자를 대상으로 공정시장가액비율 특례가 계속 적용됩니다. 1주택자의 경우, 주택 공시가격에 따라 공정시장가액비율은 다음과 같이 적용됩니다:\\n\\n- 공시가격이 3억 원 이하: 43%\\n- 공시가격이 3억 원 초과 ~ 6억 원 이하: 44%\\n- 공시가격이 6억 원 초과: 45%'}"
      ]
     },
     "execution_count": 14,
     "metadata": {},
     "output_type": "execute_result"
    }
   ],
   "source": [
    "get_market_ratio({})\n",
    "# {'market_ratio': '2025년 주택 공시가격의 공정시장가액비율은 다음과 같습니다:\\n\\n- 3억원 이하: 43%\\n- 6억원 이하: 44%\\n- 6억원 초과: 45%\\n- 다주택자 및 법인: 60%\\n\\n이 비율은 주택 공시가격에 따라 적용됩니다.'}"
   ]
  },
  {
   "cell_type": "code",
   "execution_count": 15,
   "id": "fbb20522-f56d-4ba3-b809-00ba73ce4162",
   "metadata": {},
   "outputs": [],
   "source": [
    "from langchain_core.prompts import PromptTemplate \n",
    "\n",
    "tax_base_calculation_prompt = PromptTemplate.from_template(\"\"\"\n",
    "주워진 내용을 기반으로 과세표준을 계산해주세요 \n",
    "\n",
    "과세표준 계산 공식: {tax_base_equation}\n",
    "공제금액: {tax_deduction}\n",
    "공정시장가액비율: {market_ratio}\n",
    "사용자 주택 공시가격 정보: {query}\n",
    "\"\"\")\n",
    "\n",
    "def calculate_tax_base(state:AgentState): \n",
    "    tax_base_equation = state['tax_base_equation']\n",
    "    tax_deduction = state['tax_deduction']\n",
    "    market_ratio = state['market_ratio']\n",
    "    query = state['query']\n",
    "\n",
    "    tax_base_calculation_chain = (\n",
    "        tax_base_calculation_prompt\n",
    "        | llm \n",
    "        | StrOutputParser()\n",
    "    )\n",
    "    \n",
    "    tax_base = tax_base_calculation_chain.invoke({\n",
    "        'tax_base_equation': tax_base_equation,\n",
    "        'tax_deduction': tax_deduction,\n",
    "        'market_ratio': market_ratio,\n",
    "        'query': query\n",
    "    })\n",
    "\n",
    "    print(tax_base)\n",
    "\n",
    "    return {'tax_base': tax_base}"
   ]
  },
  {
   "cell_type": "code",
   "execution_count": 22,
   "id": "44519449-dd13-4fe0-b0d1-1d1dce6ee548",
   "metadata": {},
   "outputs": [
    {
     "name": "stdout",
     "output_type": "stream",
     "text": [
      "주어진 정보를 바탕으로 과세표준을 계산해보겠습니다.\n",
      "\n",
      "1. **주택 공시가격 합산 금액**:\n",
      "   - 5억 원짜리 집 1채\n",
      "   - 10억 원짜리 집 1채\n",
      "   - 20억 원짜리 집 1채\n",
      "   - 총 합산 금액 = 5억 + 10억 + 20억 = 35억 원\n",
      "\n",
      "2. **공제 금액**:\n",
      "   - 일반적인 경우로 가정하면 공제 금액은 9억 원입니다.\n",
      "\n",
      "3. **공정시장가액비율 적용**:\n",
      "   - 5억 원짜리 집: 44% 적용\n",
      "   - 10억 원짜리 집: 45% 적용\n",
      "   - 20억 원짜리 집: 45% 적용\n",
      "\n",
      "   다만, 주택의 전체 공시가격 합산 금액이 고려되어야 하므로, 다주택자로 볼 수 있습니다. 따라서, 다주택자 및 법인에 해당하는 60%의 공정시장가액비율을 적용합니다.\n",
      "\n",
      "4. **과세표준 계산**:\n",
      "   - 과세표준 = (주택 공시가격 합산 금액 - 공제 금액) x 공정시장가액비율\n",
      "   - 과세표준 = (35억 원 - 9억 원) x 60%\n",
      "   - 과세표준 = 26억 원 x 60% = 15.6억 원\n",
      "\n",
      "따라서, 주어진 조건 하에서 과세표준은 15.6억 원입니다. 이 과세표준을 기반으로 종합부동산세를 계산하게 됩니다. 종합부동산세율은 별도로 확인해야 합니다.\n"
     ]
    },
    {
     "data": {
      "text/plain": [
       "{'tax_base': '주어진 정보를 바탕으로 과세표준을 계산해보겠습니다.\\n\\n1. **주택 공시가격 합산 금액**:\\n   - 5억 원짜리 집 1채\\n   - 10억 원짜리 집 1채\\n   - 20억 원짜리 집 1채\\n   - 총 합산 금액 = 5억 + 10억 + 20억 = 35억 원\\n\\n2. **공제 금액**:\\n   - 일반적인 경우로 가정하면 공제 금액은 9억 원입니다.\\n\\n3. **공정시장가액비율 적용**:\\n   - 5억 원짜리 집: 44% 적용\\n   - 10억 원짜리 집: 45% 적용\\n   - 20억 원짜리 집: 45% 적용\\n\\n   다만, 주택의 전체 공시가격 합산 금액이 고려되어야 하므로, 다주택자로 볼 수 있습니다. 따라서, 다주택자 및 법인에 해당하는 60%의 공정시장가액비율을 적용합니다.\\n\\n4. **과세표준 계산**:\\n   - 과세표준 = (주택 공시가격 합산 금액 - 공제 금액) x 공정시장가액비율\\n   - 과세표준 = (35억 원 - 9억 원) x 60%\\n   - 과세표준 = 26억 원 x 60% = 15.6억 원\\n\\n따라서, 주어진 조건 하에서 과세표준은 15.6억 원입니다. 이 과세표준을 기반으로 종합부동산세를 계산하게 됩니다. 종합부동산세율은 별도로 확인해야 합니다.'}"
      ]
     },
     "execution_count": 22,
     "metadata": {},
     "output_type": "execute_result"
    }
   ],
   "source": [
    "initial_state = {\n",
    "    'query' : query,\n",
    "    'tax_base_equation' : '과세표준 = (주택 공시가격 합산 금액 - 공제 금액) x 공정시장가액비율',\n",
    "    'tax_deduction' : '주택에 대한 종합부동산세 계산 시 공제금액은 1세대 1주택자의 경우 12억 원, 일반적인 경우 9억 원입니다. 법인이나 법인으로 보는 단체의 경우는 6억 원이 공제됩니다.',\n",
    "    'market_ratio': '2025년 주택 공시가격의 공정시장가액비율은 다음과 같습니다:\\n\\n- 3억원 이하: 43%\\n- 6억원 이하: 44%\\n- 6억원 초과: 45%\\n- 다주택자 및 법인: 60%\\n\\n이 비율은 주택 공시가격에 따라 적용됩니다.'\n",
    "}\n",
    "\n",
    "tax_base = calculate_tax_base(initial_state)\n",
    "tax_base"
   ]
  },
  {
   "cell_type": "code",
   "execution_count": 21,
   "id": "13633034-95d8-4c50-b936-96302c8cd120",
   "metadata": {},
   "outputs": [],
   "source": [
    "tax_rate_calculation_prompt = ChatPromptTemplate.from_messages([\n",
    "    ('system', '당신은 종합부동산세 계산 전문가입니다. 아래 문서를 참고해서 사용자의 질문에 대한 종합부동산세를 계산해주세요\\n\\n종합부동산세 세율:\\n{context}'),\n",
    "    ('human', '과세표준과 사용자가 소지한 주택의 수가 아래와 같을 때 종합부동산세를 계산해주세요\\n\\n과세표준: {tax_base}\\n주택 수: {query}')\n",
    "])\n",
    "\n",
    "def calculate_tax_rate(state: AgentState):\n",
    "    query = state['query']\n",
    "    tax_base = state['tax_base'] \n",
    "\n",
    "    context = retriever.invoke(query)\n",
    "\n",
    "    tax_rate_chain = (\n",
    "        tax_rate_calculation_prompt \n",
    "        | llm \n",
    "        | StrOutputParser()\n",
    "    )\n",
    "\n",
    "    tax_rate = tax_rate_chain.invoke({'context': context, 'query': query, 'tax_base': tax_base})\n",
    "\n",
    "    return {'answer': tax_rate}\n"
   ]
  },
  {
   "cell_type": "code",
   "execution_count": 25,
   "id": "bad49139",
   "metadata": {},
   "outputs": [
    {
     "data": {
      "text/plain": [
       "{'answer': '주어진 정보를 바탕으로, 사용자는 3채의 주택을 소유하고 있으며, 과세표준은 15.6억 원입니다. 따라서, \"납세의무자가 3주택 이상을 소유한 경우\"에 해당하는 세율을 적용해야 합니다.\\n\\n과세표준이 12억 원 초과 25억 원 이하인 경우, 3주택 이상 소유자의 세율은 다음과 같습니다:\\n- 기본 세액: 960만 원\\n- 12억 원을 초과하는 금액의 1천분의 20\\n\\n과세표준이 15.6억 원이므로, 12억 원을 초과하는 금액은:\\n- 15.6억 원 - 12억 원 = 3.6억 원\\n\\n따라서 추가 세액은:\\n- 3.6억 원 x (1천분의 20) = 720만 원\\n\\n총 종합부동산세는:\\n- 기본 세액 960만 원 + 추가 세액 720만 원 = 1,680만 원\\n\\n따라서, 사용자는 1,680만 원의 종합부동산세를 납부해야 합니다.'}"
      ]
     },
     "execution_count": 25,
     "metadata": {},
     "output_type": "execute_result"
    }
   ],
   "source": [
    "calculate_tax_rate(\n",
    "    {\n",
    "        'query': query,\n",
    "        'tax_base': tax_base['tax_base'],\n",
    "    }\n",
    ")"
   ]
  },
  {
   "cell_type": "code",
   "execution_count": 26,
   "id": "cacde1a2",
   "metadata": {},
   "outputs": [
    {
     "data": {
      "text/plain": [
       "<langgraph.graph.state.StateGraph at 0x1089763c0>"
      ]
     },
     "execution_count": 26,
     "metadata": {},
     "output_type": "execute_result"
    }
   ],
   "source": [
    "graph_builder.add_node('get_tax_base_equation', get_tax_base_equation)\n",
    "graph_builder.add_node('get_tax_deduction', get_tax_deduction)\n",
    "graph_builder.add_node('get_market_ratio', get_market_ratio)\n",
    "graph_builder.add_node('calculate_tax_base', calculate_tax_base)\n",
    "graph_builder.add_node('calculate_tax_rate', calculate_tax_rate) "
   ]
  },
  {
   "cell_type": "code",
   "execution_count": 29,
   "id": "604f30e8",
   "metadata": {},
   "outputs": [
    {
     "data": {
      "text/plain": [
       "<langgraph.graph.state.StateGraph at 0x1089763c0>"
      ]
     },
     "execution_count": 29,
     "metadata": {},
     "output_type": "execute_result"
    }
   ],
   "source": [
    "from langgraph.graph import START, END \n",
    "\n",
    "graph_builder.add_edge(START, 'get_tax_base_equation')\n",
    "graph_builder.add_edge(START, 'get_tax_deduction')\n",
    "graph_builder.add_edge(START, 'get_market_ratio')\n",
    "graph_builder.add_edge('get_tax_base_equation', 'calculate_tax_base')\n",
    "graph_builder.add_edge('get_tax_deduction', 'calculate_tax_base')\n",
    "graph_builder.add_edge('get_market_ratio', 'calculate_tax_base')\n",
    "graph_builder.add_edge('calculate_tax_base', 'calculate_tax_rate')\n",
    "graph_builder.add_edge('calculate_tax_rate', END)"
   ]
  },
  {
   "cell_type": "code",
   "execution_count": 30,
   "id": "0ec19323",
   "metadata": {},
   "outputs": [],
   "source": [
    "graph = graph_builder.compile()"
   ]
  },
  {
   "cell_type": "code",
   "execution_count": 32,
   "id": "e6a764da",
   "metadata": {},
   "outputs": [
    {
     "name": "stdout",
     "output_type": "stream",
     "text": [
      "                                     +-----------+                                        \n",
      "                                    *| __start__ |**                                      \n",
      "                              ****** +-----------+  ******                                \n",
      "                         *****              *             ******                          \n",
      "                   ******                   *                   ******                    \n",
      "                ***                         *                         ***                 \n",
      "+------------------+           +-----------------------+           +-------------------+  \n",
      "| get_market_ratio |           | get_tax_base_equation |           | get_tax_deduction |  \n",
      "+------------------+*****      +-----------------------+        ***+-------------------+  \n",
      "                         *****              *             ******                          \n",
      "                              ******        *       ******                                \n",
      "                                    ***     *    ***                                      \n",
      "                                 +--------------------+                                   \n",
      "                                 | calculate_tax_base |                                   \n",
      "                                 +--------------------+                                   \n",
      "                                            *                                             \n",
      "                                            *                                             \n",
      "                                            *                                             \n",
      "                                 +--------------------+                                   \n",
      "                                 | calculate_tax_rate |                                   \n",
      "                                 +--------------------+                                   \n",
      "                                            *                                             \n",
      "                                            *                                             \n",
      "                                            *                                             \n",
      "                                      +---------+                                         \n",
      "                                      | __end__ |                                         \n",
      "                                      +---------+                                         \n"
     ]
    }
   ],
   "source": [
    "# from IPython.display import Image, display\n",
    "\n",
    "# display(Image(graph.get_graph().draw_mermaid_png()))\n",
    "graph.get_graph().print_ascii()\n"
   ]
  },
  {
   "cell_type": "code",
   "execution_count": 33,
   "id": "2fe75adb",
   "metadata": {},
   "outputs": [
    {
     "name": "stdout",
     "output_type": "stream",
     "text": [
      "과세표준을 계산하기 위해 주어진 정보를 바탕으로 단계별로 진행해 보겠습니다.\n",
      "\n",
      "1. **공시가격 합계 계산**:\n",
      "   - 5억 원짜리 집 1채\n",
      "   - 10억 원짜리 집 1채\n",
      "   - 20억 원짜리 집 1채\n",
      "\n",
      "   총 공시가격 합계 = 5억 + 10억 + 20억 = 35억 원\n",
      "\n",
      "2. **공제 금액 결정**:\n",
      "   - 사용자가 1세대 1주택자가 아닌 경우로 가정하면, 공제 금액은 9억 원입니다.\n",
      "\n",
      "3. **공정시장가액비율 결정**:\n",
      "   - 5억 원짜리 집: 3억 원 초과 ~ 6억 원 이하이므로 44%\n",
      "   - 10억 원짜리 집: 6억 원 초과이므로 45%\n",
      "   - 20억 원짜리 집: 6억 원 초과이므로 45%\n",
      "\n",
      "   각 주택의 공정시장가액비율에 따라 과세표준을 개별적으로 계산한 후 합산합니다.\n",
      "\n",
      "4. **과세표준 계산**:\n",
      "   각 주택의 과세표준 = (공시가격 - 각 주택에 대한 공제 배분 금액) × 공정시장가액비율\n",
      "\n",
      "   여기서는 공제 금액을 각 집의 비율에 따라 나누어 계산해야 하지만, 일반적으로 전체 공시가격에서 공제 금액을 차감 후 공정시장가액비율을 적용합니다. 따라서:\n",
      "\n",
      "   공시가격 합계 - 공제 금액 = 35억 - 9억 = 26억 원\n",
      "\n",
      "   이 금액을 각 주택의 비율에 따라 적용합니다:\n",
      "\n",
      "   - 5억 원짜리 집의 비율: \\( \\frac{5억}{35억} \\)\n",
      "   - 10억 원짜리 집의 비율: \\( \\frac{10억}{35억} \\)\n",
      "   - 20억 원짜리 집의 비율: \\( \\frac{20억}{35억} \\)\n",
      "\n",
      "   따라서:\n",
      "\n",
      "   - 5억 원짜리 집의 과세표준 = 26억 × \\( \\frac{5}{35} \\) × 44% = 약 1.63억 원\n",
      "   - 10억 원짜리 집의 과세표준 = 26억 × \\( \\frac{10}{35} \\) × 45% = 약 3.34억 원\n",
      "   - 20억 원짜리 집의 과세표준 = 26억 × \\( \\frac{20}{35} \\) × 45% = 약 6.68억 원\n",
      "\n",
      "5. **최종 과세표준 합계**:\n",
      "   - 최종 과세표준 = 1.63억 + 3.34억 + 6.68억 = 약 11.65억 원\n",
      "\n",
      "따라서, 사용자는 이 과세표준을 기준으로 종합부동산세를 부과받게 됩니다. 종합부동산세의 실제 세율은 별도로 적용됩니다.\n"
     ]
    },
    {
     "data": {
      "text/plain": [
       "{'query': '5억짜리 집 1채, 10억짜리 집 1채, 20억짜리 집 1채를 가지고 있을 때 세금을 얼마나 내나요?',\n",
       " 'answer': '주어진 정보를 바탕으로 종합부동산세를 계산하겠습니다. 사용자는 총 3채의 주택을 소유하고 있으며, 과세표준은 약 11.65억 원입니다. 3주택 이상을 소유한 경우의 세율을 적용해야 합니다.\\n\\n과세표준 11.65억 원에 해당하는 세율은 다음과 같습니다:\\n\\n- 6억 원 초과 12억 원 이하: 360만 원 + (6억 원을 초과하는 금액의 1천분의 10)\\n\\n계산 과정:\\n1. 6억 원을 초과하는 금액: 11.65억 원 - 6억 원 = 5.65억 원\\n2. 초과 금액에 대한 세액: 5.65억 원 × 0.001 = 565만 원\\n3. 기본 세액: 360만 원\\n4. 총 세액: 360만 원 + 565만 원 = 925만 원\\n\\n따라서 사용자는 약 925만 원의 종합부동산세를 납부해야 합니다.',\n",
       " 'tax_base_equation': '과세표준 = (공시가격 합계 - 공제 금액) × 공정시장가액비율',\n",
       " 'tax_deduction': '주택에 대한 종합부동산세 계산 시, 1세대 1주택자는 공제금액이 12억 원이며, 그 외의 경우는 9억 원이 공제됩니다. 법인이나 법인으로 간주되는 단체의 경우는 6억 원이 공제됩니다.',\n",
       " 'market_ratio': '오늘 날짜인 2025년 5월 19일에 해당하는 1주택자의 주택 공시가격 공정시장가액비율은 43%에서 45% 사이의 특례 비율이 계속 적용됩니다. 구체적인 비율은 주택의 공시가격에 따라 결정되며, 3억 원 이하일 경우 43%, 3억 원 초과 ~ 6억 원 이하일 경우 44%, 6억 원 초과일 경우 45%가 적용됩니다.',\n",
       " 'tax_base': '과세표준을 계산하기 위해 주어진 정보를 바탕으로 단계별로 진행해 보겠습니다.\\n\\n1. **공시가격 합계 계산**:\\n   - 5억 원짜리 집 1채\\n   - 10억 원짜리 집 1채\\n   - 20억 원짜리 집 1채\\n\\n   총 공시가격 합계 = 5억 + 10억 + 20억 = 35억 원\\n\\n2. **공제 금액 결정**:\\n   - 사용자가 1세대 1주택자가 아닌 경우로 가정하면, 공제 금액은 9억 원입니다.\\n\\n3. **공정시장가액비율 결정**:\\n   - 5억 원짜리 집: 3억 원 초과 ~ 6억 원 이하이므로 44%\\n   - 10억 원짜리 집: 6억 원 초과이므로 45%\\n   - 20억 원짜리 집: 6억 원 초과이므로 45%\\n\\n   각 주택의 공정시장가액비율에 따라 과세표준을 개별적으로 계산한 후 합산합니다.\\n\\n4. **과세표준 계산**:\\n   각 주택의 과세표준 = (공시가격 - 각 주택에 대한 공제 배분 금액) × 공정시장가액비율\\n\\n   여기서는 공제 금액을 각 집의 비율에 따라 나누어 계산해야 하지만, 일반적으로 전체 공시가격에서 공제 금액을 차감 후 공정시장가액비율을 적용합니다. 따라서:\\n\\n   공시가격 합계 - 공제 금액 = 35억 - 9억 = 26억 원\\n\\n   이 금액을 각 주택의 비율에 따라 적용합니다:\\n\\n   - 5억 원짜리 집의 비율: \\\\( \\\\frac{5억}{35억} \\\\)\\n   - 10억 원짜리 집의 비율: \\\\( \\\\frac{10억}{35억} \\\\)\\n   - 20억 원짜리 집의 비율: \\\\( \\\\frac{20억}{35억} \\\\)\\n\\n   따라서:\\n\\n   - 5억 원짜리 집의 과세표준 = 26억 × \\\\( \\\\frac{5}{35} \\\\) × 44% = 약 1.63억 원\\n   - 10억 원짜리 집의 과세표준 = 26억 × \\\\( \\\\frac{10}{35} \\\\) × 45% = 약 3.34억 원\\n   - 20억 원짜리 집의 과세표준 = 26억 × \\\\( \\\\frac{20}{35} \\\\) × 45% = 약 6.68억 원\\n\\n5. **최종 과세표준 합계**:\\n   - 최종 과세표준 = 1.63억 + 3.34억 + 6.68억 = 약 11.65억 원\\n\\n따라서, 사용자는 이 과세표준을 기준으로 종합부동산세를 부과받게 됩니다. 종합부동산세의 실제 세율은 별도로 적용됩니다.'}"
      ]
     },
     "execution_count": 33,
     "metadata": {},
     "output_type": "execute_result"
    }
   ],
   "source": [
    "initial_state = {'query': query}\n",
    "graph.invoke(initial_state)"
   ]
  },
  {
   "cell_type": "code",
   "execution_count": null,
   "id": "03d99ccd",
   "metadata": {},
   "outputs": [],
   "source": []
  }
 ],
 "metadata": {
  "kernelspec": {
   "display_name": ".venv",
   "language": "python",
   "name": "python3"
  },
  "language_info": {
   "codemirror_mode": {
    "name": "ipython",
    "version": 3
   },
   "file_extension": ".py",
   "mimetype": "text/x-python",
   "name": "python",
   "nbconvert_exporter": "python",
   "pygments_lexer": "ipython3",
   "version": "3.13.3"
  }
 },
 "nbformat": 4,
 "nbformat_minor": 5
}
