{
 "cells": [
  {
   "cell_type": "code",
   "execution_count": 1,
   "metadata": {},
   "outputs": [
    {
     "data": {
      "text/plain": [
       "True"
      ]
     },
     "execution_count": 1,
     "metadata": {},
     "output_type": "execute_result"
    }
   ],
   "source": [
    "from dotenv import load_dotenv\n",
    "\n",
    "load_dotenv()"
   ]
  },
  {
   "cell_type": "code",
   "execution_count": 2,
   "metadata": {},
   "outputs": [],
   "source": [
    "from langchain_chroma import Chroma\n",
    "from langchain_openai import OpenAIEmbeddings\n",
    "\n",
    "embedding_function = OpenAIEmbeddings(model='text-embedding-3-large')\n",
    "\n",
    "vector_store = Chroma(\n",
    "    embedding_function=embedding_function,\n",
    "    collection_name = 'income_tax_collection',\n",
    "    persist_directory = './income_tax_collection'\n",
    ")\n",
    "retriever = vector_store.as_retriever(search_kwargs={'k': 3})"
   ]
  },
  {
   "cell_type": "code",
   "execution_count": 3,
   "metadata": {},
   "outputs": [],
   "source": [
    "from typing_extensions import List, TypedDict\n",
    "from langchain_core.documents import Document\n",
    "from langgraph.graph import StateGraph\n",
    "\n",
    "class AgentState(TypedDict):\n",
    "    query: str\n",
    "    context: List[Document]\n",
    "    answer: str\n",
    "    \n",
    "graph_builder = StateGraph(AgentState)"
   ]
  },
  {
   "cell_type": "code",
   "execution_count": 4,
   "metadata": {},
   "outputs": [],
   "source": [
    "def retrieve(state: AgentState) -> AgentState:\n",
    "    \"\"\"\n",
    "    사용자의 질문에 기반하여 벡터 스토어에서 관련 문서를 검색합니다.\n",
    "\n",
    "    Args:\n",
    "        state (AgentState): 사용자의 질문을 포함한 에이전트의 현재 state.\n",
    "\n",
    "    Returns:\n",
    "        AgentState: 검색된 문서가 추가된 state를 반환합니다.\n",
    "    \"\"\"\n",
    "    query = state['query']  # state에서 사용자의 질문을 추출합니다.\n",
    "    docs = retriever.invoke(query)  # 질문과 관련된 문서를 검색합니다.\n",
    "    return {'context': docs}  # 검색된 문서를 포함한 state를 반환합니다."
   ]
  },
  {
   "cell_type": "code",
   "execution_count": 5,
   "metadata": {},
   "outputs": [],
   "source": [
    "from langchain_openai import ChatOpenAI\n",
    "\n",
    "llm = ChatOpenAI(model='gpt-4o')"
   ]
  },
  {
   "cell_type": "code",
   "execution_count": 6,
   "metadata": {},
   "outputs": [
    {
     "name": "stderr",
     "output_type": "stream",
     "text": [
      "/Users/robert/Desktop/langGrahpPrac/.venv/lib/python3.13/site-packages/langsmith/client.py:256: LangSmithMissingAPIKeyWarning: API key must be provided when using hosted LangSmith API\n",
      "  warnings.warn(\n"
     ]
    }
   ],
   "source": [
    "from langchain import hub\n",
    "\n",
    "# RAG 프롬프트를 가져옵니다.\n",
    "generate_prompt = hub.pull(\"rlm/rag-prompt\")\n",
    "\n",
    "def generate(state: AgentState) -> AgentState:\n",
    "    \"\"\"\n",
    "    주어진 state를 기반으로 RAG 체인을 사용하여 응답을 생성합니다.\n",
    "\n",
    "    Args:\n",
    "        state (AgentState): 사용자의 질문과 문맥을 포함한 에이전트의 현재 state.\n",
    "\n",
    "    Returns:\n",
    "        AgentState: 생성된 응답을 포함하는 state를 반환합니다.\n",
    "    \"\"\"\n",
    "    context = state['context']  # state에서 문맥을 추출합니다.\n",
    "    query = state['query']      # state에서 사용자의 질문을 추출합니다.\n",
    "    \n",
    "    # RAG 체인을 구성합니다.\n",
    "    rag_chain = generate_prompt | llm\n",
    "    \n",
    "    # 질문과 문맥을 사용하여 응답을 생성합니다.\n",
    "    response = rag_chain.invoke({'question': query, 'context': context})\n",
    "    \n",
    "    return {'answer': response}  # 생성된 응답을 포함하는 state를 반환합니다."
   ]
  },
  {
   "cell_type": "code",
   "execution_count": 7,
   "metadata": {},
   "outputs": [
    {
     "name": "stderr",
     "output_type": "stream",
     "text": [
      "/Users/robert/Desktop/langGrahpPrac/.venv/lib/python3.13/site-packages/langsmith/client.py:256: LangSmithMissingAPIKeyWarning: API key must be provided when using hosted LangSmith API\n",
      "  warnings.warn(\n"
     ]
    }
   ],
   "source": [
    "from langchain import hub\n",
    "from typing import Literal\n",
    "\n",
    "# 문서 관련성 판단을 위한 프롬프트를 가져옵니다.\n",
    "doc_relevance_prompt = hub.pull(\"langchain-ai/rag-document-relevance\")\n",
    "\n",
    "def check_doc_relevance(state: AgentState) -> Literal['generate', 'rewrite']:\n",
    "    \"\"\"\n",
    "    주어진 state를 기반으로 문서의 관련성을 판단합니다.\n",
    "\n",
    "    Args:\n",
    "        state (AgentState): 사용자의 질문과 문맥을 포함한 에이전트의 현재 state.\n",
    "\n",
    "    Returns:\n",
    "        Literal['generate', 'rewrite']: 문서가 관련성이 높으면 'generate', 그렇지 않으면 'rewrite'를 반환합니다.\n",
    "    \"\"\"\n",
    "    query = state['query']  # state에서 사용자의 질문을 추출합니다.\n",
    "    context = state['context']  # state에서 문맥을 추출합니다.\n",
    "\n",
    "    # 문서 관련성 판단 체인을 구성합니다.\n",
    "    doc_relevance_chain = doc_relevance_prompt | llm\n",
    "    \n",
    "    # 질문과 문맥을 사용하여 문서의 관련성을 판단합니다.\n",
    "    response = doc_relevance_chain.invoke({'question': query, 'documents': context})\n",
    "\n",
    "    # 관련성이 높으면 'generate'를 반환하고, 그렇지 않으면 'rewrite'를 반환합니다.\n",
    "    if response['Score'] == 1:\n",
    "        return 'generate'\n",
    "    \n",
    "    return 'rewrite'"
   ]
  },
  {
   "cell_type": "code",
   "execution_count": 8,
   "metadata": {},
   "outputs": [],
   "source": [
    "from langchain_core.prompts import PromptTemplate\n",
    "from langchain_core.output_parsers import StrOutputParser\n",
    "\n",
    "# 사전 정의: 특정 표현을 다른 표현으로 변환하기 위한 사전입니다.\n",
    "dictionary = ['사람과 관련된 표현 -> 거주자']\n",
    "\n",
    "# 프롬프트 템플릿을 생성합니다. 사용자의 질문을 사전을 참고하여 변경합니다.\n",
    "rewrite_prompt = PromptTemplate.from_template(f\"\"\"\n",
    "사용자의 질문을 보고, 우리의 사전을 참고해서 사용자의 질문을 변경해주세요 \n",
    "사전: {dictionary}                                           \n",
    "질문: {{query}}\n",
    "\"\"\")\n",
    "\n",
    "def rewrite(state: AgentState) -> AgentState:\n",
    "    print(\"rewrite\")\n",
    "    \"\"\"\n",
    "    사용자의 질문을 사전을 참고하여 변경합니다.\n",
    "\n",
    "    Args:\n",
    "        state (AgentState): 사용자의 질문을 포함한 에이전트의 현재 state.\n",
    "\n",
    "    Returns:\n",
    "        AgentState: 변경된 질문을 포함하는 state를 반환합니다.\n",
    "    \"\"\"\n",
    "    query = state['query']  # state에서 사용자의 질문을 추출합니다.\n",
    "    \n",
    "    # 리라이트 체인을 구성합니다. 프롬프트, LLM, 출력 파서를 연결합니다.\n",
    "    rewrite_chain = rewrite_prompt | llm | StrOutputParser()\n",
    "\n",
    "    # 질문을 변경합니다.\n",
    "    response = rewrite_chain.invoke({'query': query})\n",
    "    \n",
    "    return {'query': response}  # 변경된 질문을 포함하는 state를 반환합니다."
   ]
  },
  {
   "cell_type": "code",
   "execution_count": 9,
   "metadata": {},
   "outputs": [
    {
     "data": {
      "text/plain": [
       "<langgraph.graph.state.StateGraph at 0x10f112900>"
      ]
     },
     "execution_count": 9,
     "metadata": {},
     "output_type": "execute_result"
    }
   ],
   "source": [
    "graph_builder.add_node('retrieve', retrieve)\n",
    "graph_builder.add_node('generate', generate)\n",
    "graph_builder.add_node('rewrite', rewrite)"
   ]
  },
  {
   "cell_type": "code",
   "execution_count": 10,
   "metadata": {},
   "outputs": [
    {
     "data": {
      "text/plain": [
       "<langgraph.graph.state.StateGraph at 0x10f112900>"
      ]
     },
     "execution_count": 10,
     "metadata": {},
     "output_type": "execute_result"
    }
   ],
   "source": [
    "from langgraph.graph import START, END\n",
    "\n",
    "graph_builder.add_edge(START, 'retrieve')\n",
    "graph_builder.add_conditional_edges('retrieve', check_doc_relevance)\n",
    "graph_builder.add_edge('rewrite', 'retrieve')\n",
    "graph_builder.add_edge('generate', END)"
   ]
  },
  {
   "cell_type": "code",
   "execution_count": 11,
   "metadata": {},
   "outputs": [],
   "source": [
    "graph = graph_builder.compile()"
   ]
  },
  {
   "cell_type": "code",
   "execution_count": 12,
   "metadata": {},
   "outputs": [
    {
     "name": "stdout",
     "output_type": "stream",
     "text": [
      "          +-----------+             \n",
      "          | __start__ |             \n",
      "          +-----------+             \n",
      "                 *                  \n",
      "                 *                  \n",
      "                 *                  \n",
      "           +----------+             \n",
      "           | retrieve |             \n",
      "           +----------+             \n",
      "          ***         ..            \n",
      "         *              ..          \n",
      "       **                 .         \n",
      "+---------+           +----------+  \n",
      "| rewrite |           | generate |  \n",
      "+---------+           +----------+  \n",
      "                            *       \n",
      "                            *       \n",
      "                            *       \n",
      "                      +---------+   \n",
      "                      | __end__ |   \n",
      "                      +---------+   \n"
     ]
    }
   ],
   "source": [
    "graph.get_graph().print_ascii()\n"
   ]
  },
  {
   "cell_type": "code",
   "execution_count": 13,
   "metadata": {},
   "outputs": [
    {
     "data": {
      "text/plain": [
       "{'query': '연봉 5천만원 세금',\n",
       " 'context': [Document(metadata={'source': './documents/income_tax.txt'}, page_content='나. 가목 외의 경우: 연 7만원\\n⑨ 제1항부터 제8항까지의 규정에 따른 공제율 “특별세액공제”라 한다.\\n⑩ 특별세액공제에 관하여 그 밖에 필요한 사항은 대통령령으로 정한다.\\n[본조신설 2014. 1. 1.]\\n제59조의5(세액의 감면) ① 종합소득금액 중 다음 각 호의 어느 하나의 소득이 있을 때에는 종합소득 산출세액에서 그 세액에 해당 근로소득금액 또는 사업소득금액이 종합소득금액에 차지하는 비율을 곱하여 계산한 금액 상당액을 감면한다. <개정 2013. 1. 1.>\\n1. 정부 간의 협약에 따라 우리나라에 파견된 외국인으로 양쪽 또는 한쪽 당사국의 정부로부터 받는 금액\\n\\n거주자 중 대한민국 국적을 가지지 아니한 자가 대통령령으로 정하는 선박과 항공기의 외국항행사업으로부터 얻는 소득. 다만, 그 거주자가 국적지국(國籍地主)에서 대한민국 국민이 운영하는 선박과 항공기에 대해서도 동일'),\n",
       "  Document(metadata={'source': './documents/income_tax.txt'}, page_content='근속연수에 따라 정한 다음의 금액\\n\\n| 근속연수             | 공제액                                                                                                                                                                          |\\n|----------------------|---------------------------------------------------------------------------------------------------------------------------------------------------------------------------------|\\n| 5년 이하             | 100만원×근속연수                                                                                                                                                                |\\n| 5년 초과 10년 이하   | 500만원+200만원×(근속연수－5년)                                                                                                                                                |\\n| 10년 초과 20년 이하  | 1천500만원+250만원×(근속연수－10년)                                                                                                                                             |\\n| 20년 초과            | 4천만원+300만원×(근속연수－20년)                                                                                                                                               |\\n\\n환산급여에 따라 정한 다음의 금액'),\n",
       "  Document(metadata={'source': './documents/income_tax.txt'}, page_content='| 1,400만원 초과     | 84만원 + (1,400만원을 초과하는 금액의 15퍼센트)                    |\\n| 5,000만원 이하     | 624만원 + (5,000만원을 초과하는 금액의 24퍼센트)                  |\\n| 8,800만원 이하     | 1,536만원 + (8,800만원을 초과하는 금액의 35퍼센트)                |\\n| 1억5천만원 이하    | 3,706만원 + (1억5천만원을 초과하는 금액의 38퍼센트)                |\\n| 3억원 이하        | 9,406만원 + (3억원을 초과하는 금액의 40퍼센트)                    |\\n| 5억원 이하        | 1억7,406만원 + (5억원을 초과하는 금액의 42퍼센트)                 |\\n| 10억원 이하       | 3억3,406만원 + (10억원을 초과하는 금액의 45퍼센트)                |\\n법제처 35 국가법령정보센터\\n소득세법\\n② 거주자의 퇴직소득에 대한 소득세는 다음 각 호의 순서에 따라 계산한 금액(이하 \"퇴직소득 산출세액\"이라 한다)으로 한다. <개정 2013. 1. 1, 2014. 12. 23.>\\n   1. 해당 과세기간의 퇴직소득과세표준에 제11항의 세율을 적용하여 계산한 금액\\n   2. 제1호의 금액을 12로 나눈 금액에 근속연수를 곱한 금액\\n   3. 삭제 <2014. 12. 23.>\\n   [전문개정 2009. 12. 31.]\\n제2관 세액공제 <개정 2009. 12. 31.>\\n제56조(배당세액공제) ① 거주자의 종합소득금액에 제17조제3항 각 호 외의 부분 단서가 적용되는 배당소득금액이 합산되어 있는 경우에는 같은 항 각 호 외의 부분 단서에 따라 해당 과세기간의 총수입금액에 대한 금액에 해당하는 금액을 종합소득 산출세액에서 공제한다. <개정 2009. 12. 31.>\\n   1. 제1항에 따른 공제를 \"배당세액공제\"라 한다. <개정 2009. 12. 31.>\\n   2. 삭제 <2006. 12. 30.>\\n   3. 제1항을 적용할 때 배당세액공제의 대상이 되는 배당소득금액은 제14조제3항의 종합소득과세표준에 포함된 배당소득금액으로서 이자소득 등의 종합과세기준금액을 초과하는 것으로 한한다. <개정 2009. 12. 31.>\\n② 삭제 <2006. 12. 30.>\\n③ 배당세액공제액의 계산 등에 필요한 사항은 대통령령으로 정한다. <개정 2009. 12. 31.>\\n   [제목개정 2009. 12. 31.]')],\n",
       " 'answer': AIMessage(content='연봉 5천만 원에 대한 소득세는 624만 원입니다.', additional_kwargs={'refusal': None}, response_metadata={'token_usage': {'completion_tokens': 19, 'prompt_tokens': 1342, 'total_tokens': 1361, 'completion_tokens_details': {'accepted_prediction_tokens': 0, 'audio_tokens': 0, 'reasoning_tokens': 0, 'rejected_prediction_tokens': 0}, 'prompt_tokens_details': {'audio_tokens': 0, 'cached_tokens': 0}}, 'model_name': 'gpt-4o-2024-08-06', 'system_fingerprint': 'fp_d8864f8b6b', 'finish_reason': 'stop', 'logprobs': None}, id='run-58f24f30-3b1b-4b32-8234-9698fb006fe1-0', usage_metadata={'input_tokens': 1342, 'output_tokens': 19, 'total_tokens': 1361, 'input_token_details': {'audio': 0, 'cache_read': 0}, 'output_token_details': {'audio': 0, 'reasoning': 0}})}"
      ]
     },
     "execution_count": 13,
     "metadata": {},
     "output_type": "execute_result"
    }
   ],
   "source": [
    "initial_state = {'query': '연봉 5천만원 세금'}\n",
    "graph.invoke(initial_state)"
   ]
  },
  {
   "cell_type": "code",
   "execution_count": null,
   "metadata": {},
   "outputs": [
    {
     "name": "stdout",
     "output_type": "stream",
     "text": [
      "/Users/robert/Desktop/langGrahpPrac/.venv/bin/python: No module named uv\n",
      "Note: you may need to restart the kernel to use updated packages.\n"
     ]
    }
   ],
   "source": []
  },
  {
   "cell_type": "code",
   "execution_count": null,
   "metadata": {},
   "outputs": [],
   "source": []
  }
 ],
 "metadata": {
  "kernelspec": {
   "display_name": ".venv",
   "language": "python",
   "name": "python3"
  },
  "language_info": {
   "codemirror_mode": {
    "name": "ipython",
    "version": 3
   },
   "file_extension": ".py",
   "mimetype": "text/x-python",
   "name": "python",
   "nbconvert_exporter": "python",
   "pygments_lexer": "ipython3",
   "version": "3.13.3"
  }
 },
 "nbformat": 4,
 "nbformat_minor": 2
}
