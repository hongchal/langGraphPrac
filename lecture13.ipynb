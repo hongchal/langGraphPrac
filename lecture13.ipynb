{
 "cells": [
  {
   "cell_type": "code",
   "execution_count": 1,
   "metadata": {},
   "outputs": [
    {
     "data": {
      "text/plain": [
       "True"
      ]
     },
     "execution_count": 1,
     "metadata": {},
     "output_type": "execute_result"
    }
   ],
   "source": [
    "from dotenv import load_dotenv \n",
    "\n",
    "load_dotenv()"
   ]
  },
  {
   "cell_type": "code",
   "execution_count": 2,
   "metadata": {},
   "outputs": [],
   "source": [
    "from langchain_openai import ChatOpenAI \n",
    "from langchain_core.prompts import PromptTemplate\n",
    "from langchain_core.output_parsers import StrOutputParser\n",
    "\n",
    "llm = ChatOpenAI(model='gpt-4o')\n",
    "small_llm = ChatOpenAI(model='gpt-4o-mini')"
   ]
  },
  {
   "cell_type": "code",
   "execution_count": 3,
   "metadata": {},
   "outputs": [],
   "source": [
    "from langchain_core.tools import tool\n",
    "\n",
    "@tool\n",
    "def add(a: int, b: int) -> int:\n",
    "    \"\"\"숫자 a와 b를 더합니다.\"\"\"\n",
    "    return a + b\n",
    "\n",
    "@tool\n",
    "def multiply(a: int, b: int) -> int:\n",
    "    \"\"\"숫자 a와 b를 곱합니다.\"\"\"\n",
    "    return a * b\n",
    "\n",
    "@tool\n",
    "def translate_to_korean(query: str) -> str:\n",
    "    \"\"\"translate the query to korean\"\"\"\n",
    "    translate_prompt = PromptTemplate.from_template(\n",
    "        \"translate the following sentence to korean:\\n\\n{query}\"\n",
    "    )\n",
    "    translate_chain = translate_prompt | llm | StrOutputParser()\n",
    "    return translate_chain.invoke({\"query\": query})"
   ]
  },
  {
   "cell_type": "code",
   "execution_count": 4,
   "metadata": {},
   "outputs": [],
   "source": [
    "from langchain_community.tools import DuckDuckGoSearchRun\n",
    "\n",
    "search_tool = DuckDuckGoSearchRun()"
   ]
  },
  {
   "cell_type": "code",
   "execution_count": 5,
   "metadata": {},
   "outputs": [],
   "source": [
    "from langchain_google_community import GmailToolkit\n",
    "\n",
    "from langchain_google_community.gmail.utils import (\n",
    "    build_resource_service,\n",
    "    get_gmail_credentials,\n",
    ")\n",
    "\n",
    "# Can review scopes here https://developers.google.com/gmail/api/auth/scopes\n",
    "# For instance, readonly scope is 'https://www.googleapis.com/auth/gmail.readonly'\n",
    "credentials = get_gmail_credentials(\n",
    "    token_file=\"./google/gmail_token.json\",\n",
    "    scopes=[\"https://mail.google.com/\"],\n",
    "    client_secrets_file=\"./google/gmail_credentials.json\",\n",
    ")\n",
    "api_resource = build_resource_service(credentials=credentials)\n",
    "gmail_toolkit = GmailToolkit(api_resource=api_resource)\n",
    "gmail_tool_list = gmail_toolkit.get_tools()\n"
   ]
  },
  {
   "cell_type": "code",
   "execution_count": 6,
   "metadata": {},
   "outputs": [],
   "source": [
    "from langchain.agents import load_tools\n",
    "\n",
    "loaded_tool_list = load_tools(\n",
    "    [\"arxiv\"],\n",
    ")"
   ]
  },
  {
   "cell_type": "code",
   "execution_count": 7,
   "metadata": {},
   "outputs": [],
   "source": [
    "from langchain_chroma import Chroma \n",
    "from langchain_openai import OpenAIEmbeddings  \n",
    "from langchain_core.tools.retriever import create_retriever_tool\n",
    "\n",
    "embeddings = OpenAIEmbeddings(model='text-embedding-3-large')\n",
    "vector_store = Chroma(\n",
    "    embedding_function=embeddings,\n",
    "    collection_name = 'real_estate_tax',\n",
    "    persist_directory='./real_estate_tax_collection'\n",
    ")\n",
    "\n",
    "retriever = vector_store.as_retriever(search_kwargs={\"k\": 3})\n",
    "\n",
    "retriever_tool = create_retriever_tool(\n",
    "    retriever=retriever,\n",
    "    name='real_estate_tax_retriever',\n",
    "    description='Contains information about real estate tax up to December 2024',\n",
    ")\n"
   ]
  },
  {
   "cell_type": "code",
   "execution_count": 8,
   "metadata": {},
   "outputs": [],
   "source": [
    "from langgraph.prebuilt import ToolNode\n",
    "\n",
    "tool_list = [add, multiply, search_tool, retriever_tool] + gmail_tool_list + loaded_tool_list\n",
    "llm_with_tools = small_llm.bind_tools(tool_list)\n",
    "tool_node = ToolNode(tool_list)"
   ]
  },
  {
   "cell_type": "code",
   "execution_count": null,
   "metadata": {},
   "outputs": [],
   "source": []
  },
  {
   "cell_type": "code",
   "execution_count": 9,
   "metadata": {},
   "outputs": [],
   "source": [
    "from langgraph.graph import MessagesState, StateGraph\n",
    "\n",
    "class AgentState(MessagesState):\n",
    "    summary: str\n",
    "\n",
    "graph_builder = StateGraph(AgentState)"
   ]
  },
  {
   "cell_type": "code",
   "execution_count": 10,
   "metadata": {},
   "outputs": [],
   "source": [
    "from langchain_core.messages import SystemMessage\n",
    "\n",
    "def agent(state: AgentState) -> AgentState:\n",
    "    \"\"\"\n",
    "    이 에이전트 함수는 주어진 상태에서 메시지를 가져와\n",
    "    LLM과 도구를 사용하여 응답 메시지를 생성합니다.\n",
    "\n",
    "    Args:\n",
    "        state (MessagesState): 메시지 기록과 요약을 포함하는 상태.\n",
    "\n",
    "    Returns:\n",
    "        MessagesState: 응답 메시지를 포함하는 새로운 상태.\n",
    "    \"\"\"\n",
    "    messages = state['messages']\n",
    "    summary = state['summary']\n",
    "    if summary != '':\n",
    "        messages = [SystemMessage(content=f'Here is the summary of the earlier conversation: {summary}')] + messages\n",
    "    response = llm_with_tools.invoke(messages)\n",
    "    return {'messages': [response]}"
   ]
  },
  {
   "cell_type": "code",
   "execution_count": 11,
   "metadata": {},
   "outputs": [],
   "source": [
    "from typing import Literal\n",
    "from langgraph.types import interrupt, Command\n",
    "\n",
    "def human_review(state: AgentState) -> Command[Literal['tools', 'agent']]:\n",
    "    \"\"\"\n",
    "    human_review node는 LLM의 도구 호출에 대해 사람의 검토를 요청합니다.\n",
    "\n",
    "    Args:\n",
    "        state (AgentState): 메시지 기록을 포함하는 state.\n",
    "\n",
    "    Returns:\n",
    "        Command: 다음 node로 이동하기 위한 Command를 반환합니다.\n",
    "    \"\"\"\n",
    "    messages = state['messages']\n",
    "    last_message = messages[-1]\n",
    "    tool_call = last_message.tool_calls[-1]\n",
    "    human_review = interrupt({\n",
    "        'question': '이렇게 진행하면 될까요?',\n",
    "        'tool_call': tool_call\n",
    "    })\n",
    "    review_action = human_review['action']\n",
    "    review_data = human_review.get('data', None)\n",
    "    \n",
    "    if review_action == 'continue':\n",
    "        # 에이전트의 판단이 맞다면, 도구를 사용하기 위해 아무것도 수정하지 않고 `tools` 노드로 이동합니다\n",
    "        return Command(goto='tools')\n",
    "    \n",
    "    if review_action == 'update_args':\n",
    "        # 도구를 더 효율적으로 사용하기 위해 AIMessage의 `tool_calls` 필드를 업데이트합니다\n",
    "        updated_ai_message = {\n",
    "            'id': last_message.id,\n",
    "            'role': 'ai',\n",
    "            'content': last_message.content,\n",
    "            'tool_calls': [{\n",
    "                'id': tool_call['id'],\n",
    "                'name': tool_call['name'],\n",
    "                'args': review_data\n",
    "            }],\n",
    "        }\n",
    "        return Command(goto='tools', update={'messages': [updated_ai_message]})\n",
    "    \n",
    "    if review_action == 'update_tool':\n",
    "        # 다른 도구를 사용하기 위해 `ToolMessage`를 업데이트합니다 \n",
    "        updated_tool_message = {\n",
    "            'tool_call_id': tool_call['id'],\n",
    "            'name': tool_call['name'],\n",
    "            'role': 'tool',\n",
    "            'content': review_data\n",
    "        }\n",
    "        return Command(goto='agent', update={'messages': [updated_tool_message]})\n"
   ]
  },
  {
   "cell_type": "code",
   "execution_count": 12,
   "metadata": {},
   "outputs": [],
   "source": [
    "def summarize_messages(state: AgentState): \n",
    "    messages = state['messages']\n",
    "    summary = state['summary']\n",
    "    summary_prompt = f'summarize this chat history below: \\n\\nchat history \" {messages}'\n",
    "\n",
    "    if summary != '':\n",
    "        summary_prompt = f'''summarize this chat history below while looking at the summary of ealier conversations\n",
    "        chat_history:{messages}\n",
    "        summary:{summary}'''\n",
    "\n",
    "    # response = llm_with_tools.invoke(messages)\n",
    "    # return {'summary': response.content}\n",
    "    \n",
    "    summary = small_llm.invoke(summary_prompt)\n",
    "    return {'summary': summary.content}\n"
   ]
  },
  {
   "cell_type": "code",
   "execution_count": 13,
   "metadata": {},
   "outputs": [],
   "source": [
    "from langchain_core.messages import RemoveMessage\n",
    "\n",
    "def delete_messages(state: AgentState):\n",
    "    \"\"\"\n",
    "    주어진 state에서 오래된 메시지를 삭제합니다.\n",
    "\n",
    "    Args:\n",
    "        state (AgentState): 메시지를 포함하는 state.\n",
    "\n",
    "    Returns:\n",
    "        AgentState: 삭제된 메시지를 포함하는 새로운 state.\n",
    "    \"\"\"\n",
    "    messages = state['messages']\n",
    "    delete_messages = [RemoveMessage(id=message.id) for message in messages[:-3]]\n",
    "    return {'messages': delete_messages}"
   ]
  },
  {
   "cell_type": "code",
   "execution_count": 14,
   "metadata": {},
   "outputs": [],
   "source": [
    "def should_continue(state: MessagesState):\n",
    "    \"\"\"\n",
    "    주어진 state에 따라 다음 단계로 진행할지를 결정합니다.\n",
    "\n",
    "    Args:\n",
    "        state (AgentState): 메시지와 도구 호출 정보를 포함하는 state.\n",
    "\n",
    "    Returns:\n",
    "        Literal['tools', 'summarize_messages']: 다음 단계로 'tools' 또는 'summarize_messages'를 반환합니다.\n",
    "    \"\"\"\n",
    "    messages = state['messages']\n",
    "    last_ai_message = messages[-1]\n",
    "    if last_ai_message.tool_calls:\n",
    "        return 'human_review'\n",
    "    \n",
    "    return 'summarize_messages'"
   ]
  },
  {
   "cell_type": "code",
   "execution_count": 15,
   "metadata": {},
   "outputs": [
    {
     "data": {
      "text/plain": [
       "<langgraph.graph.state.StateGraph at 0x12ae73770>"
      ]
     },
     "execution_count": 15,
     "metadata": {},
     "output_type": "execute_result"
    }
   ],
   "source": [
    "graph_builder.add_node('agent', agent)\n",
    "graph_builder.add_node('tools', tool_node)\n",
    "graph_builder.add_node(human_review)\n",
    "graph_builder.add_node(delete_messages)\n",
    "graph_builder.add_node(summarize_messages)"
   ]
  },
  {
   "cell_type": "code",
   "execution_count": 16,
   "metadata": {},
   "outputs": [
    {
     "data": {
      "text/plain": [
       "<langgraph.graph.state.StateGraph at 0x12ae73770>"
      ]
     },
     "execution_count": 16,
     "metadata": {},
     "output_type": "execute_result"
    }
   ],
   "source": [
    "from langgraph.graph import START, END\n",
    "\n",
    "\n",
    "graph_builder.add_edge(START, 'agent')\n",
    "graph_builder.add_conditional_edges(\n",
    "    'agent',\n",
    "    should_continue,\n",
    "    ['human_review', 'summarize_messages']\n",
    ")\n",
    "graph_builder.add_edge('tools', 'agent')\n",
    "graph_builder.add_edge('summarize_messages', 'delete_messages')\n",
    "graph_builder.add_edge('delete_messages', END)"
   ]
  },
  {
   "cell_type": "code",
   "execution_count": 17,
   "metadata": {},
   "outputs": [],
   "source": [
    "from langgraph.checkpoint.memory import MemorySaver\n",
    "\n",
    "checkpointer = MemorySaver()\n",
    "\n",
    "graph= graph_builder.compile(checkpointer=checkpointer)"
   ]
  },
  {
   "cell_type": "code",
   "execution_count": 18,
   "metadata": {},
   "outputs": [
    {
     "data": {
      "image/png": "[encoded data removed]",
      "text/plain": [
       "<IPython.core.display.Image object>"
      ]
     },
     "metadata": {},
     "output_type": "display_data"
    }
   ],
   "source": [
    "from IPython.display import Image, display\n",
    "\n",
    "display(Image(graph.get_graph().draw_mermaid_png()))"
   ]
  },
  {
   "cell_type": "code",
   "execution_count": 19,
   "metadata": {},
   "outputs": [
    {
     "name": "stdout",
     "output_type": "stream",
     "text": [
      "================================\u001b[1m Human Message \u001b[0m=================================\n",
      "\n",
      "LLM Survey 논문의 내용을 검색해서 요약해주세요\n",
      "==================================\u001b[1m Ai Message \u001b[0m==================================\n",
      "Tool Calls:\n",
      "  arxiv (call_82LpvtE9QXmmjfGzKzButBSd)\n",
      " Call ID: call_82LpvtE9QXmmjfGzKzButBSd\n",
      "  Args:\n",
      "    query: LLM Survey\n"
     ]
    }
   ],
   "source": [
    "from langchain_core.messages import HumanMessage\n",
    "\n",
    "config = {\n",
    "    'configurable': {\n",
    "        'thread_id': 'summarize_paper'\n",
    "    }\n",
    "}\n",
    "\n",
    "query = 'LLM Survey 논문의 내용을 검색해서 요약해주세요'\n",
    "for chunk in graph.stream({'messages': [HumanMessage(query)], 'summary': ''}, config=config, stream_mode='values'):\n",
    "    chunk['messages'][-1].pretty_print()"
   ]
  },
  {
   "cell_type": "code",
   "execution_count": 20,
   "metadata": {},
   "outputs": [
    {
     "name": "stdout",
     "output_type": "stream",
     "text": [
      "{'human_review': {'messages': [{'tool_call_id': 'call_82LpvtE9QXmmjfGzKzButBSd', 'name': 'arxiv', 'role': 'tool', 'content': 'arxiv말고 web에서 검색해주세요'}]}}\n",
      "{'agent': {'messages': [AIMessage(content='', additional_kwargs={'tool_calls': [{'id': 'call_VqVOH4ab0moCS8FmwJKM62c2', 'function': {'arguments': '{\"query\":\"LLM Survey paper summary\"}', 'name': 'duckduckgo_search'}, 'type': 'function'}], 'refusal': None}, response_metadata={'token_usage': {'completion_tokens': 21, 'prompt_tokens': 779, 'total_tokens': 800, 'completion_tokens_details': {'accepted_prediction_tokens': 0, 'audio_tokens': 0, 'reasoning_tokens': 0, 'rejected_prediction_tokens': 0}, 'prompt_tokens_details': {'audio_tokens': 0, 'cached_tokens': 0}}, 'model_name': 'gpt-4o-mini-2024-07-18', 'system_fingerprint': 'fp_54eb4bd693', 'finish_reason': 'tool_calls', 'logprobs': None}, id='run-68b22d82-6757-4b9f-bab7-d477aef12fc8-0', tool_calls=[{'name': 'duckduckgo_search', 'args': {'query': 'LLM Survey paper summary'}, 'id': 'call_VqVOH4ab0moCS8FmwJKM62c2', 'type': 'tool_call'}], usage_metadata={'input_tokens': 779, 'output_tokens': 21, 'total_tokens': 800, 'input_token_details': {'audio': 0, 'cache_read': 0}, 'output_token_details': {'audio': 0, 'reasoning': 0}})]}}\n",
      "{'__interrupt__': (Interrupt(value={'question': '이렇게 진행하면 될까요?', 'tool_call': {'name': 'duckduckgo_search', 'args': {'query': 'LLM Survey paper summary'}, 'id': 'call_VqVOH4ab0moCS8FmwJKM62c2', 'type': 'tool_call'}}, resumable=True, ns=['human_review:33d404e2-faaf-4a9b-4336-b794d0c03a23'], when='during'),)}\n"
     ]
    }
   ],
   "source": [
    "for chunk in graph.stream(\n",
    "    Command(resume={\"action\": \"update_tool\", \"data\": \"arxiv말고 web에서 검색해주세요\"}),\n",
    "    config,\n",
    "    stream_mode=\"updates\",\n",
    "):\n",
    "    print(chunk)"
   ]
  },
  {
   "cell_type": "code",
   "execution_count": 21,
   "metadata": {},
   "outputs": [
    {
     "name": "stdout",
     "output_type": "stream",
     "text": [
      "chunk == {'human_review': None}\n"
     ]
    },
    {
     "name": "stderr",
     "output_type": "stream",
     "text": [
      "/Users/robert/Desktop/langGrahpPrac/.venv/lib/python3.13/site-packages/langchain_community/utilities/duckduckgo_search.py:64: UserWarning: 'api' backend is deprecated, using backend='auto'\n",
      "  ddgs_gen = ddgs.text(\n"
     ]
    },
    {
     "name": "stdout",
     "output_type": "stream",
     "text": [
      "chunk == {'tools': {'messages': [ToolMessage(content='2024. 2. 9. ... We also give an overview of techniques developed to build, and augment LLMs. We then survey popular datasets prepared for LLM training, fine-\\xa0... 2024. 9. 18. ... Figure 7:High-level overview of GPT pretraining, and fine-tuning steps. Courtesy of OpenAI. 2-B. Large Language Model Families. LLM: 주로 수백억\\xa0... 2023. 4. 6. ... 대규모 언어 모델(LLM): GPT-4, ChatGPT, PaLM, Sparrow, Claude, Microsoft 365의 AI와 같은 대규모 PLM 등. Characteristics. The paper describes 3\\xa0... 2023. 3. 31. ... Abstract page for arXiv paper 2303.18223: A Survey of Large Language Models. ... (LLM) for the PLMs of significant size. Recently, the\\xa0... 2025. 4. 6. ... ... Overview, Link. When Text Embedding Meets Large Language Model: A Comprehensive Survey, Link. LLM Evaluation. Paper, Link. LLMs-as-Judges: A\\xa0...', name='duckduckgo_search', id='2d6046c5-4580-4947-acd2-4d1748d37177', tool_call_id='call_VqVOH4ab0moCS8FmwJKM62c2')]}}\n",
      "chunk == {'agent': {'messages': [AIMessage(content='\"LLM Survey\" 논문에 대한 요약은 다음과 같습니다:\\n\\n1. **대규모 언어 모델(LLM)의 정의**: LLM은 수백억 개의 매개변수를 가진 모델로, GPT-4, ChatGPT, PaLM, Sparrow, Claude, Microsoft 365의 AI와 같은 다양한 모델이 포함됩니다.\\n\\n2. **기술 개요**: 논문은 LLM을 구축하고 보강하기 위해 개발된 다양한 기술들을 소개합니다.\\n\\n3. **데이터셋**: LLM 훈련 및 미세 조정을 위해 준비된 인기 있는 데이터셋에 대한 조사를 포함합니다.\\n\\n4. **모델 가족**: 다양한 LLM 모델의 특징과 이를 구성하는 요소들에 대한 설명이 포함되어 있습니다.\\n\\n이 논문은 LLM의 발전과 최근의 연구 동향에 대한 포괄적인 이해를 제공합니다.', additional_kwargs={'refusal': None}, response_metadata={'token_usage': {'completion_tokens': 191, 'prompt_tokens': 1063, 'total_tokens': 1254, 'completion_tokens_details': {'accepted_prediction_tokens': 0, 'audio_tokens': 0, 'reasoning_tokens': 0, 'rejected_prediction_tokens': 0}, 'prompt_tokens_details': {'audio_tokens': 0, 'cached_tokens': 0}}, 'model_name': 'gpt-4o-mini-2024-07-18', 'system_fingerprint': 'fp_54eb4bd693', 'finish_reason': 'stop', 'logprobs': None}, id='run-55eb6071-938c-4e4f-9325-209fff1154bb-0', usage_metadata={'input_tokens': 1063, 'output_tokens': 191, 'total_tokens': 1254, 'input_token_details': {'audio': 0, 'cache_read': 0}, 'output_token_details': {'audio': 0, 'reasoning': 0}})]}}\n",
      "chunk == {'summarize_messages': {'summary': 'In this chat history, a user requested a summary of the \"LLM Survey\" paper. The AI initially attempted to search for the paper using arXiv but was instructed to search the web instead. After conducting a search, the AI provided a summary that included:\\n\\n1. **Definition of Large Language Models (LLM)**: Describes LLMs as models with hundreds of billions of parameters, including examples like GPT-4, ChatGPT, PaLM, Sparrow, Claude, and Microsoft 365\\'s AI.\\n2. **Overview of Techniques**: Discusses various techniques developed for building and enhancing LLMs.\\n3. **Datasets**: Surveys popular datasets prepared for training and fine-tuning LLMs.\\n4. **Model Families**: Explains the characteristics and components of different LLM models.\\n\\nThe summary aims to give a comprehensive understanding of the advancements and recent research trends in LLMs.'}}\n",
      "chunk == {'delete_messages': {'messages': [RemoveMessage(content='', additional_kwargs={}, response_metadata={}, id='c9bdfa23-d31a-456e-b8f9-1e8382341231'), RemoveMessage(content='', additional_kwargs={}, response_metadata={}, id='run-c835d364-4a46-4c31-a39d-b543d294acd8-0'), RemoveMessage(content='', additional_kwargs={}, response_metadata={}, id='cf78afa7-9140-4ffc-89d3-ff037c9711bb')]}}\n"
     ]
    }
   ],
   "source": [
    "for chunk in graph.stream(\n",
    "    Command(resume={\"action\": \"continue\"}),\n",
    "    config,\n",
    "    stream_mode=\"updates\",\n",
    "):\n",
    "    print(f'chunk == {chunk}')"
   ]
  },
  {
   "cell_type": "code",
   "execution_count": null,
   "metadata": {},
   "outputs": [],
   "source": []
  }
 ],
 "metadata": {
  "kernelspec": {
   "display_name": ".venv",
   "language": "python",
   "name": "python3"
  },
  "language_info": {
   "codemirror_mode": {
    "name": "ipython",
    "version": 3
   },
   "file_extension": ".py",
   "mimetype": "text/x-python",
   "name": "python",
   "nbconvert_exporter": "python",
   "pygments_lexer": "ipython3",
   "version": "3.13.3"
  }
 },
 "nbformat": 4,
 "nbformat_minor": 2
}
